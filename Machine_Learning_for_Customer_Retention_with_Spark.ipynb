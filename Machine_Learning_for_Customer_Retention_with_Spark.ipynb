{
  "cells": [
    {
      "cell_type": "markdown",
      "metadata": {
        "id": "QAMzFvPiC3sR"
      },
      "source": [
        "# Finding Repeat Customers\n",
        "\n",
        "After using Spark SQL to answer business questions about their data, Distributed Discounts is convinced in the power of big data and Spark. They have been collecting more data and hope that this data can be used to predict whether a first-time customer will be a repeat buyer. They figure that if they can predict this, then they can appropriately advertise to those customers. Our job is to build this machine learning model and use it to predict which customers will be repeat buyers!\n",
        "\n",
        "### Plan of Action\n",
        "\n",
        "1. Read the Data Dictionary to understand the format of the new data files.\n",
        "2. Create a SparkSession and import the data to Python as Spark DataFrames, making sure to consider the schema of our DataFrames. Join the data into new tables as necessary.\n",
        "3. Clean and preprocess the labeled data for use in a machine learning model. Create a preprocessing pipeline to handle non-numeric features. During this step, consider whether there are any features we don't want to use and justify our decision.\n",
        "4. Split the labeled data into training and test sets. Train and evaluate a logistic regression model using these datasets.\n",
        "5. Use our model to predict whether or not customers in the unlabeled dataset will be repeat customers.\n",
        "6. Create a PowerPoint presentation for the Distributed Discounts team describing the work that we did, the decisions that we had to make along the way, and the outcome of the project.\n",
        "\n",
        "### Data Dictionary\n",
        "\n",
        "- `capstone_customers.csv`: A dataset containing historical data about Distributed Discounts' customers. It contains fields for `customer_id`, `customer_invoices`, and whether or not the customer was a `repeat_customer`.\n",
        "- `capstone_invoices.csv`: A dataset containing historical data about orders made from Distributed Discounts. Each row contains information about the order, including a `customer_id` field which can be joined with the customers data.\n",
        "- `capstone_recent_customers.csv`: A dataset containing information about recent customers. This contains similar information as the `capstone_customers` dataset, but it is missing the `repeat_customer` field because these are brand new customers. The goal is to use your machine learning model to predict whether these customers will be repeat customers.\n",
        "- `capstone_recent_invoices.csv`: A dataset containing information about orders made by recent customers. This dataset is very similar to `capstone_invoices.csv`, but it contains data that can be joined to the recent customers data."
      ]
    },
    {
      "cell_type": "markdown",
      "metadata": {
        "id": "BdgCyWZNC3sU"
      },
      "source": [
        "### Create a SparkSession and Import Your Data"
      ]
    },
    {
      "cell_type": "code",
      "execution_count": null,
      "metadata": {
        "id": "tB1EK76gC3sU",
        "outputId": "5b298b9f-20ba-4fbe-acc8-361c4129d332"
      },
      "outputs": [
        {
          "name": "stdout",
          "output_type": "stream",
          "text": [
            "env: JAVA_HOME=/usr/lib/jvm/java-8-openjdk-amd64\n"
          ]
        }
      ],
      "source": [
        "import os\n",
        "import pyspark\n",
        "from pyspark import SparkContext\n",
        "from pyspark.sql import SparkSession\n",
        "from pyspark.sql.functions import *\n",
        "from pyspark.sql.types import *\n",
        "from pyspark.mllib.stat import Statistics\n",
        "import pandas as pd\n",
        "import seaborn as sns\n",
        "import matplotlib.pyplot as plt\n",
        "from pyspark.ml.feature import StringIndexer\n",
        "from pyspark.ml.feature import OneHotEncoderEstimator\n",
        "from pyspark.ml.feature import VectorAssembler\n",
        "from pyspark.ml.feature import StandardScaler\n",
        "from pyspark.ml import Pipeline\n",
        "from pyspark.ml.classification import LogisticRegression\n",
        "\n",
        "%env JAVA_HOME = /usr/lib/jvm/java-8-openjdk-amd64\n",
        "\n"
      ]
    },
    {
      "cell_type": "markdown",
      "metadata": {
        "id": "8AkIp4uVC3sV"
      },
      "source": [
        "## goal is to predict whether the customers in capstone_recent_customers will be repeat customers with ur ML model"
      ]
    },
    {
      "cell_type": "code",
      "execution_count": null,
      "metadata": {
        "collapsed": true,
        "id": "_ywYKHfdC3sW"
      },
      "outputs": [],
      "source": [
        "spark = SparkSession.builder \\\n",
        "      .master(\"local[1]\") \\\n",
        "      .appName(\"Preparing Data with PySpark\") \\\n",
        "      .config(\"spark.driver.memory\", \"5g\") \\\n",
        "      .config(\"spark.executor.memory\", \"5g\") \\\n",
        "      .getOrCreate()\n",
        "\n",
        "sc = spark.sparkContext"
      ]
    },
    {
      "cell_type": "code",
      "execution_count": null,
      "metadata": {
        "collapsed": true,
        "id": "ezFvjtHoC3sX"
      },
      "outputs": [],
      "source": [
        "#Read in data\n",
        "customers_data = spark.read.option(\"header\", \"true\").csv(\"capstone_customers.csv\")\n",
        "invoices_data = spark.read.option(\"header\", \"true\").csv(\"capstone_invoices.csv\")\n",
        "recent_customers_data = spark.read.option(\"header\", \"true\").csv(\"capstone_recent_customers.csv\")\n",
        "recent_invoices_data = spark.read.option(\"header\", \"true\").csv(\"capstone_recent_invoices.csv\")"
      ]
    },
    {
      "cell_type": "code",
      "execution_count": null,
      "metadata": {
        "id": "ohVbpv3FC3sY",
        "outputId": "3ee2a9ea-8402-4572-d079-b1c10aac4cb8"
      },
      "outputs": [
        {
          "data": {
            "text/html": [
              "<div>\n",
              "<style scoped>\n",
              "    .dataframe tbody tr th:only-of-type {\n",
              "        vertical-align: middle;\n",
              "    }\n",
              "\n",
              "    .dataframe tbody tr th {\n",
              "        vertical-align: top;\n",
              "    }\n",
              "\n",
              "    .dataframe thead th {\n",
              "        text-align: right;\n",
              "    }\n",
              "</style>\n",
              "<table border=\"1\" class=\"dataframe\">\n",
              "  <thead>\n",
              "    <tr style=\"text-align: right;\">\n",
              "      <th></th>\n",
              "      <th>customer_id</th>\n",
              "      <th>customer_type</th>\n",
              "      <th>repeat_customer</th>\n",
              "    </tr>\n",
              "  </thead>\n",
              "  <tbody>\n",
              "    <tr>\n",
              "      <th>0</th>\n",
              "      <td>81769</td>\n",
              "      <td>non-member</td>\n",
              "      <td>0</td>\n",
              "    </tr>\n",
              "    <tr>\n",
              "      <th>1</th>\n",
              "      <td>59586</td>\n",
              "      <td>member</td>\n",
              "      <td>0</td>\n",
              "    </tr>\n",
              "    <tr>\n",
              "      <th>2</th>\n",
              "      <td>27974</td>\n",
              "      <td>non-member</td>\n",
              "      <td>0</td>\n",
              "    </tr>\n",
              "    <tr>\n",
              "      <th>3</th>\n",
              "      <td>71976</td>\n",
              "      <td>non-member</td>\n",
              "      <td>0</td>\n",
              "    </tr>\n",
              "    <tr>\n",
              "      <th>4</th>\n",
              "      <td>52509</td>\n",
              "      <td>non-member</td>\n",
              "      <td>0</td>\n",
              "    </tr>\n",
              "  </tbody>\n",
              "</table>\n",
              "</div>"
            ],
            "text/plain": [
              "  customer_id customer_type repeat_customer\n",
              "0       81769    non-member               0\n",
              "1       59586        member               0\n",
              "2       27974    non-member               0\n",
              "3       71976    non-member               0\n",
              "4       52509    non-member               0"
            ]
          },
          "execution_count": 4,
          "metadata": {},
          "output_type": "execute_result"
        }
      ],
      "source": [
        "#Inspect each CSV\n",
        "customers_data.limit(5).toPandas()"
      ]
    },
    {
      "cell_type": "code",
      "execution_count": null,
      "metadata": {
        "id": "so2F-EkrC3sZ",
        "outputId": "2977f8c9-7ff9-4549-d454-0bbe261db366"
      },
      "outputs": [
        {
          "data": {
            "text/html": [
              "<div>\n",
              "<style scoped>\n",
              "    .dataframe tbody tr th:only-of-type {\n",
              "        vertical-align: middle;\n",
              "    }\n",
              "\n",
              "    .dataframe tbody tr th {\n",
              "        vertical-align: top;\n",
              "    }\n",
              "\n",
              "    .dataframe thead th {\n",
              "        text-align: right;\n",
              "    }\n",
              "</style>\n",
              "<table border=\"1\" class=\"dataframe\">\n",
              "  <thead>\n",
              "    <tr style=\"text-align: right;\">\n",
              "      <th></th>\n",
              "      <th>invoice_id</th>\n",
              "      <th>product_id</th>\n",
              "      <th>customer_id</th>\n",
              "      <th>days_until_shipped</th>\n",
              "      <th>product_line</th>\n",
              "      <th>total</th>\n",
              "    </tr>\n",
              "  </thead>\n",
              "  <tbody>\n",
              "    <tr>\n",
              "      <th>0</th>\n",
              "      <td>817-69-8206-B</td>\n",
              "      <td>H013</td>\n",
              "      <td>81769</td>\n",
              "      <td>7</td>\n",
              "      <td>Home</td>\n",
              "      <td>92.66</td>\n",
              "    </tr>\n",
              "    <tr>\n",
              "      <th>1</th>\n",
              "      <td>595-86-2894-C</td>\n",
              "      <td>E305</td>\n",
              "      <td>59586</td>\n",
              "      <td>8</td>\n",
              "      <td>Electronics</td>\n",
              "      <td>429.9</td>\n",
              "    </tr>\n",
              "    <tr>\n",
              "      <th>2</th>\n",
              "      <td>279-74-2924-B</td>\n",
              "      <td>B002</td>\n",
              "      <td>27974</td>\n",
              "      <td>7</td>\n",
              "      <td>Health</td>\n",
              "      <td>269.25</td>\n",
              "    </tr>\n",
              "    <tr>\n",
              "      <th>3</th>\n",
              "      <td>719-76-3868-C</td>\n",
              "      <td>H246</td>\n",
              "      <td>71976</td>\n",
              "      <td>6</td>\n",
              "      <td>Home</td>\n",
              "      <td>148.14</td>\n",
              "    </tr>\n",
              "    <tr>\n",
              "      <th>4</th>\n",
              "      <td>525-09-8450-B</td>\n",
              "      <td>E302</td>\n",
              "      <td>52509</td>\n",
              "      <td>4</td>\n",
              "      <td>Electronics</td>\n",
              "      <td>172.8</td>\n",
              "    </tr>\n",
              "  </tbody>\n",
              "</table>\n",
              "</div>"
            ],
            "text/plain": [
              "      invoice_id product_id customer_id days_until_shipped product_line  \\\n",
              "0  817-69-8206-B       H013       81769                  7         Home   \n",
              "1  595-86-2894-C       E305       59586                  8  Electronics   \n",
              "2  279-74-2924-B       B002       27974                  7       Health   \n",
              "3  719-76-3868-C       H246       71976                  6         Home   \n",
              "4  525-09-8450-B       E302       52509                  4  Electronics   \n",
              "\n",
              "    total  \n",
              "0   92.66  \n",
              "1   429.9  \n",
              "2  269.25  \n",
              "3  148.14  \n",
              "4   172.8  "
            ]
          },
          "execution_count": 5,
          "metadata": {},
          "output_type": "execute_result"
        }
      ],
      "source": [
        "invoices_data.limit(5).toPandas()"
      ]
    },
    {
      "cell_type": "code",
      "execution_count": null,
      "metadata": {
        "id": "TRkzio16C3sa",
        "outputId": "2eee838e-a178-4a46-f785-ded1e9ce2255"
      },
      "outputs": [
        {
          "data": {
            "text/html": [
              "<div>\n",
              "<style scoped>\n",
              "    .dataframe tbody tr th:only-of-type {\n",
              "        vertical-align: middle;\n",
              "    }\n",
              "\n",
              "    .dataframe tbody tr th {\n",
              "        vertical-align: top;\n",
              "    }\n",
              "\n",
              "    .dataframe thead th {\n",
              "        text-align: right;\n",
              "    }\n",
              "</style>\n",
              "<table border=\"1\" class=\"dataframe\">\n",
              "  <thead>\n",
              "    <tr style=\"text-align: right;\">\n",
              "      <th></th>\n",
              "      <th>customer_id</th>\n",
              "      <th>customer_type</th>\n",
              "    </tr>\n",
              "  </thead>\n",
              "  <tbody>\n",
              "    <tr>\n",
              "      <th>0</th>\n",
              "      <td>80270</td>\n",
              "      <td>member</td>\n",
              "    </tr>\n",
              "    <tr>\n",
              "      <th>1</th>\n",
              "      <td>87546</td>\n",
              "      <td>non-member</td>\n",
              "    </tr>\n",
              "    <tr>\n",
              "      <th>2</th>\n",
              "      <td>29121</td>\n",
              "      <td>non-member</td>\n",
              "    </tr>\n",
              "    <tr>\n",
              "      <th>3</th>\n",
              "      <td>50002</td>\n",
              "      <td>member</td>\n",
              "    </tr>\n",
              "    <tr>\n",
              "      <th>4</th>\n",
              "      <td>32678</td>\n",
              "      <td>non-member</td>\n",
              "    </tr>\n",
              "  </tbody>\n",
              "</table>\n",
              "</div>"
            ],
            "text/plain": [
              "  customer_id customer_type\n",
              "0       80270        member\n",
              "1       87546    non-member\n",
              "2       29121    non-member\n",
              "3       50002        member\n",
              "4       32678    non-member"
            ]
          },
          "execution_count": 6,
          "metadata": {},
          "output_type": "execute_result"
        }
      ],
      "source": [
        "recent_customers_data.limit(5).toPandas()"
      ]
    },
    {
      "cell_type": "code",
      "execution_count": null,
      "metadata": {
        "id": "nFZ_qvUzC3sa",
        "outputId": "48db7c84-c606-4beb-86d1-a80c3737ded2"
      },
      "outputs": [
        {
          "data": {
            "text/html": [
              "<div>\n",
              "<style scoped>\n",
              "    .dataframe tbody tr th:only-of-type {\n",
              "        vertical-align: middle;\n",
              "    }\n",
              "\n",
              "    .dataframe tbody tr th {\n",
              "        vertical-align: top;\n",
              "    }\n",
              "\n",
              "    .dataframe thead th {\n",
              "        text-align: right;\n",
              "    }\n",
              "</style>\n",
              "<table border=\"1\" class=\"dataframe\">\n",
              "  <thead>\n",
              "    <tr style=\"text-align: right;\">\n",
              "      <th></th>\n",
              "      <th>invoice_id</th>\n",
              "      <th>product_id</th>\n",
              "      <th>customer_id</th>\n",
              "      <th>days_until_shipped</th>\n",
              "      <th>product_line</th>\n",
              "      <th>total</th>\n",
              "    </tr>\n",
              "  </thead>\n",
              "  <tbody>\n",
              "    <tr>\n",
              "      <th>0</th>\n",
              "      <td>802-70-5316-A</td>\n",
              "      <td>B004</td>\n",
              "      <td>80270</td>\n",
              "      <td>7</td>\n",
              "      <td>Health</td>\n",
              "      <td>499.66</td>\n",
              "    </tr>\n",
              "    <tr>\n",
              "      <th>1</th>\n",
              "      <td>875-46-5808-B</td>\n",
              "      <td>E303</td>\n",
              "      <td>87546</td>\n",
              "      <td>6</td>\n",
              "      <td>Electronics</td>\n",
              "      <td>304.4</td>\n",
              "    </tr>\n",
              "    <tr>\n",
              "      <th>2</th>\n",
              "      <td>291-21-5991-B</td>\n",
              "      <td>H014</td>\n",
              "      <td>29121</td>\n",
              "      <td>9</td>\n",
              "      <td>Home</td>\n",
              "      <td>368.13</td>\n",
              "    </tr>\n",
              "    <tr>\n",
              "      <th>3</th>\n",
              "      <td>500-02-2261-C</td>\n",
              "      <td>B006</td>\n",
              "      <td>50002</td>\n",
              "      <td>8</td>\n",
              "      <td>Health</td>\n",
              "      <td>724.0</td>\n",
              "    </tr>\n",
              "    <tr>\n",
              "      <th>4</th>\n",
              "      <td>326-78-5178-C</td>\n",
              "      <td>T202</td>\n",
              "      <td>32678</td>\n",
              "      <td>5</td>\n",
              "      <td>Travel</td>\n",
              "      <td>476.84</td>\n",
              "    </tr>\n",
              "  </tbody>\n",
              "</table>\n",
              "</div>"
            ],
            "text/plain": [
              "      invoice_id product_id customer_id days_until_shipped product_line  \\\n",
              "0  802-70-5316-A       B004       80270                  7       Health   \n",
              "1  875-46-5808-B       E303       87546                  6  Electronics   \n",
              "2  291-21-5991-B       H014       29121                  9         Home   \n",
              "3  500-02-2261-C       B006       50002                  8       Health   \n",
              "4  326-78-5178-C       T202       32678                  5       Travel   \n",
              "\n",
              "    total  \n",
              "0  499.66  \n",
              "1   304.4  \n",
              "2  368.13  \n",
              "3   724.0  \n",
              "4  476.84  "
            ]
          },
          "execution_count": 7,
          "metadata": {},
          "output_type": "execute_result"
        }
      ],
      "source": [
        "recent_invoices_data.limit(5).toPandas()"
      ]
    },
    {
      "cell_type": "markdown",
      "metadata": {
        "id": "SJniY9tCC3sb"
      },
      "source": [
        "### Clean Our Data and Inspect Numeric Features"
      ]
    },
    {
      "cell_type": "code",
      "execution_count": null,
      "metadata": {
        "id": "4GzxJFA2C3sb",
        "outputId": "bfdecca0-ef8c-4972-b53b-8ae1e0208780"
      },
      "outputs": [
        {
          "name": "stdout",
          "output_type": "stream",
          "text": [
            "customers_data: 652\n",
            "invoices_data: 652\n",
            "recent_customers_data: 19\n",
            "recent_invoices_data: 19\n"
          ]
        }
      ],
      "source": [
        "#Counting rows of each dataset\n",
        "print(f\"customers_data: {customers_data.count()}\")\n",
        "print(f\"invoices_data: {invoices_data.count()}\")\n",
        "print(f\"recent_customers_data: {recent_customers_data.count()}\")\n",
        "print(f\"recent_invoices_data: {recent_invoices_data.count()}\")"
      ]
    },
    {
      "cell_type": "code",
      "execution_count": null,
      "metadata": {
        "id": "QQr31nQhC3sb",
        "outputId": "0013b471-bef7-47c0-945b-6fb2aa85b04f"
      },
      "outputs": [
        {
          "name": "stdout",
          "output_type": "stream",
          "text": [
            "customers_data_dropNa: 651\n",
            "invoices_data_dropNa: 651\n",
            "recent_customers_data_dropNa: 19\n",
            "recent_invoices_dropNa: 19\n"
          ]
        }
      ],
      "source": [
        "#Drop nulls/checking to make sure not too much data is lost- in that case we would fill them with Str \"n/a\"\n",
        "customers_data_dropNa = customers_data.dropna()\n",
        "print(f\"customers_data_dropNa: {customers_data_dropNa.count()}\")\n",
        "invoices_data_dropNa = invoices_data.dropna()\n",
        "print(f\"invoices_data_dropNa: {invoices_data_dropNa.count()}\")\n",
        "recent_customers_data_dropNa = recent_customers_data.dropna()\n",
        "print(f\"recent_customers_data_dropNa: {recent_customers_data_dropNa.count()}\")\n",
        "recent_invoices_dropNa = recent_invoices_data.dropna()\n",
        "print(f\"recent_invoices_dropNa: {recent_invoices_dropNa.count()}\")"
      ]
    },
    {
      "cell_type": "code",
      "execution_count": null,
      "metadata": {
        "id": "wywanmAqC3sc",
        "outputId": "19aeb720-55c9-4095-c9c6-e6df510c01a9"
      },
      "outputs": [
        {
          "name": "stdout",
          "output_type": "stream",
          "text": [
            "root\n",
            " |-- customer_id: string (nullable = true)\n",
            " |-- customer_type: string (nullable = true)\n",
            " |-- repeat_customer: string (nullable = true)\n",
            "\n",
            "root\n",
            " |-- invoice_id: string (nullable = true)\n",
            " |-- product_id: string (nullable = true)\n",
            " |-- customer_id: string (nullable = true)\n",
            " |-- days_until_shipped: string (nullable = true)\n",
            " |-- product_line: string (nullable = true)\n",
            " |-- total: string (nullable = true)\n",
            "\n",
            "root\n",
            " |-- customer_id: string (nullable = true)\n",
            " |-- customer_type: string (nullable = true)\n",
            "\n",
            "root\n",
            " |-- invoice_id: string (nullable = true)\n",
            " |-- product_id: string (nullable = true)\n",
            " |-- customer_id: string (nullable = true)\n",
            " |-- days_until_shipped: string (nullable = true)\n",
            " |-- product_line: string (nullable = true)\n",
            " |-- total: string (nullable = true)\n",
            "\n"
          ]
        }
      ],
      "source": [
        "#Inspecting Schemas of each CSV\n",
        "customers_data_dropNa.printSchema()\n",
        "invoices_data_dropNa.printSchema()\n",
        "recent_customers_data_dropNa.printSchema()\n",
        "recent_invoices_dropNa.printSchema()"
      ]
    },
    {
      "cell_type": "code",
      "execution_count": null,
      "metadata": {
        "id": "MP5nbjz7C3sc",
        "outputId": "b65d518b-2f98-40b6-9588-9ba01492b184"
      },
      "outputs": [
        {
          "name": "stdout",
          "output_type": "stream",
          "text": [
            "+---------------+\n",
            "|repeat_customer|\n",
            "+---------------+\n",
            "|              0|\n",
            "|              1|\n",
            "+---------------+\n",
            "\n"
          ]
        }
      ],
      "source": [
        "customers_data.select('repeat_customer').distinct().show()"
      ]
    },
    {
      "cell_type": "code",
      "execution_count": null,
      "metadata": {
        "collapsed": true,
        "id": "7xys-G81C3sd"
      },
      "outputs": [],
      "source": [
        "#Updating Schema of customers_csv col Customer ID and repeat_customer to IntegerType\n",
        "schema_customers = StructType([\n",
        "    StructField(\"customer_id\", IntegerType(), True),\n",
        "    StructField(\"customer_type\", StringType(), True),\n",
        "    StructField(\"repeat_customer\", IntegerType(), True)\n",
        "])"
      ]
    },
    {
      "cell_type": "code",
      "execution_count": null,
      "metadata": {
        "collapsed": true,
        "id": "Et2lzUHDC3sd"
      },
      "outputs": [],
      "source": [
        "#Reading in Customer csv again with our updated schema AND dropping nulls\n",
        "customers_data = spark.read.schema(schema_customers).option(\"header\", \"true\").option(\"mode\", \"DROPMALFORMED\").csv(\"capstone_customers.csv\").dropna()"
      ]
    },
    {
      "cell_type": "code",
      "execution_count": null,
      "metadata": {
        "id": "NwQD9YZqC3sd",
        "outputId": "5e05582c-9b17-4a96-e561-6d7a59a68199"
      },
      "outputs": [
        {
          "name": "stdout",
          "output_type": "stream",
          "text": [
            "root\n",
            " |-- customer_id: integer (nullable = true)\n",
            " |-- customer_type: string (nullable = true)\n",
            " |-- repeat_customer: integer (nullable = true)\n",
            "\n"
          ]
        }
      ],
      "source": [
        "#Inspect and print new schema\n",
        "customers_data.printSchema()"
      ]
    },
    {
      "cell_type": "code",
      "execution_count": null,
      "metadata": {
        "collapsed": true,
        "id": "kSG6U8uuC3sd"
      },
      "outputs": [],
      "source": [
        "#Updating Invoices csv schema col customer_id and days_until_shipped to integer\n",
        "schema_invoices = StructType([\n",
        "    StructField(\"invoice_id\", StringType(), True),\n",
        "    StructField(\"product_id\", StringType(), True),\n",
        "    StructField(\"customer_id\", IntegerType(), True),\n",
        "    StructField(\"days_until_shipped\", IntegerType(), True),\n",
        "    StructField(\"product_line\", StringType(), True),\n",
        "    StructField(\"total\", StringType(), True)\n",
        "])"
      ]
    },
    {
      "cell_type": "code",
      "execution_count": null,
      "metadata": {
        "collapsed": true,
        "id": "Z5tJAewtC3sd"
      },
      "outputs": [],
      "source": [
        "#import invoices data csv with new schema and drop nulls\n",
        "invoices_data = spark.read.schema(schema_invoices).option(\"header\", \"true\").option(\"mode\", \"DROPMALFORMED\").csv(\"capstone_invoices.csv\").dropna()"
      ]
    },
    {
      "cell_type": "code",
      "execution_count": null,
      "metadata": {
        "id": "IzpOl7Z2C3se",
        "outputId": "aa96394a-378c-480e-82c4-f3a464e452ef"
      },
      "outputs": [
        {
          "name": "stdout",
          "output_type": "stream",
          "text": [
            "root\n",
            " |-- invoice_id: string (nullable = true)\n",
            " |-- product_id: string (nullable = true)\n",
            " |-- customer_id: integer (nullable = true)\n",
            " |-- days_until_shipped: integer (nullable = true)\n",
            " |-- product_line: string (nullable = true)\n",
            " |-- total: string (nullable = true)\n",
            "\n"
          ]
        }
      ],
      "source": [
        "#Inspect invoices schema\n",
        "invoices_data.printSchema()"
      ]
    },
    {
      "cell_type": "code",
      "execution_count": null,
      "metadata": {
        "id": "aJWK2dE0C3se",
        "outputId": "b908388b-b075-437a-a2c5-36bb50fea64b"
      },
      "outputs": [
        {
          "data": {
            "text/html": [
              "<div>\n",
              "<style scoped>\n",
              "    .dataframe tbody tr th:only-of-type {\n",
              "        vertical-align: middle;\n",
              "    }\n",
              "\n",
              "    .dataframe tbody tr th {\n",
              "        vertical-align: top;\n",
              "    }\n",
              "\n",
              "    .dataframe thead th {\n",
              "        text-align: right;\n",
              "    }\n",
              "</style>\n",
              "<table border=\"1\" class=\"dataframe\">\n",
              "  <thead>\n",
              "    <tr style=\"text-align: right;\">\n",
              "      <th></th>\n",
              "      <th>invoice_id</th>\n",
              "      <th>product_id</th>\n",
              "      <th>customer_id</th>\n",
              "      <th>days_until_shipped</th>\n",
              "      <th>product_line</th>\n",
              "      <th>total</th>\n",
              "    </tr>\n",
              "  </thead>\n",
              "  <tbody>\n",
              "    <tr>\n",
              "      <th>0</th>\n",
              "      <td>817-69-8206-B</td>\n",
              "      <td>H013</td>\n",
              "      <td>81769</td>\n",
              "      <td>7</td>\n",
              "      <td>Home</td>\n",
              "      <td>92.66</td>\n",
              "    </tr>\n",
              "    <tr>\n",
              "      <th>1</th>\n",
              "      <td>595-86-2894-C</td>\n",
              "      <td>E305</td>\n",
              "      <td>59586</td>\n",
              "      <td>8</td>\n",
              "      <td>Electronics</td>\n",
              "      <td>429.9</td>\n",
              "    </tr>\n",
              "    <tr>\n",
              "      <th>2</th>\n",
              "      <td>279-74-2924-B</td>\n",
              "      <td>B002</td>\n",
              "      <td>27974</td>\n",
              "      <td>7</td>\n",
              "      <td>Health</td>\n",
              "      <td>269.25</td>\n",
              "    </tr>\n",
              "    <tr>\n",
              "      <th>3</th>\n",
              "      <td>719-76-3868-C</td>\n",
              "      <td>H246</td>\n",
              "      <td>71976</td>\n",
              "      <td>6</td>\n",
              "      <td>Home</td>\n",
              "      <td>148.14</td>\n",
              "    </tr>\n",
              "    <tr>\n",
              "      <th>4</th>\n",
              "      <td>525-09-8450-B</td>\n",
              "      <td>E302</td>\n",
              "      <td>52509</td>\n",
              "      <td>4</td>\n",
              "      <td>Electronics</td>\n",
              "      <td>172.8</td>\n",
              "    </tr>\n",
              "  </tbody>\n",
              "</table>\n",
              "</div>"
            ],
            "text/plain": [
              "      invoice_id product_id  customer_id  days_until_shipped product_line  \\\n",
              "0  817-69-8206-B       H013        81769                   7         Home   \n",
              "1  595-86-2894-C       E305        59586                   8  Electronics   \n",
              "2  279-74-2924-B       B002        27974                   7       Health   \n",
              "3  719-76-3868-C       H246        71976                   6         Home   \n",
              "4  525-09-8450-B       E302        52509                   4  Electronics   \n",
              "\n",
              "    total  \n",
              "0   92.66  \n",
              "1   429.9  \n",
              "2  269.25  \n",
              "3  148.14  \n",
              "4   172.8  "
            ]
          },
          "execution_count": 19,
          "metadata": {},
          "output_type": "execute_result"
        }
      ],
      "source": [
        "invoices_data.limit(5).toPandas()"
      ]
    },
    {
      "cell_type": "code",
      "execution_count": null,
      "metadata": {
        "collapsed": true,
        "id": "zE0Kc5aXC3se"
      },
      "outputs": [],
      "source": [
        "#Updating Schema of recent_customers csv col Customer ID to IntegerType\n",
        "schema_recent_customers = StructType([\n",
        "    StructField(\"customer_id\", IntegerType(), True),\n",
        "    StructField(\"customer_type\", StringType(), True)\n",
        "])"
      ]
    },
    {
      "cell_type": "code",
      "execution_count": null,
      "metadata": {
        "collapsed": true,
        "id": "YuklXK_cC3se"
      },
      "outputs": [],
      "source": [
        "#Reading in Customer csv again with our updated schema AND dropping nulls\n",
        "recent_customers_data = spark.read.schema(schema_recent_customers).option(\"header\", \"true\").option(\"mode\", \"DROPMALFORMED\").csv(\"capstone_recent_customers.csv\").dropna()"
      ]
    },
    {
      "cell_type": "code",
      "execution_count": null,
      "metadata": {
        "id": "YOwiEFpMC3se",
        "outputId": "be904507-4d11-4b36-8aad-929b30d94947"
      },
      "outputs": [
        {
          "name": "stdout",
          "output_type": "stream",
          "text": [
            "root\n",
            " |-- customer_id: integer (nullable = true)\n",
            " |-- customer_type: string (nullable = true)\n",
            "\n"
          ]
        }
      ],
      "source": [
        "#Check schema\n",
        "recent_customers_data.printSchema()"
      ]
    },
    {
      "cell_type": "code",
      "execution_count": null,
      "metadata": {
        "id": "LJgrI299C3se",
        "outputId": "abbb10b1-ceda-421e-dfbd-19e53c1ad6b7"
      },
      "outputs": [
        {
          "data": {
            "text/html": [
              "<div>\n",
              "<style scoped>\n",
              "    .dataframe tbody tr th:only-of-type {\n",
              "        vertical-align: middle;\n",
              "    }\n",
              "\n",
              "    .dataframe tbody tr th {\n",
              "        vertical-align: top;\n",
              "    }\n",
              "\n",
              "    .dataframe thead th {\n",
              "        text-align: right;\n",
              "    }\n",
              "</style>\n",
              "<table border=\"1\" class=\"dataframe\">\n",
              "  <thead>\n",
              "    <tr style=\"text-align: right;\">\n",
              "      <th></th>\n",
              "      <th>customer_id</th>\n",
              "      <th>customer_type</th>\n",
              "    </tr>\n",
              "  </thead>\n",
              "  <tbody>\n",
              "    <tr>\n",
              "      <th>0</th>\n",
              "      <td>80270</td>\n",
              "      <td>member</td>\n",
              "    </tr>\n",
              "    <tr>\n",
              "      <th>1</th>\n",
              "      <td>87546</td>\n",
              "      <td>non-member</td>\n",
              "    </tr>\n",
              "    <tr>\n",
              "      <th>2</th>\n",
              "      <td>29121</td>\n",
              "      <td>non-member</td>\n",
              "    </tr>\n",
              "    <tr>\n",
              "      <th>3</th>\n",
              "      <td>50002</td>\n",
              "      <td>member</td>\n",
              "    </tr>\n",
              "    <tr>\n",
              "      <th>4</th>\n",
              "      <td>32678</td>\n",
              "      <td>non-member</td>\n",
              "    </tr>\n",
              "  </tbody>\n",
              "</table>\n",
              "</div>"
            ],
            "text/plain": [
              "   customer_id customer_type\n",
              "0        80270        member\n",
              "1        87546    non-member\n",
              "2        29121    non-member\n",
              "3        50002        member\n",
              "4        32678    non-member"
            ]
          },
          "execution_count": 23,
          "metadata": {},
          "output_type": "execute_result"
        }
      ],
      "source": [
        "recent_customers_data.limit(5).toPandas()"
      ]
    },
    {
      "cell_type": "code",
      "execution_count": null,
      "metadata": {
        "collapsed": true,
        "id": "JQn_HXEZC3sf"
      },
      "outputs": [],
      "source": [
        "#Updating recent_invoices csv schema col customer_id and days_until_shipped to integer\n",
        "schema_recent_invoices = StructType([\n",
        "    StructField(\"invoice_id\", StringType(), True),\n",
        "    StructField(\"product_id\", StringType(), True),\n",
        "    StructField(\"customer_id\", IntegerType(), True),\n",
        "    StructField(\"days_until_shipped\", IntegerType(), True),\n",
        "    StructField(\"product_line\", StringType(), True),\n",
        "    StructField(\"total\", StringType(), True)\n",
        "])"
      ]
    },
    {
      "cell_type": "code",
      "execution_count": null,
      "metadata": {
        "collapsed": true,
        "id": "WubcmBIDC3sf"
      },
      "outputs": [],
      "source": [
        "#import invoices data csv with new schema and drop nulls\n",
        "recent_invoices_data = spark.read.schema(schema_recent_invoices).option(\"header\", \"true\").option(\"mode\", \"DROPMALFORMED\").csv(\"capstone_recent_invoices.csv\").dropna()"
      ]
    },
    {
      "cell_type": "code",
      "execution_count": null,
      "metadata": {
        "id": "lxLt6xOeC3sg",
        "outputId": "cb530798-caae-4621-8987-30bb4737b1c1"
      },
      "outputs": [
        {
          "name": "stdout",
          "output_type": "stream",
          "text": [
            "root\n",
            " |-- invoice_id: string (nullable = true)\n",
            " |-- product_id: string (nullable = true)\n",
            " |-- customer_id: integer (nullable = true)\n",
            " |-- days_until_shipped: integer (nullable = true)\n",
            " |-- product_line: string (nullable = true)\n",
            " |-- total: string (nullable = true)\n",
            "\n"
          ]
        }
      ],
      "source": [
        "#Check schema\n",
        "recent_invoices_data.printSchema()"
      ]
    },
    {
      "cell_type": "code",
      "execution_count": null,
      "metadata": {
        "id": "Zym3u4cJC3sg",
        "outputId": "605bf40d-17e2-4a67-ec88-fe19aafc803c"
      },
      "outputs": [
        {
          "data": {
            "text/html": [
              "<div>\n",
              "<style scoped>\n",
              "    .dataframe tbody tr th:only-of-type {\n",
              "        vertical-align: middle;\n",
              "    }\n",
              "\n",
              "    .dataframe tbody tr th {\n",
              "        vertical-align: top;\n",
              "    }\n",
              "\n",
              "    .dataframe thead th {\n",
              "        text-align: right;\n",
              "    }\n",
              "</style>\n",
              "<table border=\"1\" class=\"dataframe\">\n",
              "  <thead>\n",
              "    <tr style=\"text-align: right;\">\n",
              "      <th></th>\n",
              "      <th>invoice_id</th>\n",
              "      <th>product_id</th>\n",
              "      <th>customer_id</th>\n",
              "      <th>days_until_shipped</th>\n",
              "      <th>product_line</th>\n",
              "      <th>total</th>\n",
              "    </tr>\n",
              "  </thead>\n",
              "  <tbody>\n",
              "    <tr>\n",
              "      <th>0</th>\n",
              "      <td>802-70-5316-A</td>\n",
              "      <td>B004</td>\n",
              "      <td>80270</td>\n",
              "      <td>7</td>\n",
              "      <td>Health</td>\n",
              "      <td>499.66</td>\n",
              "    </tr>\n",
              "    <tr>\n",
              "      <th>1</th>\n",
              "      <td>875-46-5808-B</td>\n",
              "      <td>E303</td>\n",
              "      <td>87546</td>\n",
              "      <td>6</td>\n",
              "      <td>Electronics</td>\n",
              "      <td>304.4</td>\n",
              "    </tr>\n",
              "    <tr>\n",
              "      <th>2</th>\n",
              "      <td>291-21-5991-B</td>\n",
              "      <td>H014</td>\n",
              "      <td>29121</td>\n",
              "      <td>9</td>\n",
              "      <td>Home</td>\n",
              "      <td>368.13</td>\n",
              "    </tr>\n",
              "    <tr>\n",
              "      <th>3</th>\n",
              "      <td>500-02-2261-C</td>\n",
              "      <td>B006</td>\n",
              "      <td>50002</td>\n",
              "      <td>8</td>\n",
              "      <td>Health</td>\n",
              "      <td>724.0</td>\n",
              "    </tr>\n",
              "    <tr>\n",
              "      <th>4</th>\n",
              "      <td>326-78-5178-C</td>\n",
              "      <td>T202</td>\n",
              "      <td>32678</td>\n",
              "      <td>5</td>\n",
              "      <td>Travel</td>\n",
              "      <td>476.84</td>\n",
              "    </tr>\n",
              "  </tbody>\n",
              "</table>\n",
              "</div>"
            ],
            "text/plain": [
              "      invoice_id product_id  customer_id  days_until_shipped product_line  \\\n",
              "0  802-70-5316-A       B004        80270                   7       Health   \n",
              "1  875-46-5808-B       E303        87546                   6  Electronics   \n",
              "2  291-21-5991-B       H014        29121                   9         Home   \n",
              "3  500-02-2261-C       B006        50002                   8       Health   \n",
              "4  326-78-5178-C       T202        32678                   5       Travel   \n",
              "\n",
              "    total  \n",
              "0  499.66  \n",
              "1   304.4  \n",
              "2  368.13  \n",
              "3   724.0  \n",
              "4  476.84  "
            ]
          },
          "execution_count": 27,
          "metadata": {},
          "output_type": "execute_result"
        }
      ],
      "source": [
        "recent_invoices_data.limit(5).toPandas()"
      ]
    },
    {
      "cell_type": "code",
      "execution_count": null,
      "metadata": {
        "collapsed": true,
        "id": "_ymsK_TlC3sg"
      },
      "outputs": [],
      "source": [
        "#create a view from our dataframe that will act as a table that we can query for CUSTOMERS\n",
        "customers_data.createOrReplaceTempView(\"customers\")\n"
      ]
    },
    {
      "cell_type": "code",
      "execution_count": null,
      "metadata": {
        "id": "LCJv0qG4C3sg",
        "outputId": "93137c4d-1bc4-4fc7-ae9c-835f713206c1"
      },
      "outputs": [
        {
          "name": "stdout",
          "output_type": "stream",
          "text": [
            "+-----------+-------------+---------------+\n",
            "|customer_id|customer_type|repeat_customer|\n",
            "+-----------+-------------+---------------+\n",
            "|81769      |non-member   |0              |\n",
            "|59586      |member       |0              |\n",
            "|27974      |non-member   |0              |\n",
            "|71976      |non-member   |0              |\n",
            "|52509      |non-member   |0              |\n",
            "|64911      |member       |0              |\n",
            "|47724      |member       |0              |\n",
            "|18609      |non-member   |0              |\n",
            "|73070      |non-member   |0              |\n",
            "|77906      |non-member   |0              |\n",
            "|72186      |non-member   |0              |\n",
            "|78184      |non-member   |0              |\n",
            "|58511      |member       |1              |\n",
            "|14841      |non-member   |1              |\n",
            "|38627      |non-member   |0              |\n",
            "|73050      |member       |0              |\n",
            "|31113      |member       |0              |\n",
            "|31522      |member       |0              |\n",
            "|77668      |non-member   |0              |\n",
            "|22896      |non-member   |0              |\n",
            "|40763      |member       |0              |\n",
            "|71857      |member       |0              |\n",
            "|60307      |member       |0              |\n",
            "|73788      |member       |1              |\n",
            "|54680      |member       |0              |\n",
            "+-----------+-------------+---------------+\n",
            "only showing top 25 rows\n",
            "\n"
          ]
        }
      ],
      "source": [
        "result_customers = spark.sql(\n",
        "    \"select \\\n",
        "        customer_id, \\\n",
        "        customer_type, \\\n",
        "        repeat_customer \\\n",
        "    from customers\")\n",
        "\n",
        "result_customers.show(25, truncate=False)"
      ]
    },
    {
      "cell_type": "code",
      "execution_count": null,
      "metadata": {
        "collapsed": true,
        "id": "TIBLesYRC3sh"
      },
      "outputs": [],
      "source": [
        "#create a view from our dataframe that will act as a table that we can query for invoice\n",
        "invoices_data.createOrReplaceTempView(\"invoices\")"
      ]
    },
    {
      "cell_type": "code",
      "execution_count": null,
      "metadata": {
        "id": "W8aZvg0OC3si",
        "outputId": "522d3280-10f8-4885-fa50-111d8e1a6faa"
      },
      "outputs": [
        {
          "name": "stdout",
          "output_type": "stream",
          "text": [
            "+-------------+----------+-----------+------------------+--------------+------+\n",
            "|invoice_id   |product_id|customer_id|days_until_shipped|product_line  |total |\n",
            "+-------------+----------+-----------+------------------+--------------+------+\n",
            "|817-69-8206-B|H013      |81769      |7                 |Home          |92.66 |\n",
            "|595-86-2894-C|E305      |59586      |8                 |Electronics   |429.9 |\n",
            "|279-74-2924-B|B002      |27974      |7                 |Health        |269.25|\n",
            "|719-76-3868-C|H246      |71976      |6                 |Home          |148.14|\n",
            "|525-09-8450-B|E302      |52509      |4                 |Electronics   |172.8 |\n",
            "|649-11-3678-C|T260      |64911      |6                 |Travel        |251.34|\n",
            "|477-24-6490-B|H245      |47724      |7                 |Home          |265.6 |\n",
            "|186-09-3669-C|A056      |18609      |5                 |Fashion       |62.12 |\n",
            "|730-70-9830-C|A056      |73070      |6                 |Fashion       |124.24|\n",
            "|779-06-0012-C|F401      |77906      |3                 |Food and Drink|42.4  |\n",
            "|721-86-6247-A|B003      |72186      |7                 |Health        |510.21|\n",
            "|781-84-8059-C|A503      |78184      |7                 |Fashion       |221.1 |\n",
            "|585-11-6748-B|T024      |58511      |8                 |Travel        |702.63|\n",
            "|148-41-7930-C|T205      |14841      |7                 |Travel        |690.48|\n",
            "|386-27-7606-C|B006      |38627      |8                 |Health        |181.0 |\n",
            "|730-50-9884-C|F543      |73050      |6                 |Food and Drink|274.16|\n",
            "|311-13-6971-B|T201      |31113      |5                 |Travel        |72.61 |\n",
            "|315-22-5665-C|T027      |31522      |9                 |Travel        |468.6 |\n",
            "|776-68-1096-B|E303      |77668      |8                 |Electronics   |547.92|\n",
            "|228-96-1411-C|B003      |22896      |7                 |Health        |453.52|\n",
            "|407-63-8975-A|H245      |40763      |8                 |Home          |265.6 |\n",
            "|718-57-9773-C|H013      |71857      |5                 |Home          |46.33 |\n",
            "|603-07-0961-C|H009      |60307      |5                 |Home          |106.88|\n",
            "|737-88-5876-A|T260      |73788      |9                 |Travel        |502.68|\n",
            "|546-80-2899-A|F401      |54680      |5                 |Food and Drink|67.84 |\n",
            "+-------------+----------+-----------+------------------+--------------+------+\n",
            "only showing top 25 rows\n",
            "\n"
          ]
        }
      ],
      "source": [
        "result_invoices = spark.sql(\n",
        "    \"select \\\n",
        "        invoice_id, \\\n",
        "        product_id, \\\n",
        "        customer_id, \\\n",
        "        days_until_shipped, \\\n",
        "        product_line,  \\\n",
        "        total \\\n",
        "    from invoices\")\n",
        "\n",
        "result_invoices.show(25, truncate=False)\n"
      ]
    },
    {
      "cell_type": "code",
      "execution_count": null,
      "metadata": {
        "collapsed": true,
        "id": "Nc6jvDHLC3si"
      },
      "outputs": [],
      "source": [
        "#Joining customer_data with invoice_data\n",
        "combined_table = customers_data \\\n",
        "            .join(invoices_data, customers_data.customer_id==invoices_data.customer_id, 'inner')  \\\n",
        "            .select(customers_data.customer_id, \"customer_type\",\"repeat_customer\",\"invoice_id\", \"product_id\", \"days_until_shipped\", \"product_line\", \"total\")"
      ]
    },
    {
      "cell_type": "code",
      "execution_count": null,
      "metadata": {
        "id": "QkuL2tSlC3sj",
        "outputId": "531939b7-e3a5-4f2a-8adb-4b8c43f92309"
      },
      "outputs": [
        {
          "name": "stdout",
          "output_type": "stream",
          "text": [
            "+-----------+-------------+---------------+-------------+----------+------------------+--------------+------+\n",
            "|customer_id|customer_type|repeat_customer|   invoice_id|product_id|days_until_shipped|  product_line| total|\n",
            "+-----------+-------------+---------------+-------------+----------+------------------+--------------+------+\n",
            "|      81769|   non-member|              0|817-69-8206-B|      H013|                 7|          Home| 92.66|\n",
            "|      59586|       member|              0|595-86-2894-C|      E305|                 8|   Electronics| 429.9|\n",
            "|      27974|   non-member|              0|279-74-2924-B|      B002|                 7|        Health|269.25|\n",
            "|      71976|   non-member|              0|719-76-3868-C|      H246|                 6|          Home|148.14|\n",
            "|      52509|   non-member|              0|525-09-8450-B|      E302|                 4|   Electronics| 172.8|\n",
            "|      64911|       member|              0|649-11-3678-C|      T260|                 6|        Travel|251.34|\n",
            "|      47724|       member|              0|477-24-6490-B|      H245|                 7|          Home| 265.6|\n",
            "|      18609|   non-member|              0|186-09-3669-C|      A056|                 5|       Fashion| 62.12|\n",
            "|      73070|   non-member|              0|730-70-9830-C|      A056|                 6|       Fashion|124.24|\n",
            "|      77906|   non-member|              0|779-06-0012-C|      F401|                 3|Food and Drink|  42.4|\n",
            "|      72186|   non-member|              0|721-86-6247-A|      B003|                 7|        Health|510.21|\n",
            "|      78184|   non-member|              0|781-84-8059-C|      A503|                 7|       Fashion| 221.1|\n",
            "|      58511|       member|              1|585-11-6748-B|      T024|                 8|        Travel|702.63|\n",
            "|      14841|   non-member|              1|148-41-7930-C|      T205|                 7|        Travel|690.48|\n",
            "|      38627|   non-member|              0|386-27-7606-C|      B006|                 8|        Health| 181.0|\n",
            "|      73050|       member|              0|730-50-9884-C|      F543|                 6|Food and Drink|274.16|\n",
            "|      31113|       member|              0|311-13-6971-B|      T201|                 5|        Travel| 72.61|\n",
            "|      31522|       member|              0|315-22-5665-C|      T027|                 9|        Travel| 468.6|\n",
            "|      77668|   non-member|              0|776-68-1096-B|      E303|                 8|   Electronics|547.92|\n",
            "|      22896|   non-member|              0|228-96-1411-C|      B003|                 7|        Health|453.52|\n",
            "+-----------+-------------+---------------+-------------+----------+------------------+--------------+------+\n",
            "only showing top 20 rows\n",
            "\n"
          ]
        }
      ],
      "source": [
        "combined_table.show()"
      ]
    },
    {
      "cell_type": "code",
      "execution_count": null,
      "metadata": {
        "id": "GXoDj1oiC3sj",
        "outputId": "8ca6fc41-ef26-49e1-b0ed-3dd3b395f78f"
      },
      "outputs": [
        {
          "name": "stdout",
          "output_type": "stream",
          "text": [
            "651\n"
          ]
        }
      ],
      "source": [
        "#convert total to int\n",
        "combined_table = combined_table.withColumn(\"total\", round(col(\"total\")).cast(\"int\"))\n",
        "print((combined_table).count())"
      ]
    },
    {
      "cell_type": "code",
      "execution_count": null,
      "metadata": {
        "id": "u1zd3E_qC3sj",
        "outputId": "de3e5394-1840-4ddd-89c9-4035a9a6f371"
      },
      "outputs": [
        {
          "name": "stdout",
          "output_type": "stream",
          "text": [
            "+-----------+-----+\n",
            "|customer_id|count|\n",
            "+-----------+-----+\n",
            "+-----------+-----+\n",
            "\n"
          ]
        }
      ],
      "source": [
        "#Checking for any recurring customers\n",
        "from pyspark.sql import functions as F\n",
        "\n",
        "duplicates_df = combined_table.groupBy(\"customer_id\").agg(F.count(\"*\").alias(\"count\"))\n",
        "\n",
        "duplicates = duplicates_df.filter(duplicates_df[\"count\"] > 1)\n",
        "\n",
        "duplicates.show()"
      ]
    },
    {
      "cell_type": "code",
      "execution_count": null,
      "metadata": {
        "id": "5JPm8-0GC3sj",
        "outputId": "3a53e426-cae3-42ce-d789-e357343ffd96"
      },
      "outputs": [
        {
          "name": "stdout",
          "output_type": "stream",
          "text": [
            "root\n",
            " |-- customer_id: integer (nullable = true)\n",
            " |-- customer_type: string (nullable = true)\n",
            " |-- repeat_customer: integer (nullable = true)\n",
            " |-- invoice_id: string (nullable = true)\n",
            " |-- product_id: string (nullable = true)\n",
            " |-- days_until_shipped: integer (nullable = true)\n",
            " |-- product_line: string (nullable = true)\n",
            " |-- total: integer (nullable = true)\n",
            "\n"
          ]
        }
      ],
      "source": [
        "#Check schema\n",
        "combined_table.printSchema()"
      ]
    },
    {
      "cell_type": "code",
      "execution_count": null,
      "metadata": {
        "id": "uMW9vpPHC3sp",
        "outputId": "2e3f69d1-e712-4283-e1f9-2253e8fe1b6f"
      },
      "outputs": [
        {
          "data": {
            "text/html": [
              "<div>\n",
              "<style scoped>\n",
              "    .dataframe tbody tr th:only-of-type {\n",
              "        vertical-align: middle;\n",
              "    }\n",
              "\n",
              "    .dataframe tbody tr th {\n",
              "        vertical-align: top;\n",
              "    }\n",
              "\n",
              "    .dataframe thead th {\n",
              "        text-align: right;\n",
              "    }\n",
              "</style>\n",
              "<table border=\"1\" class=\"dataframe\">\n",
              "  <thead>\n",
              "    <tr style=\"text-align: right;\">\n",
              "      <th></th>\n",
              "      <th>customer_id</th>\n",
              "      <th>customer_type</th>\n",
              "      <th>repeat_customer</th>\n",
              "      <th>invoice_id</th>\n",
              "      <th>product_id</th>\n",
              "      <th>days_until_shipped</th>\n",
              "      <th>product_line</th>\n",
              "      <th>total</th>\n",
              "    </tr>\n",
              "  </thead>\n",
              "  <tbody>\n",
              "    <tr>\n",
              "      <th>0</th>\n",
              "      <td>81769</td>\n",
              "      <td>non-member</td>\n",
              "      <td>0</td>\n",
              "      <td>817-69-8206-B</td>\n",
              "      <td>H013</td>\n",
              "      <td>7</td>\n",
              "      <td>Home</td>\n",
              "      <td>93</td>\n",
              "    </tr>\n",
              "    <tr>\n",
              "      <th>1</th>\n",
              "      <td>59586</td>\n",
              "      <td>member</td>\n",
              "      <td>0</td>\n",
              "      <td>595-86-2894-C</td>\n",
              "      <td>E305</td>\n",
              "      <td>8</td>\n",
              "      <td>Electronics</td>\n",
              "      <td>430</td>\n",
              "    </tr>\n",
              "    <tr>\n",
              "      <th>2</th>\n",
              "      <td>27974</td>\n",
              "      <td>non-member</td>\n",
              "      <td>0</td>\n",
              "      <td>279-74-2924-B</td>\n",
              "      <td>B002</td>\n",
              "      <td>7</td>\n",
              "      <td>Health</td>\n",
              "      <td>269</td>\n",
              "    </tr>\n",
              "    <tr>\n",
              "      <th>3</th>\n",
              "      <td>71976</td>\n",
              "      <td>non-member</td>\n",
              "      <td>0</td>\n",
              "      <td>719-76-3868-C</td>\n",
              "      <td>H246</td>\n",
              "      <td>6</td>\n",
              "      <td>Home</td>\n",
              "      <td>148</td>\n",
              "    </tr>\n",
              "    <tr>\n",
              "      <th>4</th>\n",
              "      <td>52509</td>\n",
              "      <td>non-member</td>\n",
              "      <td>0</td>\n",
              "      <td>525-09-8450-B</td>\n",
              "      <td>E302</td>\n",
              "      <td>4</td>\n",
              "      <td>Electronics</td>\n",
              "      <td>173</td>\n",
              "    </tr>\n",
              "  </tbody>\n",
              "</table>\n",
              "</div>"
            ],
            "text/plain": [
              "   customer_id customer_type  repeat_customer     invoice_id product_id  \\\n",
              "0        81769    non-member                0  817-69-8206-B       H013   \n",
              "1        59586        member                0  595-86-2894-C       E305   \n",
              "2        27974    non-member                0  279-74-2924-B       B002   \n",
              "3        71976    non-member                0  719-76-3868-C       H246   \n",
              "4        52509    non-member                0  525-09-8450-B       E302   \n",
              "\n",
              "   days_until_shipped product_line  total  \n",
              "0                   7         Home     93  \n",
              "1                   8  Electronics    430  \n",
              "2                   7       Health    269  \n",
              "3                   6         Home    148  \n",
              "4                   4  Electronics    173  "
            ]
          },
          "execution_count": 36,
          "metadata": {},
          "output_type": "execute_result"
        }
      ],
      "source": [
        "combined_table.limit(5).toPandas()"
      ]
    },
    {
      "cell_type": "code",
      "execution_count": null,
      "metadata": {
        "collapsed": true,
        "id": "nEkWjepuC3sp"
      },
      "outputs": [],
      "source": [
        "#create a view from our dataframe that will act as a table that we can query for RECENT CUSTOMERS\n",
        "recent_customers_data.createOrReplaceTempView(\"recent_customers\")\n"
      ]
    },
    {
      "cell_type": "code",
      "execution_count": null,
      "metadata": {
        "id": "JglhI0XTC3sp",
        "outputId": "68a653bc-b82f-474d-c49f-f389089790c8"
      },
      "outputs": [
        {
          "name": "stdout",
          "output_type": "stream",
          "text": [
            "+-----------+-------------+\n",
            "|customer_id|customer_type|\n",
            "+-----------+-------------+\n",
            "|80270      |member       |\n",
            "|87546      |non-member   |\n",
            "|29121      |non-member   |\n",
            "|50002      |member       |\n",
            "|32678      |non-member   |\n",
            "|12747      |non-member   |\n",
            "|24172      |member       |\n",
            "|58902      |non-member   |\n",
            "|31423      |member       |\n",
            "|73061      |member       |\n",
            "|78596      |member       |\n",
            "|23403      |member       |\n",
            "|45712      |non-member   |\n",
            "|57567      |non-member   |\n",
            "|65098      |non-member   |\n",
            "|55686      |member       |\n",
            "|39969      |member       |\n",
            "|39031      |non-member   |\n",
            "|46801      |non-member   |\n",
            "+-----------+-------------+\n",
            "\n"
          ]
        }
      ],
      "source": [
        "result_recent_customers = spark.sql(\n",
        "    \"select \\\n",
        "        customer_id, \\\n",
        "        customer_type \\\n",
        "    from recent_customers\")\n",
        "\n",
        "result_recent_customers.show(25, truncate=False)"
      ]
    },
    {
      "cell_type": "code",
      "execution_count": null,
      "metadata": {
        "collapsed": true,
        "id": "Fi59kT89C3sq"
      },
      "outputs": [],
      "source": [
        "#create a view from our dataframe that will act as a table that we can query for RECENT invoice\n",
        "recent_invoices_data.createOrReplaceTempView(\"recent_invoices\")"
      ]
    },
    {
      "cell_type": "code",
      "execution_count": null,
      "metadata": {
        "id": "VRXVqsCvC3sq",
        "outputId": "8198daad-5e5b-4ba3-de3b-d925ad3d38f1"
      },
      "outputs": [
        {
          "name": "stdout",
          "output_type": "stream",
          "text": [
            "+-------------+----------+-----------+------------------+--------------+------+\n",
            "|invoice_id   |product_id|customer_id|days_until_shipped|product_line  |total |\n",
            "+-------------+----------+-----------+------------------+--------------+------+\n",
            "|802-70-5316-A|B004      |80270      |7                 |Health        |499.66|\n",
            "|875-46-5808-B|E303      |87546      |6                 |Electronics   |304.4 |\n",
            "|291-21-5991-B|H014      |29121      |9                 |Home          |368.13|\n",
            "|500-02-2261-C|B006      |50002      |8                 |Health        |724.0 |\n",
            "|326-78-5178-C|T202      |32678      |5                 |Travel        |476.84|\n",
            "|127-47-6963-A|E034      |12747      |8                 |Electronics   |328.65|\n",
            "|241-72-9525-B|E305      |24172      |7                 |Electronics   |515.88|\n",
            "|589-02-8023-A|H017      |58902      |8                 |Home          |867.2 |\n",
            "|314-23-4520-C|B004      |31423      |4                 |Health        |142.76|\n",
            "|730-61-8757-B|F406      |73061      |6                 |Food and Drink|296.1 |\n",
            "|785-96-0615-B|A054      |78596      |7                 |Fashion       |314.2 |\n",
            "|234-03-4040-B|E302      |23403      |6                 |Electronics   |138.24|\n",
            "|457-12-0244-C|E302      |45712      |8                 |Electronics   |172.8 |\n",
            "|575-67-1508-A|F406      |57567      |8                 |Food and Drink|987.0 |\n",
            "|650-98-6268-B|B007      |65098      |8                 |Health        |362.6 |\n",
            "|556-86-3144-C|T201      |55686      |6                 |Travel        |435.66|\n",
            "|399-69-4630-C|B005      |39969      |6                 |Health        |482.51|\n",
            "|390-31-6381-C|T020      |39031      |8                 |Travel        |531.78|\n",
            "|468-01-2051-B|F402      |46801      |3                 |Food and Drink|28.26 |\n",
            "+-------------+----------+-----------+------------------+--------------+------+\n",
            "\n"
          ]
        }
      ],
      "source": [
        "result_recent_invoices = spark.sql(\n",
        "    \"select \\\n",
        "        invoice_id, \\\n",
        "        product_id, \\\n",
        "        customer_id, \\\n",
        "        days_until_shipped, \\\n",
        "        product_line,  \\\n",
        "        total \\\n",
        "    from recent_invoices\")\n",
        "\n",
        "result_recent_invoices.show(25, truncate=False)\n"
      ]
    },
    {
      "cell_type": "code",
      "execution_count": null,
      "metadata": {
        "collapsed": true,
        "id": "fhjBxVGuC3sq"
      },
      "outputs": [],
      "source": [
        "#Joining recent_customers_data with recent_invoices_data\n",
        "recent_combined_table = recent_customers_data \\\n",
        "            .join(recent_invoices_data, recent_customers_data.customer_id==recent_invoices_data.customer_id, 'inner')  \\\n",
        "            .select(recent_customers_data.customer_id, \"customer_type\",\"invoice_id\", \"product_id\", \"days_until_shipped\", \"product_line\", \"total\")"
      ]
    },
    {
      "cell_type": "code",
      "execution_count": null,
      "metadata": {
        "id": "0QBOYDz2C3sq",
        "outputId": "55c2b5d0-71ca-4f82-efc9-a86b9bb2bad5"
      },
      "outputs": [
        {
          "name": "stdout",
          "output_type": "stream",
          "text": [
            "+-----------+-------------+-------------+----------+------------------+--------------+------+\n",
            "|customer_id|customer_type|   invoice_id|product_id|days_until_shipped|  product_line| total|\n",
            "+-----------+-------------+-------------+----------+------------------+--------------+------+\n",
            "|      80270|       member|802-70-5316-A|      B004|                 7|        Health|499.66|\n",
            "|      87546|   non-member|875-46-5808-B|      E303|                 6|   Electronics| 304.4|\n",
            "|      29121|   non-member|291-21-5991-B|      H014|                 9|          Home|368.13|\n",
            "|      50002|       member|500-02-2261-C|      B006|                 8|        Health| 724.0|\n",
            "|      32678|   non-member|326-78-5178-C|      T202|                 5|        Travel|476.84|\n",
            "|      12747|   non-member|127-47-6963-A|      E034|                 8|   Electronics|328.65|\n",
            "|      24172|       member|241-72-9525-B|      E305|                 7|   Electronics|515.88|\n",
            "|      58902|   non-member|589-02-8023-A|      H017|                 8|          Home| 867.2|\n",
            "|      31423|       member|314-23-4520-C|      B004|                 4|        Health|142.76|\n",
            "|      73061|       member|730-61-8757-B|      F406|                 6|Food and Drink| 296.1|\n",
            "|      78596|       member|785-96-0615-B|      A054|                 7|       Fashion| 314.2|\n",
            "|      23403|       member|234-03-4040-B|      E302|                 6|   Electronics|138.24|\n",
            "|      45712|   non-member|457-12-0244-C|      E302|                 8|   Electronics| 172.8|\n",
            "|      57567|   non-member|575-67-1508-A|      F406|                 8|Food and Drink| 987.0|\n",
            "|      65098|   non-member|650-98-6268-B|      B007|                 8|        Health| 362.6|\n",
            "|      55686|       member|556-86-3144-C|      T201|                 6|        Travel|435.66|\n",
            "|      39969|       member|399-69-4630-C|      B005|                 6|        Health|482.51|\n",
            "|      39031|   non-member|390-31-6381-C|      T020|                 8|        Travel|531.78|\n",
            "|      46801|   non-member|468-01-2051-B|      F402|                 3|Food and Drink| 28.26|\n",
            "+-----------+-------------+-------------+----------+------------------+--------------+------+\n",
            "\n"
          ]
        }
      ],
      "source": [
        "recent_combined_table.show()"
      ]
    },
    {
      "cell_type": "code",
      "execution_count": null,
      "metadata": {
        "collapsed": true,
        "id": "Pr8dD2KZC3sq"
      },
      "outputs": [],
      "source": [
        "#convert total to int\n",
        "recent_combined_table = recent_combined_table.withColumn(\"total\", round(col(\"total\")).cast(\"int\"))"
      ]
    },
    {
      "cell_type": "code",
      "execution_count": null,
      "metadata": {
        "id": "L4ZaAMtOC3sq",
        "outputId": "9cd8b293-cdef-43d8-f742-fa0b7d80c0cf"
      },
      "outputs": [
        {
          "name": "stdout",
          "output_type": "stream",
          "text": [
            "root\n",
            " |-- customer_id: integer (nullable = true)\n",
            " |-- customer_type: string (nullable = true)\n",
            " |-- invoice_id: string (nullable = true)\n",
            " |-- product_id: string (nullable = true)\n",
            " |-- days_until_shipped: integer (nullable = true)\n",
            " |-- product_line: string (nullable = true)\n",
            " |-- total: integer (nullable = true)\n",
            "\n"
          ]
        }
      ],
      "source": [
        "recent_combined_table.printSchema()"
      ]
    },
    {
      "cell_type": "markdown",
      "metadata": {
        "id": "D6_s-B6rC3sr"
      },
      "source": [
        "### Create a Preprocessing Pipeline to Handle Non-Numeric Features"
      ]
    },
    {
      "cell_type": "markdown",
      "metadata": {
        "id": "xrZTbMAFC3sr"
      },
      "source": [
        "## INDEXER"
      ]
    },
    {
      "cell_type": "code",
      "execution_count": null,
      "metadata": {
        "id": "u-sbFvjzC3sr",
        "outputId": "e8a36dc5-5e9c-41e8-f80f-37301511060c"
      },
      "outputs": [
        {
          "name": "stdout",
          "output_type": "stream",
          "text": [
            "+-------------+-------------------+\n",
            "|customer_type|customer_type_index|\n",
            "+-------------+-------------------+\n",
            "|   non-member|                1.0|\n",
            "|       member|                0.0|\n",
            "|   non-member|                1.0|\n",
            "|   non-member|                1.0|\n",
            "|   non-member|                1.0|\n",
            "|       member|                0.0|\n",
            "|       member|                0.0|\n",
            "|   non-member|                1.0|\n",
            "|   non-member|                1.0|\n",
            "|   non-member|                1.0|\n",
            "|   non-member|                1.0|\n",
            "|   non-member|                1.0|\n",
            "|       member|                0.0|\n",
            "|   non-member|                1.0|\n",
            "|   non-member|                1.0|\n",
            "|       member|                0.0|\n",
            "|       member|                0.0|\n",
            "|       member|                0.0|\n",
            "|   non-member|                1.0|\n",
            "|   non-member|                1.0|\n",
            "+-------------+-------------------+\n",
            "only showing top 20 rows\n",
            "\n"
          ]
        }
      ],
      "source": [
        "\n",
        "indexer = StringIndexer(inputCol='customer_type', outputCol='customer_type_index')\n",
        "combined_table_indexed = indexer.fit(combined_table).transform(combined_table)\n",
        "\n",
        "\n",
        "combined_table_indexed.select('customer_type', 'customer_type_index').show()"
      ]
    },
    {
      "cell_type": "code",
      "execution_count": null,
      "metadata": {
        "id": "ju51K9MOC3sr",
        "outputId": "8ac0eb1b-fc67-4525-b3dd-d6e486ebf7cb"
      },
      "outputs": [
        {
          "name": "stdout",
          "output_type": "stream",
          "text": [
            "['customer_id', 'repeat_customer', 'days_until_shipped', 'total', 'customer_type_index']\n"
          ]
        }
      ],
      "source": [
        "#We retrieve our numeric columns\n",
        "numeric_features = [t[0] for t in combined_table_indexed.dtypes if t[1] != 'string']\n",
        "print(numeric_features)"
      ]
    },
    {
      "cell_type": "code",
      "execution_count": null,
      "metadata": {
        "id": "pTOU8lzlC3ss",
        "outputId": "e8c2dd04-701d-49fb-eb35-b4a44e8c7489"
      },
      "outputs": [
        {
          "data": {
            "text/html": [
              "<div>\n",
              "<style scoped>\n",
              "    .dataframe tbody tr th:only-of-type {\n",
              "        vertical-align: middle;\n",
              "    }\n",
              "\n",
              "    .dataframe tbody tr th {\n",
              "        vertical-align: top;\n",
              "    }\n",
              "\n",
              "    .dataframe thead th {\n",
              "        text-align: right;\n",
              "    }\n",
              "</style>\n",
              "<table border=\"1\" class=\"dataframe\">\n",
              "  <thead>\n",
              "    <tr style=\"text-align: right;\">\n",
              "      <th></th>\n",
              "      <th>customer_id</th>\n",
              "      <th>repeat_customer</th>\n",
              "      <th>days_until_shipped</th>\n",
              "      <th>total</th>\n",
              "      <th>customer_type_index</th>\n",
              "    </tr>\n",
              "  </thead>\n",
              "  <tbody>\n",
              "    <tr>\n",
              "      <th>0</th>\n",
              "      <td>81769</td>\n",
              "      <td>0</td>\n",
              "      <td>7</td>\n",
              "      <td>93</td>\n",
              "      <td>1.0</td>\n",
              "    </tr>\n",
              "    <tr>\n",
              "      <th>1</th>\n",
              "      <td>59586</td>\n",
              "      <td>0</td>\n",
              "      <td>8</td>\n",
              "      <td>430</td>\n",
              "      <td>0.0</td>\n",
              "    </tr>\n",
              "    <tr>\n",
              "      <th>2</th>\n",
              "      <td>27974</td>\n",
              "      <td>0</td>\n",
              "      <td>7</td>\n",
              "      <td>269</td>\n",
              "      <td>1.0</td>\n",
              "    </tr>\n",
              "    <tr>\n",
              "      <th>3</th>\n",
              "      <td>71976</td>\n",
              "      <td>0</td>\n",
              "      <td>6</td>\n",
              "      <td>148</td>\n",
              "      <td>1.0</td>\n",
              "    </tr>\n",
              "    <tr>\n",
              "      <th>4</th>\n",
              "      <td>52509</td>\n",
              "      <td>0</td>\n",
              "      <td>4</td>\n",
              "      <td>173</td>\n",
              "      <td>1.0</td>\n",
              "    </tr>\n",
              "  </tbody>\n",
              "</table>\n",
              "</div>"
            ],
            "text/plain": [
              "   customer_id  repeat_customer  days_until_shipped  total  \\\n",
              "0        81769                0                   7     93   \n",
              "1        59586                0                   8    430   \n",
              "2        27974                0                   7    269   \n",
              "3        71976                0                   6    148   \n",
              "4        52509                0                   4    173   \n",
              "\n",
              "   customer_type_index  \n",
              "0                  1.0  \n",
              "1                  0.0  \n",
              "2                  1.0  \n",
              "3                  1.0  \n",
              "4                  1.0  "
            ]
          },
          "execution_count": 43,
          "metadata": {},
          "output_type": "execute_result"
        }
      ],
      "source": [
        "#We get our dataframe of numeric data using the select() function\n",
        "numeric_features_df = combined_table_indexed.select(numeric_features)\n",
        "numeric_features_df.limit(5).toPandas()"
      ]
    },
    {
      "cell_type": "code",
      "execution_count": null,
      "metadata": {
        "id": "j3seNL4lC3ss",
        "outputId": "90e3f27d-a3b8-46af-f4ee-ddd977a584dc"
      },
      "outputs": [
        {
          "data": {
            "text/html": [
              "<div>\n",
              "<style scoped>\n",
              "    .dataframe tbody tr th:only-of-type {\n",
              "        vertical-align: middle;\n",
              "    }\n",
              "\n",
              "    .dataframe tbody tr th {\n",
              "        vertical-align: top;\n",
              "    }\n",
              "\n",
              "    .dataframe thead th {\n",
              "        text-align: right;\n",
              "    }\n",
              "</style>\n",
              "<table border=\"1\" class=\"dataframe\">\n",
              "  <thead>\n",
              "    <tr style=\"text-align: right;\">\n",
              "      <th></th>\n",
              "      <th>days_until_shipped</th>\n",
              "      <th>total</th>\n",
              "      <th>customer_type_index</th>\n",
              "    </tr>\n",
              "  </thead>\n",
              "  <tbody>\n",
              "    <tr>\n",
              "      <th>0</th>\n",
              "      <td>7</td>\n",
              "      <td>93</td>\n",
              "      <td>1.0</td>\n",
              "    </tr>\n",
              "    <tr>\n",
              "      <th>1</th>\n",
              "      <td>8</td>\n",
              "      <td>430</td>\n",
              "      <td>0.0</td>\n",
              "    </tr>\n",
              "    <tr>\n",
              "      <th>2</th>\n",
              "      <td>7</td>\n",
              "      <td>269</td>\n",
              "      <td>1.0</td>\n",
              "    </tr>\n",
              "    <tr>\n",
              "      <th>3</th>\n",
              "      <td>6</td>\n",
              "      <td>148</td>\n",
              "      <td>1.0</td>\n",
              "    </tr>\n",
              "    <tr>\n",
              "      <th>4</th>\n",
              "      <td>4</td>\n",
              "      <td>173</td>\n",
              "      <td>1.0</td>\n",
              "    </tr>\n",
              "  </tbody>\n",
              "</table>\n",
              "</div>"
            ],
            "text/plain": [
              "   days_until_shipped  total  customer_type_index\n",
              "0                   7     93                  1.0\n",
              "1                   8    430                  0.0\n",
              "2                   7    269                  1.0\n",
              "3                   6    148                  1.0\n",
              "4                   4    173                  1.0"
            ]
          },
          "execution_count": 44,
          "metadata": {},
          "output_type": "execute_result"
        }
      ],
      "source": [
        "#We drop our target variable and customer_id\n",
        "numeric_features_df = numeric_features_df.drop(\"customer_id\", \"repeat_customer\")\n",
        "numeric_features_df.limit(5).toPandas()"
      ]
    },
    {
      "cell_type": "code",
      "execution_count": null,
      "metadata": {
        "id": "3asvLhpUC3ss",
        "outputId": "ab3679ef-44ad-464a-e58b-af7b67d7eae6"
      },
      "outputs": [
        {
          "data": {
            "text/html": [
              "<div>\n",
              "<style scoped>\n",
              "    .dataframe tbody tr th:only-of-type {\n",
              "        vertical-align: middle;\n",
              "    }\n",
              "\n",
              "    .dataframe tbody tr th {\n",
              "        vertical-align: top;\n",
              "    }\n",
              "\n",
              "    .dataframe thead th {\n",
              "        text-align: right;\n",
              "    }\n",
              "</style>\n",
              "<table border=\"1\" class=\"dataframe\">\n",
              "  <thead>\n",
              "    <tr style=\"text-align: right;\">\n",
              "      <th></th>\n",
              "      <th>_1</th>\n",
              "      <th>_2</th>\n",
              "      <th>_3</th>\n",
              "    </tr>\n",
              "  </thead>\n",
              "  <tbody>\n",
              "    <tr>\n",
              "      <th>0</th>\n",
              "      <td>7</td>\n",
              "      <td>93</td>\n",
              "      <td>1.0</td>\n",
              "    </tr>\n",
              "    <tr>\n",
              "      <th>1</th>\n",
              "      <td>8</td>\n",
              "      <td>430</td>\n",
              "      <td>0.0</td>\n",
              "    </tr>\n",
              "    <tr>\n",
              "      <th>2</th>\n",
              "      <td>7</td>\n",
              "      <td>269</td>\n",
              "      <td>1.0</td>\n",
              "    </tr>\n",
              "    <tr>\n",
              "      <th>3</th>\n",
              "      <td>6</td>\n",
              "      <td>148</td>\n",
              "      <td>1.0</td>\n",
              "    </tr>\n",
              "    <tr>\n",
              "      <th>4</th>\n",
              "      <td>4</td>\n",
              "      <td>173</td>\n",
              "      <td>1.0</td>\n",
              "    </tr>\n",
              "  </tbody>\n",
              "</table>\n",
              "</div>"
            ],
            "text/plain": [
              "   _1   _2   _3\n",
              "0   7   93  1.0\n",
              "1   8  430  0.0\n",
              "2   7  269  1.0\n",
              "3   6  148  1.0\n",
              "4   4  173  1.0"
            ]
          },
          "execution_count": 45,
          "metadata": {},
          "output_type": "execute_result"
        }
      ],
      "source": [
        "#We ge the RDD from our dataframe object and use the map() function to only retrieve the row data\n",
        "features_rdd = numeric_features_df.rdd.map(lambda row: row[0:])\n",
        "features_rdd.toDF().limit(5).toPandas()"
      ]
    },
    {
      "cell_type": "code",
      "execution_count": null,
      "metadata": {
        "collapsed": true,
        "id": "5syQxLa9C3st"
      },
      "outputs": [],
      "source": [
        "#We create our correlation matrix and convert it to a dataframe\n",
        "corr_mat = Statistics.corr(features_rdd, method ='pearson')\n",
        "corr_matrix_df = pd.DataFrame(corr_mat)"
      ]
    },
    {
      "cell_type": "code",
      "execution_count": null,
      "metadata": {
        "id": "0JkDswuQC3st",
        "outputId": "058042ad-f4c4-445e-ecd1-b893ae346c46"
      },
      "outputs": [
        {
          "name": "stdout",
          "output_type": "stream",
          "text": [
            "['days_until_shipped', 'total', 'customer_type_index']\n"
          ]
        }
      ],
      "source": [
        "#We set numeric_features AGAIN after dropping target variable and customer_id\n",
        "numeric_features = [t[0] for t in numeric_features_df.dtypes if t[1] != 'string']\n",
        "print(numeric_features)"
      ]
    },
    {
      "cell_type": "code",
      "execution_count": null,
      "metadata": {
        "id": "6wWbr8mEC3st",
        "outputId": "665d8993-2827-4c00-803d-c6a0c1f55ff3"
      },
      "outputs": [
        {
          "data": {
            "text/plain": [
              "<AxesSubplot:title={'center':'Feature Correlation Matrix'}>"
            ]
          },
          "execution_count": 48,
          "metadata": {},
          "output_type": "execute_result"
        },
        {
          "data": {
            "image/png": "[encoded data removed]",
            "text/plain": [
              "<Figure size 1440x360 with 2 Axes>"
            ]
          },
          "metadata": {
            "needs_background": "light"
          },
          "output_type": "display_data"
        }
      ],
      "source": [
        "plt.figure(figsize=(20,5))\n",
        "plt.title(\"Feature Correlation Matrix\", fontsize = 25)\n",
        "\n",
        "sns.heatmap(corr_matrix_df, xticklabels=numeric_features, yticklabels=numeric_features, cmap=\"coolwarm\", annot=True, vmin = -1, vmax = 1)"
      ]
    },
    {
      "cell_type": "code",
      "execution_count": null,
      "metadata": {
        "id": "pytXfM3VC3su",
        "outputId": "9adf15d5-bc46-4b65-e32d-542018413f85"
      },
      "outputs": [
        {
          "name": "stdout",
          "output_type": "stream",
          "text": [
            "['customer_id', 'repeat_customer', 'days_until_shipped', 'total', 'customer_type_index']\n"
          ]
        }
      ],
      "source": [
        "#Now we include repeat_customer\n",
        "\n",
        "#We retrieve our numeric columns\n",
        "numeric_features = [t[0] for t in combined_table_indexed.dtypes if t[1] != 'string']\n",
        "print(numeric_features)\n"
      ]
    },
    {
      "cell_type": "code",
      "execution_count": null,
      "metadata": {
        "id": "u2pH_DysC3su",
        "outputId": "97ec91f7-d342-4ed1-a000-483f80849f85"
      },
      "outputs": [
        {
          "data": {
            "text/html": [
              "<div>\n",
              "<style scoped>\n",
              "    .dataframe tbody tr th:only-of-type {\n",
              "        vertical-align: middle;\n",
              "    }\n",
              "\n",
              "    .dataframe tbody tr th {\n",
              "        vertical-align: top;\n",
              "    }\n",
              "\n",
              "    .dataframe thead th {\n",
              "        text-align: right;\n",
              "    }\n",
              "</style>\n",
              "<table border=\"1\" class=\"dataframe\">\n",
              "  <thead>\n",
              "    <tr style=\"text-align: right;\">\n",
              "      <th></th>\n",
              "      <th>customer_id</th>\n",
              "      <th>repeat_customer</th>\n",
              "      <th>days_until_shipped</th>\n",
              "      <th>total</th>\n",
              "      <th>customer_type_index</th>\n",
              "    </tr>\n",
              "  </thead>\n",
              "  <tbody>\n",
              "    <tr>\n",
              "      <th>0</th>\n",
              "      <td>81769</td>\n",
              "      <td>0</td>\n",
              "      <td>7</td>\n",
              "      <td>93</td>\n",
              "      <td>1.0</td>\n",
              "    </tr>\n",
              "    <tr>\n",
              "      <th>1</th>\n",
              "      <td>59586</td>\n",
              "      <td>0</td>\n",
              "      <td>8</td>\n",
              "      <td>430</td>\n",
              "      <td>0.0</td>\n",
              "    </tr>\n",
              "    <tr>\n",
              "      <th>2</th>\n",
              "      <td>27974</td>\n",
              "      <td>0</td>\n",
              "      <td>7</td>\n",
              "      <td>269</td>\n",
              "      <td>1.0</td>\n",
              "    </tr>\n",
              "    <tr>\n",
              "      <th>3</th>\n",
              "      <td>71976</td>\n",
              "      <td>0</td>\n",
              "      <td>6</td>\n",
              "      <td>148</td>\n",
              "      <td>1.0</td>\n",
              "    </tr>\n",
              "    <tr>\n",
              "      <th>4</th>\n",
              "      <td>52509</td>\n",
              "      <td>0</td>\n",
              "      <td>4</td>\n",
              "      <td>173</td>\n",
              "      <td>1.0</td>\n",
              "    </tr>\n",
              "  </tbody>\n",
              "</table>\n",
              "</div>"
            ],
            "text/plain": [
              "   customer_id  repeat_customer  days_until_shipped  total  \\\n",
              "0        81769                0                   7     93   \n",
              "1        59586                0                   8    430   \n",
              "2        27974                0                   7    269   \n",
              "3        71976                0                   6    148   \n",
              "4        52509                0                   4    173   \n",
              "\n",
              "   customer_type_index  \n",
              "0                  1.0  \n",
              "1                  0.0  \n",
              "2                  1.0  \n",
              "3                  1.0  \n",
              "4                  1.0  "
            ]
          },
          "execution_count": 50,
          "metadata": {},
          "output_type": "execute_result"
        }
      ],
      "source": [
        "#We get our dataframe of numeric data using the select() function\n",
        "numeric_features_df = combined_table_indexed.select(numeric_features)\n",
        "numeric_features_df.limit(5).toPandas()"
      ]
    },
    {
      "cell_type": "code",
      "execution_count": null,
      "metadata": {
        "id": "Is1Rxl1pC3su",
        "outputId": "a3e585bb-cca8-4a4c-b7b9-edead36f9fc4"
      },
      "outputs": [
        {
          "data": {
            "text/html": [
              "<div>\n",
              "<style scoped>\n",
              "    .dataframe tbody tr th:only-of-type {\n",
              "        vertical-align: middle;\n",
              "    }\n",
              "\n",
              "    .dataframe tbody tr th {\n",
              "        vertical-align: top;\n",
              "    }\n",
              "\n",
              "    .dataframe thead th {\n",
              "        text-align: right;\n",
              "    }\n",
              "</style>\n",
              "<table border=\"1\" class=\"dataframe\">\n",
              "  <thead>\n",
              "    <tr style=\"text-align: right;\">\n",
              "      <th></th>\n",
              "      <th>repeat_customer</th>\n",
              "      <th>days_until_shipped</th>\n",
              "      <th>total</th>\n",
              "      <th>customer_type_index</th>\n",
              "    </tr>\n",
              "  </thead>\n",
              "  <tbody>\n",
              "    <tr>\n",
              "      <th>0</th>\n",
              "      <td>0</td>\n",
              "      <td>7</td>\n",
              "      <td>93</td>\n",
              "      <td>1.0</td>\n",
              "    </tr>\n",
              "    <tr>\n",
              "      <th>1</th>\n",
              "      <td>0</td>\n",
              "      <td>8</td>\n",
              "      <td>430</td>\n",
              "      <td>0.0</td>\n",
              "    </tr>\n",
              "    <tr>\n",
              "      <th>2</th>\n",
              "      <td>0</td>\n",
              "      <td>7</td>\n",
              "      <td>269</td>\n",
              "      <td>1.0</td>\n",
              "    </tr>\n",
              "    <tr>\n",
              "      <th>3</th>\n",
              "      <td>0</td>\n",
              "      <td>6</td>\n",
              "      <td>148</td>\n",
              "      <td>1.0</td>\n",
              "    </tr>\n",
              "    <tr>\n",
              "      <th>4</th>\n",
              "      <td>0</td>\n",
              "      <td>4</td>\n",
              "      <td>173</td>\n",
              "      <td>1.0</td>\n",
              "    </tr>\n",
              "  </tbody>\n",
              "</table>\n",
              "</div>"
            ],
            "text/plain": [
              "   repeat_customer  days_until_shipped  total  customer_type_index\n",
              "0                0                   7     93                  1.0\n",
              "1                0                   8    430                  0.0\n",
              "2                0                   7    269                  1.0\n",
              "3                0                   6    148                  1.0\n",
              "4                0                   4    173                  1.0"
            ]
          },
          "execution_count": 51,
          "metadata": {},
          "output_type": "execute_result"
        }
      ],
      "source": [
        "#We drop only customer_id\n",
        "numeric_features_df = numeric_features_df.drop(\"customer_id\")\n",
        "numeric_features_df.limit(5).toPandas()"
      ]
    },
    {
      "cell_type": "code",
      "execution_count": null,
      "metadata": {
        "id": "AXpGyPzBC3sv",
        "outputId": "80fe64d6-7970-4ef7-b3fb-e8ea14d6cc2c"
      },
      "outputs": [
        {
          "data": {
            "text/html": [
              "<div>\n",
              "<style scoped>\n",
              "    .dataframe tbody tr th:only-of-type {\n",
              "        vertical-align: middle;\n",
              "    }\n",
              "\n",
              "    .dataframe tbody tr th {\n",
              "        vertical-align: top;\n",
              "    }\n",
              "\n",
              "    .dataframe thead th {\n",
              "        text-align: right;\n",
              "    }\n",
              "</style>\n",
              "<table border=\"1\" class=\"dataframe\">\n",
              "  <thead>\n",
              "    <tr style=\"text-align: right;\">\n",
              "      <th></th>\n",
              "      <th>_1</th>\n",
              "      <th>_2</th>\n",
              "      <th>_3</th>\n",
              "      <th>_4</th>\n",
              "    </tr>\n",
              "  </thead>\n",
              "  <tbody>\n",
              "    <tr>\n",
              "      <th>0</th>\n",
              "      <td>0</td>\n",
              "      <td>7</td>\n",
              "      <td>93</td>\n",
              "      <td>1.0</td>\n",
              "    </tr>\n",
              "    <tr>\n",
              "      <th>1</th>\n",
              "      <td>0</td>\n",
              "      <td>8</td>\n",
              "      <td>430</td>\n",
              "      <td>0.0</td>\n",
              "    </tr>\n",
              "    <tr>\n",
              "      <th>2</th>\n",
              "      <td>0</td>\n",
              "      <td>7</td>\n",
              "      <td>269</td>\n",
              "      <td>1.0</td>\n",
              "    </tr>\n",
              "    <tr>\n",
              "      <th>3</th>\n",
              "      <td>0</td>\n",
              "      <td>6</td>\n",
              "      <td>148</td>\n",
              "      <td>1.0</td>\n",
              "    </tr>\n",
              "    <tr>\n",
              "      <th>4</th>\n",
              "      <td>0</td>\n",
              "      <td>4</td>\n",
              "      <td>173</td>\n",
              "      <td>1.0</td>\n",
              "    </tr>\n",
              "  </tbody>\n",
              "</table>\n",
              "</div>"
            ],
            "text/plain": [
              "   _1  _2   _3   _4\n",
              "0   0   7   93  1.0\n",
              "1   0   8  430  0.0\n",
              "2   0   7  269  1.0\n",
              "3   0   6  148  1.0\n",
              "4   0   4  173  1.0"
            ]
          },
          "execution_count": 52,
          "metadata": {},
          "output_type": "execute_result"
        }
      ],
      "source": [
        "#We ge the RDD from our dataframe object and use the map() function to only retrieve the row data\n",
        "features_rdd = numeric_features_df.rdd.map(lambda row: row[0:])\n",
        "features_rdd.toDF().limit(5).toPandas()"
      ]
    },
    {
      "cell_type": "code",
      "execution_count": null,
      "metadata": {
        "collapsed": true,
        "id": "6MDSJdOuC3sv"
      },
      "outputs": [],
      "source": [
        "#We createour correlation matrix and convert it to a dataframe\n",
        "corr_mat = Statistics.corr(features_rdd, method ='pearson')\n",
        "corr_matrix_df = pd.DataFrame(corr_mat)"
      ]
    },
    {
      "cell_type": "code",
      "execution_count": null,
      "metadata": {
        "id": "xvyYJylMC3sv",
        "outputId": "592f18ad-827a-45ea-faa7-0d205e5b8937"
      },
      "outputs": [
        {
          "name": "stdout",
          "output_type": "stream",
          "text": [
            "['repeat_customer', 'days_until_shipped', 'total', 'customer_type_index']\n"
          ]
        }
      ],
      "source": [
        "#We set numeric_features AGAIN after dropping customer_id\n",
        "numeric_features = [t[0] for t in numeric_features_df.dtypes if t[1] != 'string']\n",
        "print(numeric_features)"
      ]
    },
    {
      "cell_type": "code",
      "execution_count": null,
      "metadata": {
        "id": "a-GGrR55C3sv",
        "outputId": "1f15f4ff-63c0-4e2c-faa5-fef24637d552"
      },
      "outputs": [
        {
          "data": {
            "text/plain": [
              "<AxesSubplot:title={'center':'Feature Correlation Matrix'}>"
            ]
          },
          "execution_count": 55,
          "metadata": {},
          "output_type": "execute_result"
        },
        {
          "data": {
            "image/png": "[encoded data removed]",
            "text/plain": [
              "<Figure size 1440x360 with 2 Axes>"
            ]
          },
          "metadata": {
            "needs_background": "light"
          },
          "output_type": "display_data"
        }
      ],
      "source": [
        "plt.figure(figsize=(20,5))\n",
        "plt.title(\"Feature Correlation Matrix\", fontsize = 25)\n",
        "\n",
        "sns.heatmap(corr_matrix_df, xticklabels=numeric_features, yticklabels=numeric_features, cmap=\"coolwarm\", annot=True, vmin = -1, vmax = 1)"
      ]
    },
    {
      "cell_type": "markdown",
      "metadata": {
        "id": "86lhgYbiC3sw"
      },
      "source": [
        "## ENCODER"
      ]
    },
    {
      "cell_type": "code",
      "execution_count": null,
      "metadata": {
        "id": "VpJ-5PNmC3sw",
        "outputId": "41590c76-7d5f-405d-eeab-f545a1dbde21"
      },
      "outputs": [
        {
          "data": {
            "text/html": [
              "<div>\n",
              "<style scoped>\n",
              "    .dataframe tbody tr th:only-of-type {\n",
              "        vertical-align: middle;\n",
              "    }\n",
              "\n",
              "    .dataframe tbody tr th {\n",
              "        vertical-align: top;\n",
              "    }\n",
              "\n",
              "    .dataframe thead th {\n",
              "        text-align: right;\n",
              "    }\n",
              "</style>\n",
              "<table border=\"1\" class=\"dataframe\">\n",
              "  <thead>\n",
              "    <tr style=\"text-align: right;\">\n",
              "      <th></th>\n",
              "      <th>customer_id</th>\n",
              "      <th>customer_type</th>\n",
              "      <th>repeat_customer</th>\n",
              "      <th>invoice_id</th>\n",
              "      <th>product_id</th>\n",
              "      <th>days_until_shipped</th>\n",
              "      <th>product_line</th>\n",
              "      <th>total</th>\n",
              "      <th>customer_type_index</th>\n",
              "      <th>customer_type_encoded</th>\n",
              "    </tr>\n",
              "  </thead>\n",
              "  <tbody>\n",
              "    <tr>\n",
              "      <th>0</th>\n",
              "      <td>81769</td>\n",
              "      <td>non-member</td>\n",
              "      <td>0</td>\n",
              "      <td>817-69-8206-B</td>\n",
              "      <td>H013</td>\n",
              "      <td>7</td>\n",
              "      <td>Home</td>\n",
              "      <td>93</td>\n",
              "      <td>1.0</td>\n",
              "      <td>(0.0)</td>\n",
              "    </tr>\n",
              "    <tr>\n",
              "      <th>1</th>\n",
              "      <td>59586</td>\n",
              "      <td>member</td>\n",
              "      <td>0</td>\n",
              "      <td>595-86-2894-C</td>\n",
              "      <td>E305</td>\n",
              "      <td>8</td>\n",
              "      <td>Electronics</td>\n",
              "      <td>430</td>\n",
              "      <td>0.0</td>\n",
              "      <td>(1.0)</td>\n",
              "    </tr>\n",
              "    <tr>\n",
              "      <th>2</th>\n",
              "      <td>27974</td>\n",
              "      <td>non-member</td>\n",
              "      <td>0</td>\n",
              "      <td>279-74-2924-B</td>\n",
              "      <td>B002</td>\n",
              "      <td>7</td>\n",
              "      <td>Health</td>\n",
              "      <td>269</td>\n",
              "      <td>1.0</td>\n",
              "      <td>(0.0)</td>\n",
              "    </tr>\n",
              "    <tr>\n",
              "      <th>3</th>\n",
              "      <td>71976</td>\n",
              "      <td>non-member</td>\n",
              "      <td>0</td>\n",
              "      <td>719-76-3868-C</td>\n",
              "      <td>H246</td>\n",
              "      <td>6</td>\n",
              "      <td>Home</td>\n",
              "      <td>148</td>\n",
              "      <td>1.0</td>\n",
              "      <td>(0.0)</td>\n",
              "    </tr>\n",
              "    <tr>\n",
              "      <th>4</th>\n",
              "      <td>52509</td>\n",
              "      <td>non-member</td>\n",
              "      <td>0</td>\n",
              "      <td>525-09-8450-B</td>\n",
              "      <td>E302</td>\n",
              "      <td>4</td>\n",
              "      <td>Electronics</td>\n",
              "      <td>173</td>\n",
              "      <td>1.0</td>\n",
              "      <td>(0.0)</td>\n",
              "    </tr>\n",
              "  </tbody>\n",
              "</table>\n",
              "</div>"
            ],
            "text/plain": [
              "   customer_id customer_type  repeat_customer     invoice_id product_id  \\\n",
              "0        81769    non-member                0  817-69-8206-B       H013   \n",
              "1        59586        member                0  595-86-2894-C       E305   \n",
              "2        27974    non-member                0  279-74-2924-B       B002   \n",
              "3        71976    non-member                0  719-76-3868-C       H246   \n",
              "4        52509    non-member                0  525-09-8450-B       E302   \n",
              "\n",
              "   days_until_shipped product_line  total  customer_type_index  \\\n",
              "0                   7         Home     93                  1.0   \n",
              "1                   8  Electronics    430                  0.0   \n",
              "2                   7       Health    269                  1.0   \n",
              "3                   6         Home    148                  1.0   \n",
              "4                   4  Electronics    173                  1.0   \n",
              "\n",
              "  customer_type_encoded  \n",
              "0                 (0.0)  \n",
              "1                 (1.0)  \n",
              "2                 (0.0)  \n",
              "3                 (0.0)  \n",
              "4                 (0.0)  "
            ]
          },
          "execution_count": 66,
          "metadata": {},
          "output_type": "execute_result"
        }
      ],
      "source": [
        "encoder = OneHotEncoderEstimator().setInputCols(['customer_type_index']).setOutputCols(['customer_type_encoded'])\n",
        "combined_table_encoded = encoder.fit(combined_table_indexed).transform(combined_table_indexed)\n",
        "\n",
        "combined_table_encoded.limit(5).toPandas()"
      ]
    },
    {
      "cell_type": "markdown",
      "metadata": {
        "id": "xCcpeniOC3sw"
      },
      "source": [
        "## NUMERICAL ASSEMBLER"
      ]
    },
    {
      "cell_type": "code",
      "execution_count": null,
      "metadata": {
        "id": "_-5ShyNKC3sw",
        "outputId": "90dac27e-fc6a-4153-900c-49ec42b2db50"
      },
      "outputs": [
        {
          "data": {
            "text/html": [
              "<div>\n",
              "<style scoped>\n",
              "    .dataframe tbody tr th:only-of-type {\n",
              "        vertical-align: middle;\n",
              "    }\n",
              "\n",
              "    .dataframe tbody tr th {\n",
              "        vertical-align: top;\n",
              "    }\n",
              "\n",
              "    .dataframe thead th {\n",
              "        text-align: right;\n",
              "    }\n",
              "</style>\n",
              "<table border=\"1\" class=\"dataframe\">\n",
              "  <thead>\n",
              "    <tr style=\"text-align: right;\">\n",
              "      <th></th>\n",
              "      <th>customer_id</th>\n",
              "      <th>customer_type</th>\n",
              "      <th>repeat_customer</th>\n",
              "      <th>invoice_id</th>\n",
              "      <th>product_id</th>\n",
              "      <th>days_until_shipped</th>\n",
              "      <th>product_line</th>\n",
              "      <th>total</th>\n",
              "      <th>customer_type_index</th>\n",
              "      <th>customer_type_encoded</th>\n",
              "      <th>features</th>\n",
              "    </tr>\n",
              "  </thead>\n",
              "  <tbody>\n",
              "    <tr>\n",
              "      <th>0</th>\n",
              "      <td>81769</td>\n",
              "      <td>non-member</td>\n",
              "      <td>0</td>\n",
              "      <td>817-69-8206-B</td>\n",
              "      <td>H013</td>\n",
              "      <td>7</td>\n",
              "      <td>Home</td>\n",
              "      <td>93</td>\n",
              "      <td>1.0</td>\n",
              "      <td>(0.0)</td>\n",
              "      <td>[7.0, 93.0]</td>\n",
              "    </tr>\n",
              "    <tr>\n",
              "      <th>1</th>\n",
              "      <td>59586</td>\n",
              "      <td>member</td>\n",
              "      <td>0</td>\n",
              "      <td>595-86-2894-C</td>\n",
              "      <td>E305</td>\n",
              "      <td>8</td>\n",
              "      <td>Electronics</td>\n",
              "      <td>430</td>\n",
              "      <td>0.0</td>\n",
              "      <td>(1.0)</td>\n",
              "      <td>[8.0, 430.0]</td>\n",
              "    </tr>\n",
              "    <tr>\n",
              "      <th>2</th>\n",
              "      <td>27974</td>\n",
              "      <td>non-member</td>\n",
              "      <td>0</td>\n",
              "      <td>279-74-2924-B</td>\n",
              "      <td>B002</td>\n",
              "      <td>7</td>\n",
              "      <td>Health</td>\n",
              "      <td>269</td>\n",
              "      <td>1.0</td>\n",
              "      <td>(0.0)</td>\n",
              "      <td>[7.0, 269.0]</td>\n",
              "    </tr>\n",
              "    <tr>\n",
              "      <th>3</th>\n",
              "      <td>71976</td>\n",
              "      <td>non-member</td>\n",
              "      <td>0</td>\n",
              "      <td>719-76-3868-C</td>\n",
              "      <td>H246</td>\n",
              "      <td>6</td>\n",
              "      <td>Home</td>\n",
              "      <td>148</td>\n",
              "      <td>1.0</td>\n",
              "      <td>(0.0)</td>\n",
              "      <td>[6.0, 148.0]</td>\n",
              "    </tr>\n",
              "    <tr>\n",
              "      <th>4</th>\n",
              "      <td>52509</td>\n",
              "      <td>non-member</td>\n",
              "      <td>0</td>\n",
              "      <td>525-09-8450-B</td>\n",
              "      <td>E302</td>\n",
              "      <td>4</td>\n",
              "      <td>Electronics</td>\n",
              "      <td>173</td>\n",
              "      <td>1.0</td>\n",
              "      <td>(0.0)</td>\n",
              "      <td>[4.0, 173.0]</td>\n",
              "    </tr>\n",
              "  </tbody>\n",
              "</table>\n",
              "</div>"
            ],
            "text/plain": [
              "   customer_id customer_type  repeat_customer     invoice_id product_id  \\\n",
              "0        81769    non-member                0  817-69-8206-B       H013   \n",
              "1        59586        member                0  595-86-2894-C       E305   \n",
              "2        27974    non-member                0  279-74-2924-B       B002   \n",
              "3        71976    non-member                0  719-76-3868-C       H246   \n",
              "4        52509    non-member                0  525-09-8450-B       E302   \n",
              "\n",
              "   days_until_shipped product_line  total  customer_type_index  \\\n",
              "0                   7         Home     93                  1.0   \n",
              "1                   8  Electronics    430                  0.0   \n",
              "2                   7       Health    269                  1.0   \n",
              "3                   6         Home    148                  1.0   \n",
              "4                   4  Electronics    173                  1.0   \n",
              "\n",
              "  customer_type_encoded      features  \n",
              "0                 (0.0)   [7.0, 93.0]  \n",
              "1                 (1.0)  [8.0, 430.0]  \n",
              "2                 (0.0)  [7.0, 269.0]  \n",
              "3                 (0.0)  [6.0, 148.0]  \n",
              "4                 (0.0)  [4.0, 173.0]  "
            ]
          },
          "execution_count": 67,
          "metadata": {},
          "output_type": "execute_result"
        }
      ],
      "source": [
        "#We transform all of our numerical input features into a vector of features represented by the column numerical_vectorized_features\n",
        "\n",
        "numerical_assembler = VectorAssembler().\\\n",
        "    setInputCols(['days_until_shipped', 'total']).\\\n",
        "    setOutputCol('features')\n",
        "\n",
        "assembler_df = numerical_assembler.transform(combined_table_encoded)\n",
        "assembler_df.limit(5).toPandas()"
      ]
    },
    {
      "cell_type": "markdown",
      "metadata": {
        "id": "NTzNhTeaC3sw"
      },
      "source": [
        "## SCALER"
      ]
    },
    {
      "cell_type": "code",
      "execution_count": null,
      "metadata": {
        "id": "f96f_0AoC3sx",
        "outputId": "c8de65fc-5cb3-4cdb-871e-6d0c1fbd4488"
      },
      "outputs": [
        {
          "data": {
            "text/html": [
              "<div>\n",
              "<style scoped>\n",
              "    .dataframe tbody tr th:only-of-type {\n",
              "        vertical-align: middle;\n",
              "    }\n",
              "\n",
              "    .dataframe tbody tr th {\n",
              "        vertical-align: top;\n",
              "    }\n",
              "\n",
              "    .dataframe thead th {\n",
              "        text-align: right;\n",
              "    }\n",
              "</style>\n",
              "<table border=\"1\" class=\"dataframe\">\n",
              "  <thead>\n",
              "    <tr style=\"text-align: right;\">\n",
              "      <th></th>\n",
              "      <th>features</th>\n",
              "      <th>numerical_features</th>\n",
              "    </tr>\n",
              "  </thead>\n",
              "  <tbody>\n",
              "    <tr>\n",
              "      <th>0</th>\n",
              "      <td>[7.0, 93.0]</td>\n",
              "      <td>[4.226833645535901, 0.39013579829558204]</td>\n",
              "    </tr>\n",
              "    <tr>\n",
              "      <th>1</th>\n",
              "      <td>[8.0, 430.0]</td>\n",
              "      <td>[4.830667023469601, 1.803853691044089]</td>\n",
              "    </tr>\n",
              "    <tr>\n",
              "      <th>2</th>\n",
              "      <td>[7.0, 269.0]</td>\n",
              "      <td>[4.226833645535901, 1.1284573090485115]</td>\n",
              "    </tr>\n",
              "    <tr>\n",
              "      <th>3</th>\n",
              "      <td>[6.0, 148.0]</td>\n",
              "      <td>[3.623000267602201, 0.6208612704058725]</td>\n",
              "    </tr>\n",
              "    <tr>\n",
              "      <th>4</th>\n",
              "      <td>[4.0, 173.0]</td>\n",
              "      <td>[2.4153335117348007, 0.725736485001459]</td>\n",
              "    </tr>\n",
              "  </tbody>\n",
              "</table>\n",
              "</div>"
            ],
            "text/plain": [
              "       features                        numerical_features\n",
              "0   [7.0, 93.0]  [4.226833645535901, 0.39013579829558204]\n",
              "1  [8.0, 430.0]    [4.830667023469601, 1.803853691044089]\n",
              "2  [7.0, 269.0]   [4.226833645535901, 1.1284573090485115]\n",
              "3  [6.0, 148.0]   [3.623000267602201, 0.6208612704058725]\n",
              "4  [4.0, 173.0]   [2.4153335117348007, 0.725736485001459]"
            ]
          },
          "execution_count": 68,
          "metadata": {},
          "output_type": "execute_result"
        }
      ],
      "source": [
        "#We use StandardScaler() to standardize our features by subtracting the mean and dividing by the standard deviation\n",
        "from pyspark.ml.feature import StandardScaler\n",
        "\n",
        "scaler = StandardScaler().\\\n",
        "    setInputCol('features').\\\n",
        "    setOutputCol('numerical_features')\n",
        "\n",
        "scaler_model = scaler.fit(assembler_df)\n",
        "scaler_df = scaler_model.transform(assembler_df)\n",
        "pd.set_option('display.max_colwidth', 100)\n",
        "scaler_df.select('features', 'numerical_features').limit(5).toPandas()"
      ]
    },
    {
      "cell_type": "markdown",
      "metadata": {
        "id": "bKgbVzM3C3sx"
      },
      "source": [
        "## ASSEMBLER"
      ]
    },
    {
      "cell_type": "code",
      "execution_count": null,
      "metadata": {
        "id": "tb2bcPyFC3sx",
        "outputId": "fbebead7-e9fe-4da3-b790-27c97a4712f2"
      },
      "outputs": [
        {
          "data": {
            "text/html": [
              "<div>\n",
              "<style scoped>\n",
              "    .dataframe tbody tr th:only-of-type {\n",
              "        vertical-align: middle;\n",
              "    }\n",
              "\n",
              "    .dataframe tbody tr th {\n",
              "        vertical-align: top;\n",
              "    }\n",
              "\n",
              "    .dataframe thead th {\n",
              "        text-align: right;\n",
              "    }\n",
              "</style>\n",
              "<table border=\"1\" class=\"dataframe\">\n",
              "  <thead>\n",
              "    <tr style=\"text-align: right;\">\n",
              "      <th></th>\n",
              "      <th>customer_id</th>\n",
              "      <th>customer_type</th>\n",
              "      <th>repeat_customer</th>\n",
              "      <th>invoice_id</th>\n",
              "      <th>product_id</th>\n",
              "      <th>days_until_shipped</th>\n",
              "      <th>product_line</th>\n",
              "      <th>total</th>\n",
              "      <th>customer_type_index</th>\n",
              "      <th>customer_type_encoded</th>\n",
              "      <th>features</th>\n",
              "      <th>numerical_features</th>\n",
              "      <th>all_features</th>\n",
              "    </tr>\n",
              "  </thead>\n",
              "  <tbody>\n",
              "    <tr>\n",
              "      <th>0</th>\n",
              "      <td>81769</td>\n",
              "      <td>non-member</td>\n",
              "      <td>0</td>\n",
              "      <td>817-69-8206-B</td>\n",
              "      <td>H013</td>\n",
              "      <td>7</td>\n",
              "      <td>Home</td>\n",
              "      <td>93</td>\n",
              "      <td>1.0</td>\n",
              "      <td>(0.0)</td>\n",
              "      <td>[7.0, 93.0]</td>\n",
              "      <td>[4.226833645535901, 0.39013579829558204]</td>\n",
              "      <td>[4.226833645535901, 0.39013579829558204, 0.0]</td>\n",
              "    </tr>\n",
              "    <tr>\n",
              "      <th>1</th>\n",
              "      <td>59586</td>\n",
              "      <td>member</td>\n",
              "      <td>0</td>\n",
              "      <td>595-86-2894-C</td>\n",
              "      <td>E305</td>\n",
              "      <td>8</td>\n",
              "      <td>Electronics</td>\n",
              "      <td>430</td>\n",
              "      <td>0.0</td>\n",
              "      <td>(1.0)</td>\n",
              "      <td>[8.0, 430.0]</td>\n",
              "      <td>[4.830667023469601, 1.803853691044089]</td>\n",
              "      <td>[4.830667023469601, 1.803853691044089, 1.0]</td>\n",
              "    </tr>\n",
              "    <tr>\n",
              "      <th>2</th>\n",
              "      <td>27974</td>\n",
              "      <td>non-member</td>\n",
              "      <td>0</td>\n",
              "      <td>279-74-2924-B</td>\n",
              "      <td>B002</td>\n",
              "      <td>7</td>\n",
              "      <td>Health</td>\n",
              "      <td>269</td>\n",
              "      <td>1.0</td>\n",
              "      <td>(0.0)</td>\n",
              "      <td>[7.0, 269.0]</td>\n",
              "      <td>[4.226833645535901, 1.1284573090485115]</td>\n",
              "      <td>[4.226833645535901, 1.1284573090485115, 0.0]</td>\n",
              "    </tr>\n",
              "    <tr>\n",
              "      <th>3</th>\n",
              "      <td>71976</td>\n",
              "      <td>non-member</td>\n",
              "      <td>0</td>\n",
              "      <td>719-76-3868-C</td>\n",
              "      <td>H246</td>\n",
              "      <td>6</td>\n",
              "      <td>Home</td>\n",
              "      <td>148</td>\n",
              "      <td>1.0</td>\n",
              "      <td>(0.0)</td>\n",
              "      <td>[6.0, 148.0]</td>\n",
              "      <td>[3.623000267602201, 0.6208612704058725]</td>\n",
              "      <td>[3.623000267602201, 0.6208612704058725, 0.0]</td>\n",
              "    </tr>\n",
              "    <tr>\n",
              "      <th>4</th>\n",
              "      <td>52509</td>\n",
              "      <td>non-member</td>\n",
              "      <td>0</td>\n",
              "      <td>525-09-8450-B</td>\n",
              "      <td>E302</td>\n",
              "      <td>4</td>\n",
              "      <td>Electronics</td>\n",
              "      <td>173</td>\n",
              "      <td>1.0</td>\n",
              "      <td>(0.0)</td>\n",
              "      <td>[4.0, 173.0]</td>\n",
              "      <td>[2.4153335117348007, 0.725736485001459]</td>\n",
              "      <td>[2.4153335117348007, 0.725736485001459, 0.0]</td>\n",
              "    </tr>\n",
              "  </tbody>\n",
              "</table>\n",
              "</div>"
            ],
            "text/plain": [
              "   customer_id customer_type  repeat_customer     invoice_id product_id  \\\n",
              "0        81769    non-member                0  817-69-8206-B       H013   \n",
              "1        59586        member                0  595-86-2894-C       E305   \n",
              "2        27974    non-member                0  279-74-2924-B       B002   \n",
              "3        71976    non-member                0  719-76-3868-C       H246   \n",
              "4        52509    non-member                0  525-09-8450-B       E302   \n",
              "\n",
              "   days_until_shipped product_line  total  customer_type_index  \\\n",
              "0                   7         Home     93                  1.0   \n",
              "1                   8  Electronics    430                  0.0   \n",
              "2                   7       Health    269                  1.0   \n",
              "3                   6         Home    148                  1.0   \n",
              "4                   4  Electronics    173                  1.0   \n",
              "\n",
              "  customer_type_encoded      features  \\\n",
              "0                 (0.0)   [7.0, 93.0]   \n",
              "1                 (1.0)  [8.0, 430.0]   \n",
              "2                 (0.0)  [7.0, 269.0]   \n",
              "3                 (0.0)  [6.0, 148.0]   \n",
              "4                 (0.0)  [4.0, 173.0]   \n",
              "\n",
              "                         numerical_features  \\\n",
              "0  [4.226833645535901, 0.39013579829558204]   \n",
              "1    [4.830667023469601, 1.803853691044089]   \n",
              "2   [4.226833645535901, 1.1284573090485115]   \n",
              "3   [3.623000267602201, 0.6208612704058725]   \n",
              "4   [2.4153335117348007, 0.725736485001459]   \n",
              "\n",
              "                                    all_features  \n",
              "0  [4.226833645535901, 0.39013579829558204, 0.0]  \n",
              "1    [4.830667023469601, 1.803853691044089, 1.0]  \n",
              "2   [4.226833645535901, 1.1284573090485115, 0.0]  \n",
              "3   [3.623000267602201, 0.6208612704058725, 0.0]  \n",
              "4   [2.4153335117348007, 0.725736485001459, 0.0]  "
            ]
          },
          "execution_count": 69,
          "metadata": {},
          "output_type": "execute_result"
        }
      ],
      "source": [
        "#We Add One Hot Encoded Features to Scaled Numerical Features Vector\n",
        "assembler = VectorAssembler().\\\n",
        "    setInputCols(['numerical_features', 'customer_type_encoded']).\\\n",
        "    setOutputCol('all_features')\n",
        "\n",
        "input_df = assembler.transform(scaler_df)\n",
        "input_df.limit(5).toPandas()"
      ]
    },
    {
      "cell_type": "code",
      "execution_count": null,
      "metadata": {
        "collapsed": true,
        "id": "10JP5eIBC3sx"
      },
      "outputs": [],
      "source": [
        "pipeline_stages = Pipeline().setStages([indexer,\n",
        "                                        encoder,\n",
        "                                        numerical_assembler,\n",
        "                                        scaler,\n",
        "                                        assembler])"
      ]
    },
    {
      "cell_type": "code",
      "execution_count": null,
      "metadata": {
        "id": "O4NNmyk7C3sy",
        "outputId": "f57b3983-9f4f-43d3-a4e9-f161b26fe6a6"
      },
      "outputs": [
        {
          "name": "stdout",
          "output_type": "stream",
          "text": [
            "Training Data Size: 513\n",
            "Testing Data Size: 138\n"
          ]
        }
      ],
      "source": [
        "train, test = combined_table.randomSplit([0.8, 0.2], seed=2022)\n",
        "print(\"Training Data Size: {}\".format(str(train.count())))\n",
        "print(\"Testing Data Size: {}\".format(str(test.count())))"
      ]
    },
    {
      "cell_type": "code",
      "execution_count": null,
      "metadata": {
        "collapsed": true,
        "id": "HZZ4ZvMgC3sy"
      },
      "outputs": [],
      "source": [
        "\n",
        "pipeline_model = pipeline_stages.fit(train)\n",
        "train_transformed = pipeline_model.transform(train)\n",
        "test_transformed = pipeline_model.transform(test)"
      ]
    },
    {
      "cell_type": "code",
      "execution_count": null,
      "metadata": {
        "id": "kN0t32qmC3sy",
        "outputId": "651c1cd2-bf7b-402a-b962-ff0cc0221273"
      },
      "outputs": [
        {
          "data": {
            "text/html": [
              "<div>\n",
              "<style scoped>\n",
              "    .dataframe tbody tr th:only-of-type {\n",
              "        vertical-align: middle;\n",
              "    }\n",
              "\n",
              "    .dataframe tbody tr th {\n",
              "        vertical-align: top;\n",
              "    }\n",
              "\n",
              "    .dataframe thead th {\n",
              "        text-align: right;\n",
              "    }\n",
              "</style>\n",
              "<table border=\"1\" class=\"dataframe\">\n",
              "  <thead>\n",
              "    <tr style=\"text-align: right;\">\n",
              "      <th></th>\n",
              "      <th>customer_id</th>\n",
              "      <th>customer_type</th>\n",
              "      <th>repeat_customer</th>\n",
              "      <th>invoice_id</th>\n",
              "      <th>product_id</th>\n",
              "      <th>days_until_shipped</th>\n",
              "      <th>product_line</th>\n",
              "      <th>total</th>\n",
              "      <th>customer_type_index</th>\n",
              "      <th>customer_type_encoded</th>\n",
              "      <th>features</th>\n",
              "      <th>numerical_features</th>\n",
              "      <th>all_features</th>\n",
              "    </tr>\n",
              "  </thead>\n",
              "  <tbody>\n",
              "    <tr>\n",
              "      <th>0</th>\n",
              "      <td>10117</td>\n",
              "      <td>member</td>\n",
              "      <td>0</td>\n",
              "      <td>101-17-6199-A</td>\n",
              "      <td>H008</td>\n",
              "      <td>6</td>\n",
              "      <td>Home</td>\n",
              "      <td>223</td>\n",
              "      <td>1.0</td>\n",
              "      <td>(0.0)</td>\n",
              "      <td>[6.0, 223.0]</td>\n",
              "      <td>[3.5920134976948805, 0.9467614915699251]</td>\n",
              "      <td>[3.5920134976948805, 0.9467614915699251, 0.0]</td>\n",
              "    </tr>\n",
              "    <tr>\n",
              "      <th>1</th>\n",
              "      <td>10277</td>\n",
              "      <td>non-member</td>\n",
              "      <td>0</td>\n",
              "      <td>102-77-2261-C</td>\n",
              "      <td>F402</td>\n",
              "      <td>4</td>\n",
              "      <td>Food and Drink</td>\n",
              "      <td>38</td>\n",
              "      <td>0.0</td>\n",
              "      <td>(1.0)</td>\n",
              "      <td>[4.0, 38.0]</td>\n",
              "      <td>[2.3946756651299204, 0.16133155461729665]</td>\n",
              "      <td>[2.3946756651299204, 0.16133155461729665, 1.0]</td>\n",
              "    </tr>\n",
              "    <tr>\n",
              "      <th>2</th>\n",
              "      <td>10510</td>\n",
              "      <td>member</td>\n",
              "      <td>1</td>\n",
              "      <td>105-10-6182-A</td>\n",
              "      <td>A505</td>\n",
              "      <td>6</td>\n",
              "      <td>Fashion</td>\n",
              "      <td>235</td>\n",
              "      <td>1.0</td>\n",
              "      <td>(0.0)</td>\n",
              "      <td>[6.0, 235.0]</td>\n",
              "      <td>[3.5920134976948805, 0.9977082982911767]</td>\n",
              "      <td>[3.5920134976948805, 0.9977082982911767, 0.0]</td>\n",
              "    </tr>\n",
              "    <tr>\n",
              "      <th>3</th>\n",
              "      <td>11005</td>\n",
              "      <td>member</td>\n",
              "      <td>0</td>\n",
              "      <td>110-05-6330-C</td>\n",
              "      <td>F444</td>\n",
              "      <td>5</td>\n",
              "      <td>Food and Drink</td>\n",
              "      <td>26</td>\n",
              "      <td>1.0</td>\n",
              "      <td>(0.0)</td>\n",
              "      <td>[5.0, 26.0]</td>\n",
              "      <td>[2.9933445814124005, 0.11038474789604508]</td>\n",
              "      <td>[2.9933445814124005, 0.11038474789604508, 0.0]</td>\n",
              "    </tr>\n",
              "    <tr>\n",
              "      <th>4</th>\n",
              "      <td>11435</td>\n",
              "      <td>member</td>\n",
              "      <td>0</td>\n",
              "      <td>114-35-5271-B</td>\n",
              "      <td>H009</td>\n",
              "      <td>9</td>\n",
              "      <td>Home</td>\n",
              "      <td>481</td>\n",
              "      <td>1.0</td>\n",
              "      <td>(0.0)</td>\n",
              "      <td>[9.0, 481.0]</td>\n",
              "      <td>[5.388020246542321, 2.0421178360768337]</td>\n",
              "      <td>[5.388020246542321, 2.0421178360768337, 0.0]</td>\n",
              "    </tr>\n",
              "  </tbody>\n",
              "</table>\n",
              "</div>"
            ],
            "text/plain": [
              "   customer_id customer_type  repeat_customer     invoice_id product_id  \\\n",
              "0        10117        member                0  101-17-6199-A       H008   \n",
              "1        10277    non-member                0  102-77-2261-C       F402   \n",
              "2        10510        member                1  105-10-6182-A       A505   \n",
              "3        11005        member                0  110-05-6330-C       F444   \n",
              "4        11435        member                0  114-35-5271-B       H009   \n",
              "\n",
              "   days_until_shipped    product_line  total  customer_type_index  \\\n",
              "0                   6            Home    223                  1.0   \n",
              "1                   4  Food and Drink     38                  0.0   \n",
              "2                   6         Fashion    235                  1.0   \n",
              "3                   5  Food and Drink     26                  1.0   \n",
              "4                   9            Home    481                  1.0   \n",
              "\n",
              "  customer_type_encoded      features  \\\n",
              "0                 (0.0)  [6.0, 223.0]   \n",
              "1                 (1.0)   [4.0, 38.0]   \n",
              "2                 (0.0)  [6.0, 235.0]   \n",
              "3                 (0.0)   [5.0, 26.0]   \n",
              "4                 (0.0)  [9.0, 481.0]   \n",
              "\n",
              "                          numerical_features  \\\n",
              "0   [3.5920134976948805, 0.9467614915699251]   \n",
              "1  [2.3946756651299204, 0.16133155461729665]   \n",
              "2   [3.5920134976948805, 0.9977082982911767]   \n",
              "3  [2.9933445814124005, 0.11038474789604508]   \n",
              "4    [5.388020246542321, 2.0421178360768337]   \n",
              "\n",
              "                                     all_features  \n",
              "0   [3.5920134976948805, 0.9467614915699251, 0.0]  \n",
              "1  [2.3946756651299204, 0.16133155461729665, 1.0]  \n",
              "2   [3.5920134976948805, 0.9977082982911767, 0.0]  \n",
              "3  [2.9933445814124005, 0.11038474789604508, 0.0]  \n",
              "4    [5.388020246542321, 2.0421178360768337, 0.0]  "
            ]
          },
          "execution_count": 73,
          "metadata": {},
          "output_type": "execute_result"
        }
      ],
      "source": [
        "\n",
        "train_transformed.limit(5).toPandas()"
      ]
    },
    {
      "cell_type": "markdown",
      "metadata": {
        "id": "GY3fjz6xC3s0"
      },
      "source": [
        "### Create, Train, and Evaluate a Logistic Regression Model. Inspect the Coefficients of the Model"
      ]
    },
    {
      "cell_type": "code",
      "execution_count": null,
      "metadata": {
        "collapsed": true,
        "id": "nwq7g5RgC3s0"
      },
      "outputs": [],
      "source": [
        "from pyspark.ml.classification import LogisticRegression\n",
        "\n",
        "lr = LogisticRegression(featuresCol = 'all_features', labelCol = 'repeat_customer', maxIter = 5)\n",
        "lr_model = lr.fit(train_transformed)"
      ]
    },
    {
      "cell_type": "code",
      "execution_count": null,
      "metadata": {
        "id": "WrKBgv5OC3s0",
        "outputId": "647e5412-5c7c-4b9e-ef68-31a5aeffcf6a"
      },
      "outputs": [
        {
          "data": {
            "text/html": [
              "<div>\n",
              "<style scoped>\n",
              "    .dataframe tbody tr th:only-of-type {\n",
              "        vertical-align: middle;\n",
              "    }\n",
              "\n",
              "    .dataframe tbody tr th {\n",
              "        vertical-align: top;\n",
              "    }\n",
              "\n",
              "    .dataframe thead th {\n",
              "        text-align: right;\n",
              "    }\n",
              "</style>\n",
              "<table border=\"1\" class=\"dataframe\">\n",
              "  <thead>\n",
              "    <tr style=\"text-align: right;\">\n",
              "      <th></th>\n",
              "      <th>repeat_customer</th>\n",
              "      <th>all_features</th>\n",
              "      <th>rawPrediction</th>\n",
              "      <th>prediction</th>\n",
              "      <th>probability</th>\n",
              "    </tr>\n",
              "  </thead>\n",
              "  <tbody>\n",
              "    <tr>\n",
              "      <th>0</th>\n",
              "      <td>1</td>\n",
              "      <td>[5.388020246542321, 3.349752541922291, 0.0]</td>\n",
              "      <td>[-3.804103361292102, 3.804103361292102]</td>\n",
              "      <td>1.0</td>\n",
              "      <td>[0.02179362090741505, 0.978206379092585]</td>\n",
              "    </tr>\n",
              "    <tr>\n",
              "      <th>1</th>\n",
              "      <td>0</td>\n",
              "      <td>[3.5920134976948805, 1.54114090331786, 1.0]</td>\n",
              "      <td>[0.9143988561930946, -0.9143988561930946]</td>\n",
              "      <td>0.0</td>\n",
              "      <td>[0.7138994607352177, 0.2861005392647823]</td>\n",
              "    </tr>\n",
              "    <tr>\n",
              "      <th>2</th>\n",
              "      <td>0</td>\n",
              "      <td>[5.986689162824801, 2.373272079764969, 1.0]</td>\n",
              "      <td>[0.5543879134927647, -0.5543879134927647]</td>\n",
              "      <td>0.0</td>\n",
              "      <td>[0.6351530200128316, 0.36484697998716836]</td>\n",
              "    </tr>\n",
              "    <tr>\n",
              "      <th>3</th>\n",
              "      <td>1</td>\n",
              "      <td>[2.9933445814124005, 1.923241953727247, 1.0]</td>\n",
              "      <td>[-0.8382137517641692, 0.8382137517641692]</td>\n",
              "      <td>1.0</td>\n",
              "      <td>[0.3019111218362139, 0.6980888781637861]</td>\n",
              "    </tr>\n",
              "    <tr>\n",
              "      <th>4</th>\n",
              "      <td>0</td>\n",
              "      <td>[2.9933445814124005, 0.42455672267709643, 1.0]</td>\n",
              "      <td>[3.841233847532367, -3.841233847532367]</td>\n",
              "      <td>0.0</td>\n",
              "      <td>[0.9789840535081223, 0.021015946491877532]</td>\n",
              "    </tr>\n",
              "  </tbody>\n",
              "</table>\n",
              "</div>"
            ],
            "text/plain": [
              "   repeat_customer                                    all_features  \\\n",
              "0                1     [5.388020246542321, 3.349752541922291, 0.0]   \n",
              "1                0     [3.5920134976948805, 1.54114090331786, 1.0]   \n",
              "2                0     [5.986689162824801, 2.373272079764969, 1.0]   \n",
              "3                1    [2.9933445814124005, 1.923241953727247, 1.0]   \n",
              "4                0  [2.9933445814124005, 0.42455672267709643, 1.0]   \n",
              "\n",
              "                               rawPrediction  prediction  \\\n",
              "0    [-3.804103361292102, 3.804103361292102]         1.0   \n",
              "1  [0.9143988561930946, -0.9143988561930946]         0.0   \n",
              "2  [0.5543879134927647, -0.5543879134927647]         0.0   \n",
              "3  [-0.8382137517641692, 0.8382137517641692]         1.0   \n",
              "4    [3.841233847532367, -3.841233847532367]         0.0   \n",
              "\n",
              "                                  probability  \n",
              "0    [0.02179362090741505, 0.978206379092585]  \n",
              "1    [0.7138994607352177, 0.2861005392647823]  \n",
              "2   [0.6351530200128316, 0.36484697998716836]  \n",
              "3    [0.3019111218362139, 0.6980888781637861]  \n",
              "4  [0.9789840535081223, 0.021015946491877532]  "
            ]
          },
          "execution_count": 75,
          "metadata": {},
          "output_type": "execute_result"
        }
      ],
      "source": [
        "\n",
        "predictions = lr_model.transform(test_transformed)\n",
        "predictions.select('repeat_customer','all_features','rawPrediction','prediction','probability').limit(5).toPandas()"
      ]
    },
    {
      "cell_type": "code",
      "execution_count": null,
      "metadata": {
        "id": "ZvcW0hoBC3s0",
        "outputId": "78e7be90-6852-4a85-e5ae-23377571c29c"
      },
      "outputs": [
        {
          "name": "stdout",
          "output_type": "stream",
          "text": [
            "Test Area under ROC: 0.9702149702149704\n"
          ]
        }
      ],
      "source": [
        "from pyspark.ml.evaluation import BinaryClassificationEvaluator\n",
        "evaluator = BinaryClassificationEvaluator(labelCol='repeat_customer', rawPredictionCol='rawPrediction')\n",
        "\n",
        "print(\"Test Area under ROC: {}\".format(evaluator.evaluate(predictions)))"
      ]
    },
    {
      "cell_type": "code",
      "execution_count": null,
      "metadata": {
        "id": "lWnmn0dCC3s1",
        "outputId": "84308baa-0cb6-4bd5-cbf4-4b9b6d50a947"
      },
      "outputs": [
        {
          "name": "stdout",
          "output_type": "stream",
          "text": [
            "Accuracy :  0.9202898550724637\n"
          ]
        }
      ],
      "source": [
        "\n",
        "\n",
        "accuracy = predictions.filter(predictions.repeat_customer == predictions.prediction).count() / float(predictions.count())\n",
        "print(\"Accuracy : \",accuracy)"
      ]
    },
    {
      "cell_type": "code",
      "execution_count": null,
      "metadata": {
        "id": "shYtrn7DC3s1",
        "outputId": "74947cc5-ff5f-41a3-c4f0-0f8c64bf5595"
      },
      "outputs": [
        {
          "name": "stdout",
          "output_type": "stream",
          "text": [
            "Model Weights:\n"
          ]
        },
        {
          "data": {
            "text/html": [
              "<div>\n",
              "<style scoped>\n",
              "    .dataframe tbody tr th:only-of-type {\n",
              "        vertical-align: middle;\n",
              "    }\n",
              "\n",
              "    .dataframe tbody tr th {\n",
              "        vertical-align: top;\n",
              "    }\n",
              "\n",
              "    .dataframe thead th {\n",
              "        text-align: right;\n",
              "    }\n",
              "</style>\n",
              "<table border=\"1\" class=\"dataframe\">\n",
              "  <thead>\n",
              "    <tr style=\"text-align: right;\">\n",
              "      <th></th>\n",
              "      <th>Feature Weight</th>\n",
              "    </tr>\n",
              "  </thead>\n",
              "  <tbody>\n",
              "    <tr>\n",
              "      <th>days_until_shipped</th>\n",
              "      <td>-0.934661</td>\n",
              "    </tr>\n",
              "    <tr>\n",
              "      <th>total</th>\n",
              "      <td>3.122369</td>\n",
              "    </tr>\n",
              "    <tr>\n",
              "      <th>customer_type_index</th>\n",
              "      <td>-0.750007</td>\n",
              "    </tr>\n",
              "  </tbody>\n",
              "</table>\n",
              "</div>"
            ],
            "text/plain": [
              "                     Feature Weight\n",
              "days_until_shipped        -0.934661\n",
              "total                      3.122369\n",
              "customer_type_index       -0.750007"
            ]
          },
          "execution_count": 78,
          "metadata": {},
          "output_type": "execute_result"
        }
      ],
      "source": [
        "\n",
        "weights = lr_model.coefficients\n",
        "print(\"Model Weights:\")\n",
        "feature_names=['days_until_shipped', 'total', 'customer_type_index']\n",
        "pd.DataFrame([float(w) for w in weights], columns=['Feature Weight'], index=feature_names)\n",
        "\n"
      ]
    },
    {
      "cell_type": "code",
      "execution_count": null,
      "metadata": {
        "id": "p_M-KR3mC3s1",
        "outputId": "20a05698-9af8-4183-e709-4e3c9ad7fe1e"
      },
      "outputs": [
        {
          "name": "stdout",
          "output_type": "stream",
          "text": [
            "+---------------+-----+\n",
            "|repeat_customer|count|\n",
            "+---------------+-----+\n",
            "|              1|   39|\n",
            "|              0|   99|\n",
            "+---------------+-----+\n",
            "\n"
          ]
        }
      ],
      "source": [
        "count_df = predictions.groupBy(\"repeat_customer\").count()\n",
        "count_df.show()"
      ]
    },
    {
      "cell_type": "markdown",
      "metadata": {
        "id": "TPzeEFyYC3s2"
      },
      "source": [
        "### Clean and Preprocess the Recent Customer Data. Make Predictions About Which Recent Customers Will Be Repeat Customers"
      ]
    },
    {
      "cell_type": "code",
      "execution_count": null,
      "metadata": {
        "collapsed": true,
        "id": "nAZf76T3C3s2"
      },
      "outputs": [],
      "source": [
        "recent_customers_transformed = pipeline_model.transform(recent_combined_table)"
      ]
    },
    {
      "cell_type": "code",
      "execution_count": null,
      "metadata": {
        "id": "zaHvLr4FC3s2",
        "outputId": "e9b923a7-38a8-4955-e7d3-ef3fd72a3c14"
      },
      "outputs": [
        {
          "data": {
            "text/html": [
              "<div>\n",
              "<style scoped>\n",
              "    .dataframe tbody tr th:only-of-type {\n",
              "        vertical-align: middle;\n",
              "    }\n",
              "\n",
              "    .dataframe tbody tr th {\n",
              "        vertical-align: top;\n",
              "    }\n",
              "\n",
              "    .dataframe thead th {\n",
              "        text-align: right;\n",
              "    }\n",
              "</style>\n",
              "<table border=\"1\" class=\"dataframe\">\n",
              "  <thead>\n",
              "    <tr style=\"text-align: right;\">\n",
              "      <th></th>\n",
              "      <th>all_features</th>\n",
              "      <th>rawPrediction</th>\n",
              "      <th>prediction</th>\n",
              "      <th>probability</th>\n",
              "    </tr>\n",
              "  </thead>\n",
              "  <tbody>\n",
              "    <tr>\n",
              "      <th>0</th>\n",
              "      <td>[4.190682413977361, 2.122783613385482, 0.0]</td>\n",
              "      <td>[-1.0921588206341784, 1.0921588206341784]</td>\n",
              "      <td>1.0</td>\n",
              "      <td>[0.2512119764128342, 0.7487880235871659]</td>\n",
              "    </tr>\n",
              "    <tr>\n",
              "      <th>1</th>\n",
              "      <td>[3.5920134976948805, 1.2906524369383732, 1.0]</td>\n",
              "      <td>[1.6965161603248102, -1.6965161603248102]</td>\n",
              "      <td>0.0</td>\n",
              "      <td>[0.8450791774997624, 0.15492082250023764]</td>\n",
              "    </tr>\n",
              "    <tr>\n",
              "      <th>2</th>\n",
              "      <td>[5.388020246542321, 1.562368739451715, 1.0]</td>\n",
              "      <td>[2.5267746692814668, -2.5267746692814668]</td>\n",
              "      <td>0.0</td>\n",
              "      <td>[0.9259976377949819, 0.07400236220501812]</td>\n",
              "    </tr>\n",
              "    <tr>\n",
              "      <th>3</th>\n",
              "      <td>[4.789351330259841, 3.073790672182178, 0.0]</td>\n",
              "      <td>[-3.5020010177168923, 3.5020010177168923]</td>\n",
              "      <td>1.0</td>\n",
              "      <td>[0.02925534933947105, 0.9707446506605288]</td>\n",
              "    </tr>\n",
              "    <tr>\n",
              "      <th>4</th>\n",
              "      <td>[2.9933445814124005, 2.02513556716975, 1.0]</td>\n",
              "      <td>[-1.1563631636143588, 1.1563631636143588]</td>\n",
              "      <td>1.0</td>\n",
              "      <td>[0.2393287452227739, 0.7606712547772262]</td>\n",
              "    </tr>\n",
              "    <tr>\n",
              "      <th>5</th>\n",
              "      <td>[4.789351330259841, 1.3967916176076474, 1.0]</td>\n",
              "      <td>[2.484215150018971, -2.484215150018971]</td>\n",
              "      <td>0.0</td>\n",
              "      <td>[0.923027808134615, 0.07697219186538488]</td>\n",
              "    </tr>\n",
              "    <tr>\n",
              "      <th>6</th>\n",
              "      <td>[4.190682413977361, 2.1907126890138175, 0.0]</td>\n",
              "      <td>[-1.3042584285343044, 1.3042584285343044]</td>\n",
              "      <td>1.0</td>\n",
              "      <td>[0.21344920278478194, 0.786550797215218]</td>\n",
              "    </tr>\n",
              "    <tr>\n",
              "      <th>7</th>\n",
              "      <td>[4.789351330259841, 3.6809067856104263, 1.0]</td>\n",
              "      <td>[-4.647634165622774, 4.647634165622774]</td>\n",
              "      <td>1.0</td>\n",
              "      <td>[0.00949326406225118, 0.9905067359377487]</td>\n",
              "    </tr>\n",
              "    <tr>\n",
              "      <th>8</th>\n",
              "      <td>[2.3946756651299204, 0.6071161134282479, 0.0]</td>\n",
              "      <td>[1.9616567400802274, -1.9616567400802274]</td>\n",
              "      <td>0.0</td>\n",
              "      <td>[0.8767121378900404, 0.12328786210995954]</td>\n",
              "    </tr>\n",
              "    <tr>\n",
              "      <th>9</th>\n",
              "      <td>[3.5920134976948805, 1.2566878991242054, 0.0]</td>\n",
              "      <td>[1.0525588665733778, -1.0525588665733778]</td>\n",
              "      <td>0.0</td>\n",
              "      <td>[0.7412659689784399, 0.2587340310215601]</td>\n",
              "    </tr>\n",
              "    <tr>\n",
              "      <th>10</th>\n",
              "      <td>[4.190682413977361, 1.3331081092060828, 0.0]</td>\n",
              "      <td>[1.3734991212047896, -1.3734991212047896]</td>\n",
              "      <td>0.0</td>\n",
              "      <td>[0.797944901006191, 0.20205509899380897]</td>\n",
              "    </tr>\n",
              "    <tr>\n",
              "      <th>11</th>\n",
              "      <td>[3.5920134976948805, 0.5858882772943931, 0.0]</td>\n",
              "      <td>[3.147042494587125, -3.147042494587125]</td>\n",
              "      <td>0.0</td>\n",
              "      <td>[0.9587920295568736, 0.04120797044312648]</td>\n",
              "    </tr>\n",
              "    <tr>\n",
              "      <th>12</th>\n",
              "      <td>[4.789351330259841, 0.7344831302313768, 1.0]</td>\n",
              "      <td>[4.552186327045202, -4.552186327045202]</td>\n",
              "      <td>0.0</td>\n",
              "      <td>[0.9895658922925651, 0.010434107707435046]</td>\n",
              "    </tr>\n",
              "    <tr>\n",
              "      <th>13</th>\n",
              "      <td>[4.789351330259841, 4.190374852822942, 1.0]</td>\n",
              "      <td>[-6.238381224873724, 6.238381224873724]</td>\n",
              "      <td>1.0</td>\n",
              "      <td>[0.0019492076259049337, 0.9980507923740951]</td>\n",
              "    </tr>\n",
              "    <tr>\n",
              "      <th>14</th>\n",
              "      <td>[4.789351330259841, 1.54114090331786, 1.0]</td>\n",
              "      <td>[2.0335034832312027, -2.0335034832312027]</td>\n",
              "      <td>0.0</td>\n",
              "      <td>[0.884270095093509, 0.11572990490649113]</td>\n",
              "    </tr>\n",
              "    <tr>\n",
              "      <th>15</th>\n",
              "      <td>[3.5920134976948805, 1.8510673108721405, 0.0]</td>\n",
              "      <td>[-0.8033127025527271, 0.8033127025527271]</td>\n",
              "      <td>1.0</td>\n",
              "      <td>[0.3093173459959873, 0.6906826540040127]</td>\n",
              "    </tr>\n",
              "    <tr>\n",
              "      <th>16</th>\n",
              "      <td>[3.5920134976948805, 2.0506089705303756, 0.0]</td>\n",
              "      <td>[-1.4263553007593472, 1.4263553007593472]</td>\n",
              "      <td>1.0</td>\n",
              "      <td>[0.1936672058871411, 0.8063327941128589]</td>\n",
              "    </tr>\n",
              "    <tr>\n",
              "      <th>17</th>\n",
              "      <td>[4.789351330259841, 2.258641764642153, 1.0]</td>\n",
              "      <td>[-0.20679862521388115, 0.20679862521388115]</td>\n",
              "      <td>1.0</td>\n",
              "      <td>[0.4484838066873633, 0.5515161933126366]</td>\n",
              "    </tr>\n",
              "    <tr>\n",
              "      <th>18</th>\n",
              "      <td>[1.7960067488474403, 0.118875882349587, 1.0]</td>\n",
              "      <td>[3.6765774560448268, -3.6765774560448268]</td>\n",
              "      <td>0.0</td>\n",
              "      <td>[0.9753153065296397, 0.024684693470360237]</td>\n",
              "    </tr>\n",
              "  </tbody>\n",
              "</table>\n",
              "</div>"
            ],
            "text/plain": [
              "                                     all_features  \\\n",
              "0     [4.190682413977361, 2.122783613385482, 0.0]   \n",
              "1   [3.5920134976948805, 1.2906524369383732, 1.0]   \n",
              "2     [5.388020246542321, 1.562368739451715, 1.0]   \n",
              "3     [4.789351330259841, 3.073790672182178, 0.0]   \n",
              "4     [2.9933445814124005, 2.02513556716975, 1.0]   \n",
              "5    [4.789351330259841, 1.3967916176076474, 1.0]   \n",
              "6    [4.190682413977361, 2.1907126890138175, 0.0]   \n",
              "7    [4.789351330259841, 3.6809067856104263, 1.0]   \n",
              "8   [2.3946756651299204, 0.6071161134282479, 0.0]   \n",
              "9   [3.5920134976948805, 1.2566878991242054, 0.0]   \n",
              "10   [4.190682413977361, 1.3331081092060828, 0.0]   \n",
              "11  [3.5920134976948805, 0.5858882772943931, 0.0]   \n",
              "12   [4.789351330259841, 0.7344831302313768, 1.0]   \n",
              "13    [4.789351330259841, 4.190374852822942, 1.0]   \n",
              "14     [4.789351330259841, 1.54114090331786, 1.0]   \n",
              "15  [3.5920134976948805, 1.8510673108721405, 0.0]   \n",
              "16  [3.5920134976948805, 2.0506089705303756, 0.0]   \n",
              "17    [4.789351330259841, 2.258641764642153, 1.0]   \n",
              "18   [1.7960067488474403, 0.118875882349587, 1.0]   \n",
              "\n",
              "                                  rawPrediction  prediction  \\\n",
              "0     [-1.0921588206341784, 1.0921588206341784]         1.0   \n",
              "1     [1.6965161603248102, -1.6965161603248102]         0.0   \n",
              "2     [2.5267746692814668, -2.5267746692814668]         0.0   \n",
              "3     [-3.5020010177168923, 3.5020010177168923]         1.0   \n",
              "4     [-1.1563631636143588, 1.1563631636143588]         1.0   \n",
              "5       [2.484215150018971, -2.484215150018971]         0.0   \n",
              "6     [-1.3042584285343044, 1.3042584285343044]         1.0   \n",
              "7       [-4.647634165622774, 4.647634165622774]         1.0   \n",
              "8     [1.9616567400802274, -1.9616567400802274]         0.0   \n",
              "9     [1.0525588665733778, -1.0525588665733778]         0.0   \n",
              "10    [1.3734991212047896, -1.3734991212047896]         0.0   \n",
              "11      [3.147042494587125, -3.147042494587125]         0.0   \n",
              "12      [4.552186327045202, -4.552186327045202]         0.0   \n",
              "13      [-6.238381224873724, 6.238381224873724]         1.0   \n",
              "14    [2.0335034832312027, -2.0335034832312027]         0.0   \n",
              "15    [-0.8033127025527271, 0.8033127025527271]         1.0   \n",
              "16    [-1.4263553007593472, 1.4263553007593472]         1.0   \n",
              "17  [-0.20679862521388115, 0.20679862521388115]         1.0   \n",
              "18    [3.6765774560448268, -3.6765774560448268]         0.0   \n",
              "\n",
              "                                    probability  \n",
              "0      [0.2512119764128342, 0.7487880235871659]  \n",
              "1     [0.8450791774997624, 0.15492082250023764]  \n",
              "2     [0.9259976377949819, 0.07400236220501812]  \n",
              "3     [0.02925534933947105, 0.9707446506605288]  \n",
              "4      [0.2393287452227739, 0.7606712547772262]  \n",
              "5      [0.923027808134615, 0.07697219186538488]  \n",
              "6      [0.21344920278478194, 0.786550797215218]  \n",
              "7     [0.00949326406225118, 0.9905067359377487]  \n",
              "8     [0.8767121378900404, 0.12328786210995954]  \n",
              "9      [0.7412659689784399, 0.2587340310215601]  \n",
              "10     [0.797944901006191, 0.20205509899380897]  \n",
              "11    [0.9587920295568736, 0.04120797044312648]  \n",
              "12   [0.9895658922925651, 0.010434107707435046]  \n",
              "13  [0.0019492076259049337, 0.9980507923740951]  \n",
              "14     [0.884270095093509, 0.11572990490649113]  \n",
              "15     [0.3093173459959873, 0.6906826540040127]  \n",
              "16     [0.1936672058871411, 0.8063327941128589]  \n",
              "17     [0.4484838066873633, 0.5515161933126366]  \n",
              "18   [0.9753153065296397, 0.024684693470360237]  "
            ]
          },
          "execution_count": 89,
          "metadata": {},
          "output_type": "execute_result"
        }
      ],
      "source": [
        "#Make Predictions and view ALL repeat vs non-repeat customers\n",
        "predictions_recent = lr_model.transform(recent_customers_transformed)\n",
        "predictions.select('all_features','rawPrediction','prediction','probability').limit(20).toPandas()\n",
        "\n",
        "\n",
        "\n"
      ]
    },
    {
      "cell_type": "code",
      "execution_count": null,
      "metadata": {
        "id": "Kz6Rg3KkC3s2",
        "outputId": "80197c05-09c7-469f-a552-63ff993f796d"
      },
      "outputs": [
        {
          "name": "stdout",
          "output_type": "stream",
          "text": [
            "+----------+-----+\n",
            "|prediction|count|\n",
            "+----------+-----+\n",
            "|       0.0|   10|\n",
            "|       1.0|    9|\n",
            "+----------+-----+\n",
            "\n"
          ]
        }
      ],
      "source": [
        "#Count number of predictions for repeat and non-repeat\n",
        "customer_counts = predictions_recent.groupBy('prediction').count()\n",
        "\n",
        "customer_counts.show()"
      ]
    },
    {
      "cell_type": "code",
      "execution_count": null,
      "metadata": {
        "id": "csmYRD20C3s2",
        "outputId": "943a9304-6a1c-4b16-b9a3-6c471ad4374f"
      },
      "outputs": [
        {
          "name": "stdout",
          "output_type": "stream",
          "text": [
            "+---------------+-----+\n",
            "|repeat_customer|count|\n",
            "+---------------+-----+\n",
            "|              1|  187|\n",
            "|              0|  464|\n",
            "+---------------+-----+\n",
            "\n"
          ]
        }
      ],
      "source": [
        "#We count how many repeat customers there are in historical dataset vs non-repeat\n",
        "duplicate_counts = combined_table.groupBy(\"repeat_customer\").count()\n",
        "\n",
        "duplicates = duplicate_counts.filter(duplicate_counts[\"count\"] > 1)\n",
        "\n",
        "duplicates.show()"
      ]
    },
    {
      "cell_type": "markdown",
      "metadata": {
        "id": "x3xRf4wAC3s3"
      },
      "source": [
        "#  END OF NOTEBOOK"
      ]
    },
    {
      "cell_type": "markdown",
      "metadata": {
        "id": "KvFKrEikC3s3"
      },
      "source": [
        "## Here I just did some feature engineering to address the class imbalance.\n",
        "## I added product_line and extracted the store location code from the invoice_id as categorical columns and converted them to numerical indices\n",
        "## This Section can be ignored"
      ]
    },
    {
      "cell_type": "code",
      "execution_count": null,
      "metadata": {
        "collapsed": true,
        "id": "1n-cRnUIC3s3"
      },
      "outputs": [],
      "source": [
        "#Extracting Last letter in Invoice_ID to create new column\n",
        "combined_table_calc = combined_table.withColumn(\"store_location_code\", expr(\"substring(invoice_id, length(invoice_id), 1)\"))"
      ]
    },
    {
      "cell_type": "code",
      "execution_count": null,
      "metadata": {
        "id": "VrbWTOnPC3s3",
        "outputId": "c0d8de55-c4f4-4cd5-b52a-b5aca9078def"
      },
      "outputs": [
        {
          "data": {
            "text/html": [
              "<div>\n",
              "<style scoped>\n",
              "    .dataframe tbody tr th:only-of-type {\n",
              "        vertical-align: middle;\n",
              "    }\n",
              "\n",
              "    .dataframe tbody tr th {\n",
              "        vertical-align: top;\n",
              "    }\n",
              "\n",
              "    .dataframe thead th {\n",
              "        text-align: right;\n",
              "    }\n",
              "</style>\n",
              "<table border=\"1\" class=\"dataframe\">\n",
              "  <thead>\n",
              "    <tr style=\"text-align: right;\">\n",
              "      <th></th>\n",
              "      <th>customer_id</th>\n",
              "      <th>customer_type</th>\n",
              "      <th>repeat_customer</th>\n",
              "      <th>invoice_id</th>\n",
              "      <th>product_id</th>\n",
              "      <th>days_until_shipped</th>\n",
              "      <th>product_line</th>\n",
              "      <th>total</th>\n",
              "      <th>store_location_code</th>\n",
              "    </tr>\n",
              "  </thead>\n",
              "  <tbody>\n",
              "    <tr>\n",
              "      <th>0</th>\n",
              "      <td>81769</td>\n",
              "      <td>non-member</td>\n",
              "      <td>0</td>\n",
              "      <td>817-69-8206-B</td>\n",
              "      <td>H013</td>\n",
              "      <td>7</td>\n",
              "      <td>Home</td>\n",
              "      <td>93</td>\n",
              "      <td>B</td>\n",
              "    </tr>\n",
              "    <tr>\n",
              "      <th>1</th>\n",
              "      <td>59586</td>\n",
              "      <td>member</td>\n",
              "      <td>0</td>\n",
              "      <td>595-86-2894-C</td>\n",
              "      <td>E305</td>\n",
              "      <td>8</td>\n",
              "      <td>Electronics</td>\n",
              "      <td>430</td>\n",
              "      <td>C</td>\n",
              "    </tr>\n",
              "    <tr>\n",
              "      <th>2</th>\n",
              "      <td>27974</td>\n",
              "      <td>non-member</td>\n",
              "      <td>0</td>\n",
              "      <td>279-74-2924-B</td>\n",
              "      <td>B002</td>\n",
              "      <td>7</td>\n",
              "      <td>Health</td>\n",
              "      <td>269</td>\n",
              "      <td>B</td>\n",
              "    </tr>\n",
              "    <tr>\n",
              "      <th>3</th>\n",
              "      <td>71976</td>\n",
              "      <td>non-member</td>\n",
              "      <td>0</td>\n",
              "      <td>719-76-3868-C</td>\n",
              "      <td>H246</td>\n",
              "      <td>6</td>\n",
              "      <td>Home</td>\n",
              "      <td>148</td>\n",
              "      <td>C</td>\n",
              "    </tr>\n",
              "    <tr>\n",
              "      <th>4</th>\n",
              "      <td>52509</td>\n",
              "      <td>non-member</td>\n",
              "      <td>0</td>\n",
              "      <td>525-09-8450-B</td>\n",
              "      <td>E302</td>\n",
              "      <td>4</td>\n",
              "      <td>Electronics</td>\n",
              "      <td>173</td>\n",
              "      <td>B</td>\n",
              "    </tr>\n",
              "  </tbody>\n",
              "</table>\n",
              "</div>"
            ],
            "text/plain": [
              "   customer_id customer_type  repeat_customer     invoice_id product_id  \\\n",
              "0        81769    non-member                0  817-69-8206-B       H013   \n",
              "1        59586        member                0  595-86-2894-C       E305   \n",
              "2        27974    non-member                0  279-74-2924-B       B002   \n",
              "3        71976    non-member                0  719-76-3868-C       H246   \n",
              "4        52509    non-member                0  525-09-8450-B       E302   \n",
              "\n",
              "   days_until_shipped product_line  total store_location_code  \n",
              "0                   7         Home     93                   B  \n",
              "1                   8  Electronics    430                   C  \n",
              "2                   7       Health    269                   B  \n",
              "3                   6         Home    148                   C  \n",
              "4                   4  Electronics    173                   B  "
            ]
          },
          "execution_count": 83,
          "metadata": {},
          "output_type": "execute_result"
        }
      ],
      "source": [
        "combined_table_calc.limit(5).toPandas()"
      ]
    },
    {
      "cell_type": "code",
      "execution_count": null,
      "metadata": {
        "id": "L8bujAlVC3s3",
        "outputId": "bd7fff74-45f0-4dab-d6e0-b89d8438cd18"
      },
      "outputs": [
        {
          "name": "stdout",
          "output_type": "stream",
          "text": [
            "+-------------------+--------------------+\n",
            "|store_location_code|store_location_index|\n",
            "+-------------------+--------------------+\n",
            "|                  B|                 2.0|\n",
            "|                  C|                 0.0|\n",
            "|                  B|                 2.0|\n",
            "|                  C|                 0.0|\n",
            "|                  B|                 2.0|\n",
            "|                  C|                 0.0|\n",
            "|                  B|                 2.0|\n",
            "|                  C|                 0.0|\n",
            "|                  C|                 0.0|\n",
            "|                  C|                 0.0|\n",
            "|                  A|                 1.0|\n",
            "|                  C|                 0.0|\n",
            "|                  B|                 2.0|\n",
            "|                  C|                 0.0|\n",
            "|                  C|                 0.0|\n",
            "|                  C|                 0.0|\n",
            "|                  B|                 2.0|\n",
            "|                  C|                 0.0|\n",
            "|                  B|                 2.0|\n",
            "|                  C|                 0.0|\n",
            "+-------------------+--------------------+\n",
            "only showing top 20 rows\n",
            "\n"
          ]
        }
      ],
      "source": [
        "#Add store location code as categorical value\n",
        "indexer1 = StringIndexer(inputCol='store_location_code', outputCol='store_location_index')\n",
        "combined_table_indexed = indexer1.fit(combined_table_calc).transform(combined_table_calc)\n",
        "\n",
        "\n",
        "combined_table_indexed.select('store_location_code', 'store_location_index').show()"
      ]
    },
    {
      "cell_type": "code",
      "execution_count": null,
      "metadata": {
        "id": "TepPZSmnC3s4",
        "outputId": "03cf735b-13da-4ccf-b210-0d000d7cfdca"
      },
      "outputs": [
        {
          "name": "stdout",
          "output_type": "stream",
          "text": [
            "+-------------+-------------------+\n",
            "|customer_type|customer_type_index|\n",
            "+-------------+-------------------+\n",
            "|   non-member|                1.0|\n",
            "|       member|                0.0|\n",
            "|   non-member|                1.0|\n",
            "|   non-member|                1.0|\n",
            "|   non-member|                1.0|\n",
            "|       member|                0.0|\n",
            "|       member|                0.0|\n",
            "|   non-member|                1.0|\n",
            "|   non-member|                1.0|\n",
            "|   non-member|                1.0|\n",
            "|   non-member|                1.0|\n",
            "|   non-member|                1.0|\n",
            "|       member|                0.0|\n",
            "|   non-member|                1.0|\n",
            "|   non-member|                1.0|\n",
            "|       member|                0.0|\n",
            "|       member|                0.0|\n",
            "|       member|                0.0|\n",
            "|   non-member|                1.0|\n",
            "|   non-member|                1.0|\n",
            "+-------------+-------------------+\n",
            "only showing top 20 rows\n",
            "\n"
          ]
        }
      ],
      "source": [
        "#Also adding customer type as categorical value\n",
        "indexer2 = StringIndexer(inputCol='customer_type', outputCol='customer_type_index')\n",
        "combined_table_indexed2 = indexer2.fit(combined_table_indexed).transform(combined_table_indexed)\n",
        "\n",
        "\n",
        "combined_table_indexed2.select('customer_type', 'customer_type_index').show()"
      ]
    },
    {
      "cell_type": "code",
      "execution_count": null,
      "metadata": {
        "id": "q7hAOXfAC3s4",
        "outputId": "eb1de410-97b4-46c5-f80d-0767403ab768"
      },
      "outputs": [
        {
          "name": "stdout",
          "output_type": "stream",
          "text": [
            "+--------------+------------------+\n",
            "|  product_line|product_line_index|\n",
            "+--------------+------------------+\n",
            "|          Home|               2.0|\n",
            "|   Electronics|               4.0|\n",
            "|        Health|               5.0|\n",
            "|          Home|               2.0|\n",
            "|   Electronics|               4.0|\n",
            "|        Travel|               3.0|\n",
            "|          Home|               2.0|\n",
            "|       Fashion|               1.0|\n",
            "|       Fashion|               1.0|\n",
            "|Food and Drink|               0.0|\n",
            "|        Health|               5.0|\n",
            "|       Fashion|               1.0|\n",
            "|        Travel|               3.0|\n",
            "|        Travel|               3.0|\n",
            "|        Health|               5.0|\n",
            "|Food and Drink|               0.0|\n",
            "|        Travel|               3.0|\n",
            "|        Travel|               3.0|\n",
            "|   Electronics|               4.0|\n",
            "|        Health|               5.0|\n",
            "+--------------+------------------+\n",
            "only showing top 20 rows\n",
            "\n"
          ]
        }
      ],
      "source": [
        "#Add product_line as categorical value\n",
        "indexer3 = StringIndexer(inputCol='product_line', outputCol='product_line_index')\n",
        "combined_table_indexed3 = indexer3.fit(combined_table_indexed2).transform(combined_table_indexed2)\n",
        "\n",
        "\n",
        "combined_table_indexed3.select('product_line', 'product_line_index').show()"
      ]
    },
    {
      "cell_type": "code",
      "execution_count": null,
      "metadata": {
        "id": "CFMzakVnC3s4",
        "outputId": "12e7c84f-fde1-4788-dce2-a212054f9b23"
      },
      "outputs": [
        {
          "name": "stdout",
          "output_type": "stream",
          "text": [
            "['customer_id', 'repeat_customer', 'days_until_shipped', 'total', 'store_location_index', 'customer_type_index', 'product_line_index']\n"
          ]
        }
      ],
      "source": [
        "#We retrieve our numeric columns\n",
        "numeric_features = [t[0] for t in combined_table_indexed3.dtypes if t[1] != 'string']\n",
        "print(numeric_features)"
      ]
    },
    {
      "cell_type": "code",
      "execution_count": null,
      "metadata": {
        "id": "Bctwk-KeC3s5",
        "outputId": "08e1f701-2d5e-4de6-c4b8-9b52f6656617"
      },
      "outputs": [
        {
          "data": {
            "text/html": [
              "<div>\n",
              "<style scoped>\n",
              "    .dataframe tbody tr th:only-of-type {\n",
              "        vertical-align: middle;\n",
              "    }\n",
              "\n",
              "    .dataframe tbody tr th {\n",
              "        vertical-align: top;\n",
              "    }\n",
              "\n",
              "    .dataframe thead th {\n",
              "        text-align: right;\n",
              "    }\n",
              "</style>\n",
              "<table border=\"1\" class=\"dataframe\">\n",
              "  <thead>\n",
              "    <tr style=\"text-align: right;\">\n",
              "      <th></th>\n",
              "      <th>customer_id</th>\n",
              "      <th>repeat_customer</th>\n",
              "      <th>days_until_shipped</th>\n",
              "      <th>total</th>\n",
              "      <th>store_location_index</th>\n",
              "      <th>customer_type_index</th>\n",
              "      <th>product_line_index</th>\n",
              "    </tr>\n",
              "  </thead>\n",
              "  <tbody>\n",
              "    <tr>\n",
              "      <th>0</th>\n",
              "      <td>81769</td>\n",
              "      <td>0</td>\n",
              "      <td>7</td>\n",
              "      <td>93</td>\n",
              "      <td>2.0</td>\n",
              "      <td>1.0</td>\n",
              "      <td>2.0</td>\n",
              "    </tr>\n",
              "    <tr>\n",
              "      <th>1</th>\n",
              "      <td>59586</td>\n",
              "      <td>0</td>\n",
              "      <td>8</td>\n",
              "      <td>430</td>\n",
              "      <td>0.0</td>\n",
              "      <td>0.0</td>\n",
              "      <td>4.0</td>\n",
              "    </tr>\n",
              "    <tr>\n",
              "      <th>2</th>\n",
              "      <td>27974</td>\n",
              "      <td>0</td>\n",
              "      <td>7</td>\n",
              "      <td>269</td>\n",
              "      <td>2.0</td>\n",
              "      <td>1.0</td>\n",
              "      <td>5.0</td>\n",
              "    </tr>\n",
              "    <tr>\n",
              "      <th>3</th>\n",
              "      <td>71976</td>\n",
              "      <td>0</td>\n",
              "      <td>6</td>\n",
              "      <td>148</td>\n",
              "      <td>0.0</td>\n",
              "      <td>1.0</td>\n",
              "      <td>2.0</td>\n",
              "    </tr>\n",
              "    <tr>\n",
              "      <th>4</th>\n",
              "      <td>52509</td>\n",
              "      <td>0</td>\n",
              "      <td>4</td>\n",
              "      <td>173</td>\n",
              "      <td>2.0</td>\n",
              "      <td>1.0</td>\n",
              "      <td>4.0</td>\n",
              "    </tr>\n",
              "  </tbody>\n",
              "</table>\n",
              "</div>"
            ],
            "text/plain": [
              "   customer_id  repeat_customer  days_until_shipped  total  \\\n",
              "0        81769                0                   7     93   \n",
              "1        59586                0                   8    430   \n",
              "2        27974                0                   7    269   \n",
              "3        71976                0                   6    148   \n",
              "4        52509                0                   4    173   \n",
              "\n",
              "   store_location_index  customer_type_index  product_line_index  \n",
              "0                   2.0                  1.0                 2.0  \n",
              "1                   0.0                  0.0                 4.0  \n",
              "2                   2.0                  1.0                 5.0  \n",
              "3                   0.0                  1.0                 2.0  \n",
              "4                   2.0                  1.0                 4.0  "
            ]
          },
          "execution_count": 89,
          "metadata": {},
          "output_type": "execute_result"
        }
      ],
      "source": [
        "#We get our dataframe of numeric data using the select() function\n",
        "numeric_features_df = combined_table_indexed3.select(numeric_features)\n",
        "numeric_features_df.limit(5).toPandas()"
      ]
    },
    {
      "cell_type": "code",
      "execution_count": null,
      "metadata": {
        "id": "UBiNA5R0C3s5",
        "outputId": "fb3f86d0-c571-4097-99b5-5cdf4aee4518"
      },
      "outputs": [
        {
          "data": {
            "text/html": [
              "<div>\n",
              "<style scoped>\n",
              "    .dataframe tbody tr th:only-of-type {\n",
              "        vertical-align: middle;\n",
              "    }\n",
              "\n",
              "    .dataframe tbody tr th {\n",
              "        vertical-align: top;\n",
              "    }\n",
              "\n",
              "    .dataframe thead th {\n",
              "        text-align: right;\n",
              "    }\n",
              "</style>\n",
              "<table border=\"1\" class=\"dataframe\">\n",
              "  <thead>\n",
              "    <tr style=\"text-align: right;\">\n",
              "      <th></th>\n",
              "      <th>repeat_customer</th>\n",
              "      <th>days_until_shipped</th>\n",
              "      <th>total</th>\n",
              "      <th>store_location_index</th>\n",
              "      <th>customer_type_index</th>\n",
              "      <th>product_line_index</th>\n",
              "    </tr>\n",
              "  </thead>\n",
              "  <tbody>\n",
              "    <tr>\n",
              "      <th>0</th>\n",
              "      <td>0</td>\n",
              "      <td>7</td>\n",
              "      <td>93</td>\n",
              "      <td>2.0</td>\n",
              "      <td>1.0</td>\n",
              "      <td>2.0</td>\n",
              "    </tr>\n",
              "    <tr>\n",
              "      <th>1</th>\n",
              "      <td>0</td>\n",
              "      <td>8</td>\n",
              "      <td>430</td>\n",
              "      <td>0.0</td>\n",
              "      <td>0.0</td>\n",
              "      <td>4.0</td>\n",
              "    </tr>\n",
              "    <tr>\n",
              "      <th>2</th>\n",
              "      <td>0</td>\n",
              "      <td>7</td>\n",
              "      <td>269</td>\n",
              "      <td>2.0</td>\n",
              "      <td>1.0</td>\n",
              "      <td>5.0</td>\n",
              "    </tr>\n",
              "    <tr>\n",
              "      <th>3</th>\n",
              "      <td>0</td>\n",
              "      <td>6</td>\n",
              "      <td>148</td>\n",
              "      <td>0.0</td>\n",
              "      <td>1.0</td>\n",
              "      <td>2.0</td>\n",
              "    </tr>\n",
              "    <tr>\n",
              "      <th>4</th>\n",
              "      <td>0</td>\n",
              "      <td>4</td>\n",
              "      <td>173</td>\n",
              "      <td>2.0</td>\n",
              "      <td>1.0</td>\n",
              "      <td>4.0</td>\n",
              "    </tr>\n",
              "  </tbody>\n",
              "</table>\n",
              "</div>"
            ],
            "text/plain": [
              "   repeat_customer  days_until_shipped  total  store_location_index  \\\n",
              "0                0                   7     93                   2.0   \n",
              "1                0                   8    430                   0.0   \n",
              "2                0                   7    269                   2.0   \n",
              "3                0                   6    148                   0.0   \n",
              "4                0                   4    173                   2.0   \n",
              "\n",
              "   customer_type_index  product_line_index  \n",
              "0                  1.0                 2.0  \n",
              "1                  0.0                 4.0  \n",
              "2                  1.0                 5.0  \n",
              "3                  1.0                 2.0  \n",
              "4                  1.0                 4.0  "
            ]
          },
          "execution_count": 90,
          "metadata": {},
          "output_type": "execute_result"
        }
      ],
      "source": [
        "#We drop customer_id\n",
        "numeric_features_df = numeric_features_df.drop(\"customer_id\")\n",
        "numeric_features_df.limit(5).toPandas()"
      ]
    },
    {
      "cell_type": "code",
      "execution_count": null,
      "metadata": {
        "id": "jsF7VwP8C3s6",
        "outputId": "25e1bc7a-c087-45b1-c012-455fa8bcfd1b"
      },
      "outputs": [
        {
          "data": {
            "text/html": [
              "<div>\n",
              "<style scoped>\n",
              "    .dataframe tbody tr th:only-of-type {\n",
              "        vertical-align: middle;\n",
              "    }\n",
              "\n",
              "    .dataframe tbody tr th {\n",
              "        vertical-align: top;\n",
              "    }\n",
              "\n",
              "    .dataframe thead th {\n",
              "        text-align: right;\n",
              "    }\n",
              "</style>\n",
              "<table border=\"1\" class=\"dataframe\">\n",
              "  <thead>\n",
              "    <tr style=\"text-align: right;\">\n",
              "      <th></th>\n",
              "      <th>_1</th>\n",
              "      <th>_2</th>\n",
              "      <th>_3</th>\n",
              "      <th>_4</th>\n",
              "      <th>_5</th>\n",
              "      <th>_6</th>\n",
              "    </tr>\n",
              "  </thead>\n",
              "  <tbody>\n",
              "    <tr>\n",
              "      <th>0</th>\n",
              "      <td>0</td>\n",
              "      <td>7</td>\n",
              "      <td>93</td>\n",
              "      <td>2.0</td>\n",
              "      <td>1.0</td>\n",
              "      <td>2.0</td>\n",
              "    </tr>\n",
              "    <tr>\n",
              "      <th>1</th>\n",
              "      <td>0</td>\n",
              "      <td>8</td>\n",
              "      <td>430</td>\n",
              "      <td>0.0</td>\n",
              "      <td>0.0</td>\n",
              "      <td>4.0</td>\n",
              "    </tr>\n",
              "    <tr>\n",
              "      <th>2</th>\n",
              "      <td>0</td>\n",
              "      <td>7</td>\n",
              "      <td>269</td>\n",
              "      <td>2.0</td>\n",
              "      <td>1.0</td>\n",
              "      <td>5.0</td>\n",
              "    </tr>\n",
              "    <tr>\n",
              "      <th>3</th>\n",
              "      <td>0</td>\n",
              "      <td>6</td>\n",
              "      <td>148</td>\n",
              "      <td>0.0</td>\n",
              "      <td>1.0</td>\n",
              "      <td>2.0</td>\n",
              "    </tr>\n",
              "    <tr>\n",
              "      <th>4</th>\n",
              "      <td>0</td>\n",
              "      <td>4</td>\n",
              "      <td>173</td>\n",
              "      <td>2.0</td>\n",
              "      <td>1.0</td>\n",
              "      <td>4.0</td>\n",
              "    </tr>\n",
              "  </tbody>\n",
              "</table>\n",
              "</div>"
            ],
            "text/plain": [
              "   _1  _2   _3   _4   _5   _6\n",
              "0   0   7   93  2.0  1.0  2.0\n",
              "1   0   8  430  0.0  0.0  4.0\n",
              "2   0   7  269  2.0  1.0  5.0\n",
              "3   0   6  148  0.0  1.0  2.0\n",
              "4   0   4  173  2.0  1.0  4.0"
            ]
          },
          "execution_count": 91,
          "metadata": {},
          "output_type": "execute_result"
        }
      ],
      "source": [
        "#We ge the RDD from our dataframe object and use the map() function to only retrieve the row data\n",
        "features_rdd = numeric_features_df.rdd.map(lambda row: row[0:])\n",
        "features_rdd.toDF().limit(5).toPandas()"
      ]
    },
    {
      "cell_type": "code",
      "execution_count": null,
      "metadata": {
        "collapsed": true,
        "id": "34LJLuzsC3s6"
      },
      "outputs": [],
      "source": [
        "#We create our correlation matrix and convert it to a dataframe\n",
        "corr_mat = Statistics.corr(features_rdd, method ='pearson')\n",
        "corr_matrix_df = pd.DataFrame(corr_mat)"
      ]
    },
    {
      "cell_type": "code",
      "execution_count": null,
      "metadata": {
        "id": "qYl2F9a7C3s6",
        "outputId": "77474ef7-3c1e-4710-c8a5-83e938287bdf"
      },
      "outputs": [
        {
          "name": "stdout",
          "output_type": "stream",
          "text": [
            "['repeat_customer', 'days_until_shipped', 'total', 'store_location_index', 'customer_type_index', 'product_line_index']\n"
          ]
        }
      ],
      "source": [
        "#We set numeric_features AGAIN after dropping customer_id\n",
        "numeric_features = [t[0] for t in numeric_features_df.dtypes if t[1] != 'string']\n",
        "print(numeric_features)"
      ]
    },
    {
      "cell_type": "code",
      "execution_count": null,
      "metadata": {
        "id": "mMTbeX75C3s7",
        "outputId": "d55cd0e2-5085-44a3-d99a-266a50750472"
      },
      "outputs": [
        {
          "data": {
            "text/plain": [
              "<AxesSubplot:title={'center':'Feature Correlation Matrix'}>"
            ]
          },
          "execution_count": 94,
          "metadata": {},
          "output_type": "execute_result"
        },
        {
          "data": {
            "image/png": "[encoded data removed]",
            "text/plain": [
              "<Figure size 1440x360 with 2 Axes>"
            ]
          },
          "metadata": {
            "needs_background": "light"
          },
          "output_type": "display_data"
        }
      ],
      "source": [
        "plt.figure(figsize=(20,5))\n",
        "plt.title(\"Feature Correlation Matrix\", fontsize = 25)\n",
        "\n",
        "sns.heatmap(corr_matrix_df, xticklabels=numeric_features, yticklabels=numeric_features, cmap=\"coolwarm\", annot=True, vmin = -1, vmax = 1)"
      ]
    },
    {
      "cell_type": "code",
      "execution_count": null,
      "metadata": {
        "id": "GR6tlMXtC3s7",
        "outputId": "44e1af9b-20f1-441f-cb99-285506fdb85b"
      },
      "outputs": [
        {
          "data": {
            "text/html": [
              "<div>\n",
              "<style scoped>\n",
              "    .dataframe tbody tr th:only-of-type {\n",
              "        vertical-align: middle;\n",
              "    }\n",
              "\n",
              "    .dataframe tbody tr th {\n",
              "        vertical-align: top;\n",
              "    }\n",
              "\n",
              "    .dataframe thead th {\n",
              "        text-align: right;\n",
              "    }\n",
              "</style>\n",
              "<table border=\"1\" class=\"dataframe\">\n",
              "  <thead>\n",
              "    <tr style=\"text-align: right;\">\n",
              "      <th></th>\n",
              "      <th>customer_id</th>\n",
              "      <th>customer_type</th>\n",
              "      <th>repeat_customer</th>\n",
              "      <th>invoice_id</th>\n",
              "      <th>product_id</th>\n",
              "      <th>days_until_shipped</th>\n",
              "      <th>product_line</th>\n",
              "      <th>total</th>\n",
              "      <th>store_location_code</th>\n",
              "      <th>store_location_index</th>\n",
              "      <th>customer_type_index</th>\n",
              "      <th>product_line_index</th>\n",
              "      <th>store_location_encoded</th>\n",
              "    </tr>\n",
              "  </thead>\n",
              "  <tbody>\n",
              "    <tr>\n",
              "      <th>0</th>\n",
              "      <td>81769</td>\n",
              "      <td>non-member</td>\n",
              "      <td>0</td>\n",
              "      <td>817-69-8206-B</td>\n",
              "      <td>H013</td>\n",
              "      <td>7</td>\n",
              "      <td>Home</td>\n",
              "      <td>93</td>\n",
              "      <td>B</td>\n",
              "      <td>2.0</td>\n",
              "      <td>1.0</td>\n",
              "      <td>2.0</td>\n",
              "      <td>(0.0, 0.0)</td>\n",
              "    </tr>\n",
              "    <tr>\n",
              "      <th>1</th>\n",
              "      <td>59586</td>\n",
              "      <td>member</td>\n",
              "      <td>0</td>\n",
              "      <td>595-86-2894-C</td>\n",
              "      <td>E305</td>\n",
              "      <td>8</td>\n",
              "      <td>Electronics</td>\n",
              "      <td>430</td>\n",
              "      <td>C</td>\n",
              "      <td>0.0</td>\n",
              "      <td>0.0</td>\n",
              "      <td>4.0</td>\n",
              "      <td>(1.0, 0.0)</td>\n",
              "    </tr>\n",
              "    <tr>\n",
              "      <th>2</th>\n",
              "      <td>27974</td>\n",
              "      <td>non-member</td>\n",
              "      <td>0</td>\n",
              "      <td>279-74-2924-B</td>\n",
              "      <td>B002</td>\n",
              "      <td>7</td>\n",
              "      <td>Health</td>\n",
              "      <td>269</td>\n",
              "      <td>B</td>\n",
              "      <td>2.0</td>\n",
              "      <td>1.0</td>\n",
              "      <td>5.0</td>\n",
              "      <td>(0.0, 0.0)</td>\n",
              "    </tr>\n",
              "    <tr>\n",
              "      <th>3</th>\n",
              "      <td>71976</td>\n",
              "      <td>non-member</td>\n",
              "      <td>0</td>\n",
              "      <td>719-76-3868-C</td>\n",
              "      <td>H246</td>\n",
              "      <td>6</td>\n",
              "      <td>Home</td>\n",
              "      <td>148</td>\n",
              "      <td>C</td>\n",
              "      <td>0.0</td>\n",
              "      <td>1.0</td>\n",
              "      <td>2.0</td>\n",
              "      <td>(1.0, 0.0)</td>\n",
              "    </tr>\n",
              "    <tr>\n",
              "      <th>4</th>\n",
              "      <td>52509</td>\n",
              "      <td>non-member</td>\n",
              "      <td>0</td>\n",
              "      <td>525-09-8450-B</td>\n",
              "      <td>E302</td>\n",
              "      <td>4</td>\n",
              "      <td>Electronics</td>\n",
              "      <td>173</td>\n",
              "      <td>B</td>\n",
              "      <td>2.0</td>\n",
              "      <td>1.0</td>\n",
              "      <td>4.0</td>\n",
              "      <td>(0.0, 0.0)</td>\n",
              "    </tr>\n",
              "  </tbody>\n",
              "</table>\n",
              "</div>"
            ],
            "text/plain": [
              "   customer_id customer_type  repeat_customer     invoice_id product_id  \\\n",
              "0        81769    non-member                0  817-69-8206-B       H013   \n",
              "1        59586        member                0  595-86-2894-C       E305   \n",
              "2        27974    non-member                0  279-74-2924-B       B002   \n",
              "3        71976    non-member                0  719-76-3868-C       H246   \n",
              "4        52509    non-member                0  525-09-8450-B       E302   \n",
              "\n",
              "   days_until_shipped product_line  total store_location_code  \\\n",
              "0                   7         Home     93                   B   \n",
              "1                   8  Electronics    430                   C   \n",
              "2                   7       Health    269                   B   \n",
              "3                   6         Home    148                   C   \n",
              "4                   4  Electronics    173                   B   \n",
              "\n",
              "   store_location_index  customer_type_index  product_line_index  \\\n",
              "0                   2.0                  1.0                 2.0   \n",
              "1                   0.0                  0.0                 4.0   \n",
              "2                   2.0                  1.0                 5.0   \n",
              "3                   0.0                  1.0                 2.0   \n",
              "4                   2.0                  1.0                 4.0   \n",
              "\n",
              "  store_location_encoded  \n",
              "0             (0.0, 0.0)  \n",
              "1             (1.0, 0.0)  \n",
              "2             (0.0, 0.0)  \n",
              "3             (1.0, 0.0)  \n",
              "4             (0.0, 0.0)  "
            ]
          },
          "execution_count": 96,
          "metadata": {},
          "output_type": "execute_result"
        }
      ],
      "source": [
        "#We encode the store_location into a numerical index\n",
        "encoder1 = OneHotEncoderEstimator().setInputCols(['store_location_index']).setOutputCols(['store_location_encoded'])\n",
        "combined_table_encoded = encoder1.fit(combined_table_indexed3).transform(combined_table_indexed3)\n",
        "\n",
        "combined_table_encoded.limit(5).toPandas()"
      ]
    },
    {
      "cell_type": "code",
      "execution_count": null,
      "metadata": {
        "id": "w1VN0yrcC3s8",
        "outputId": "cf8daa43-62f9-4846-f1a2-ed8ccfc2f26b"
      },
      "outputs": [
        {
          "data": {
            "text/html": [
              "<div>\n",
              "<style scoped>\n",
              "    .dataframe tbody tr th:only-of-type {\n",
              "        vertical-align: middle;\n",
              "    }\n",
              "\n",
              "    .dataframe tbody tr th {\n",
              "        vertical-align: top;\n",
              "    }\n",
              "\n",
              "    .dataframe thead th {\n",
              "        text-align: right;\n",
              "    }\n",
              "</style>\n",
              "<table border=\"1\" class=\"dataframe\">\n",
              "  <thead>\n",
              "    <tr style=\"text-align: right;\">\n",
              "      <th></th>\n",
              "      <th>customer_id</th>\n",
              "      <th>customer_type</th>\n",
              "      <th>repeat_customer</th>\n",
              "      <th>invoice_id</th>\n",
              "      <th>product_id</th>\n",
              "      <th>days_until_shipped</th>\n",
              "      <th>product_line</th>\n",
              "      <th>total</th>\n",
              "      <th>store_location_code</th>\n",
              "      <th>store_location_index</th>\n",
              "      <th>customer_type_index</th>\n",
              "      <th>product_line_index</th>\n",
              "      <th>store_location_encoded</th>\n",
              "      <th>customer_type_encoded</th>\n",
              "    </tr>\n",
              "  </thead>\n",
              "  <tbody>\n",
              "    <tr>\n",
              "      <th>0</th>\n",
              "      <td>81769</td>\n",
              "      <td>non-member</td>\n",
              "      <td>0</td>\n",
              "      <td>817-69-8206-B</td>\n",
              "      <td>H013</td>\n",
              "      <td>7</td>\n",
              "      <td>Home</td>\n",
              "      <td>93</td>\n",
              "      <td>B</td>\n",
              "      <td>2.0</td>\n",
              "      <td>1.0</td>\n",
              "      <td>2.0</td>\n",
              "      <td>(0.0, 0.0)</td>\n",
              "      <td>(0.0)</td>\n",
              "    </tr>\n",
              "    <tr>\n",
              "      <th>1</th>\n",
              "      <td>59586</td>\n",
              "      <td>member</td>\n",
              "      <td>0</td>\n",
              "      <td>595-86-2894-C</td>\n",
              "      <td>E305</td>\n",
              "      <td>8</td>\n",
              "      <td>Electronics</td>\n",
              "      <td>430</td>\n",
              "      <td>C</td>\n",
              "      <td>0.0</td>\n",
              "      <td>0.0</td>\n",
              "      <td>4.0</td>\n",
              "      <td>(1.0, 0.0)</td>\n",
              "      <td>(1.0)</td>\n",
              "    </tr>\n",
              "    <tr>\n",
              "      <th>2</th>\n",
              "      <td>27974</td>\n",
              "      <td>non-member</td>\n",
              "      <td>0</td>\n",
              "      <td>279-74-2924-B</td>\n",
              "      <td>B002</td>\n",
              "      <td>7</td>\n",
              "      <td>Health</td>\n",
              "      <td>269</td>\n",
              "      <td>B</td>\n",
              "      <td>2.0</td>\n",
              "      <td>1.0</td>\n",
              "      <td>5.0</td>\n",
              "      <td>(0.0, 0.0)</td>\n",
              "      <td>(0.0)</td>\n",
              "    </tr>\n",
              "    <tr>\n",
              "      <th>3</th>\n",
              "      <td>71976</td>\n",
              "      <td>non-member</td>\n",
              "      <td>0</td>\n",
              "      <td>719-76-3868-C</td>\n",
              "      <td>H246</td>\n",
              "      <td>6</td>\n",
              "      <td>Home</td>\n",
              "      <td>148</td>\n",
              "      <td>C</td>\n",
              "      <td>0.0</td>\n",
              "      <td>1.0</td>\n",
              "      <td>2.0</td>\n",
              "      <td>(1.0, 0.0)</td>\n",
              "      <td>(0.0)</td>\n",
              "    </tr>\n",
              "    <tr>\n",
              "      <th>4</th>\n",
              "      <td>52509</td>\n",
              "      <td>non-member</td>\n",
              "      <td>0</td>\n",
              "      <td>525-09-8450-B</td>\n",
              "      <td>E302</td>\n",
              "      <td>4</td>\n",
              "      <td>Electronics</td>\n",
              "      <td>173</td>\n",
              "      <td>B</td>\n",
              "      <td>2.0</td>\n",
              "      <td>1.0</td>\n",
              "      <td>4.0</td>\n",
              "      <td>(0.0, 0.0)</td>\n",
              "      <td>(0.0)</td>\n",
              "    </tr>\n",
              "  </tbody>\n",
              "</table>\n",
              "</div>"
            ],
            "text/plain": [
              "   customer_id customer_type  repeat_customer     invoice_id product_id  \\\n",
              "0        81769    non-member                0  817-69-8206-B       H013   \n",
              "1        59586        member                0  595-86-2894-C       E305   \n",
              "2        27974    non-member                0  279-74-2924-B       B002   \n",
              "3        71976    non-member                0  719-76-3868-C       H246   \n",
              "4        52509    non-member                0  525-09-8450-B       E302   \n",
              "\n",
              "   days_until_shipped product_line  total store_location_code  \\\n",
              "0                   7         Home     93                   B   \n",
              "1                   8  Electronics    430                   C   \n",
              "2                   7       Health    269                   B   \n",
              "3                   6         Home    148                   C   \n",
              "4                   4  Electronics    173                   B   \n",
              "\n",
              "   store_location_index  customer_type_index  product_line_index  \\\n",
              "0                   2.0                  1.0                 2.0   \n",
              "1                   0.0                  0.0                 4.0   \n",
              "2                   2.0                  1.0                 5.0   \n",
              "3                   0.0                  1.0                 2.0   \n",
              "4                   2.0                  1.0                 4.0   \n",
              "\n",
              "  store_location_encoded customer_type_encoded  \n",
              "0             (0.0, 0.0)                 (0.0)  \n",
              "1             (1.0, 0.0)                 (1.0)  \n",
              "2             (0.0, 0.0)                 (0.0)  \n",
              "3             (1.0, 0.0)                 (0.0)  \n",
              "4             (0.0, 0.0)                 (0.0)  "
            ]
          },
          "execution_count": 97,
          "metadata": {},
          "output_type": "execute_result"
        }
      ],
      "source": [
        "#We encode the customer_type into a numerical index\n",
        "encoder2 = OneHotEncoderEstimator().setInputCols(['customer_type_index']).setOutputCols(['customer_type_encoded'])\n",
        "combined_table_encoded2 = encoder2.fit(combined_table_encoded).transform(combined_table_encoded)\n",
        "\n",
        "combined_table_encoded2.limit(5).toPandas()"
      ]
    },
    {
      "cell_type": "code",
      "execution_count": null,
      "metadata": {
        "id": "srgWSR-OC3s8",
        "outputId": "74f286a7-0b9c-4187-f1d8-3d922e652c14"
      },
      "outputs": [
        {
          "data": {
            "text/html": [
              "<div>\n",
              "<style scoped>\n",
              "    .dataframe tbody tr th:only-of-type {\n",
              "        vertical-align: middle;\n",
              "    }\n",
              "\n",
              "    .dataframe tbody tr th {\n",
              "        vertical-align: top;\n",
              "    }\n",
              "\n",
              "    .dataframe thead th {\n",
              "        text-align: right;\n",
              "    }\n",
              "</style>\n",
              "<table border=\"1\" class=\"dataframe\">\n",
              "  <thead>\n",
              "    <tr style=\"text-align: right;\">\n",
              "      <th></th>\n",
              "      <th>customer_id</th>\n",
              "      <th>customer_type</th>\n",
              "      <th>repeat_customer</th>\n",
              "      <th>invoice_id</th>\n",
              "      <th>product_id</th>\n",
              "      <th>days_until_shipped</th>\n",
              "      <th>product_line</th>\n",
              "      <th>total</th>\n",
              "      <th>store_location_code</th>\n",
              "      <th>store_location_index</th>\n",
              "      <th>customer_type_index</th>\n",
              "      <th>product_line_index</th>\n",
              "      <th>customer_type_encoded</th>\n",
              "      <th>product_line_encoded</th>\n",
              "      <th>store_location_encoded</th>\n",
              "    </tr>\n",
              "  </thead>\n",
              "  <tbody>\n",
              "    <tr>\n",
              "      <th>0</th>\n",
              "      <td>81769</td>\n",
              "      <td>non-member</td>\n",
              "      <td>0</td>\n",
              "      <td>817-69-8206-B</td>\n",
              "      <td>H013</td>\n",
              "      <td>7</td>\n",
              "      <td>Home</td>\n",
              "      <td>93</td>\n",
              "      <td>B</td>\n",
              "      <td>2.0</td>\n",
              "      <td>1.0</td>\n",
              "      <td>2.0</td>\n",
              "      <td>(0.0)</td>\n",
              "      <td>(0.0, 0.0, 1.0, 0.0, 0.0)</td>\n",
              "      <td>(0.0, 0.0)</td>\n",
              "    </tr>\n",
              "    <tr>\n",
              "      <th>1</th>\n",
              "      <td>59586</td>\n",
              "      <td>member</td>\n",
              "      <td>0</td>\n",
              "      <td>595-86-2894-C</td>\n",
              "      <td>E305</td>\n",
              "      <td>8</td>\n",
              "      <td>Electronics</td>\n",
              "      <td>430</td>\n",
              "      <td>C</td>\n",
              "      <td>0.0</td>\n",
              "      <td>0.0</td>\n",
              "      <td>4.0</td>\n",
              "      <td>(1.0)</td>\n",
              "      <td>(0.0, 0.0, 0.0, 0.0, 1.0)</td>\n",
              "      <td>(1.0, 0.0)</td>\n",
              "    </tr>\n",
              "    <tr>\n",
              "      <th>2</th>\n",
              "      <td>27974</td>\n",
              "      <td>non-member</td>\n",
              "      <td>0</td>\n",
              "      <td>279-74-2924-B</td>\n",
              "      <td>B002</td>\n",
              "      <td>7</td>\n",
              "      <td>Health</td>\n",
              "      <td>269</td>\n",
              "      <td>B</td>\n",
              "      <td>2.0</td>\n",
              "      <td>1.0</td>\n",
              "      <td>5.0</td>\n",
              "      <td>(0.0)</td>\n",
              "      <td>(0.0, 0.0, 0.0, 0.0, 0.0)</td>\n",
              "      <td>(0.0, 0.0)</td>\n",
              "    </tr>\n",
              "    <tr>\n",
              "      <th>3</th>\n",
              "      <td>71976</td>\n",
              "      <td>non-member</td>\n",
              "      <td>0</td>\n",
              "      <td>719-76-3868-C</td>\n",
              "      <td>H246</td>\n",
              "      <td>6</td>\n",
              "      <td>Home</td>\n",
              "      <td>148</td>\n",
              "      <td>C</td>\n",
              "      <td>0.0</td>\n",
              "      <td>1.0</td>\n",
              "      <td>2.0</td>\n",
              "      <td>(0.0)</td>\n",
              "      <td>(0.0, 0.0, 1.0, 0.0, 0.0)</td>\n",
              "      <td>(1.0, 0.0)</td>\n",
              "    </tr>\n",
              "    <tr>\n",
              "      <th>4</th>\n",
              "      <td>52509</td>\n",
              "      <td>non-member</td>\n",
              "      <td>0</td>\n",
              "      <td>525-09-8450-B</td>\n",
              "      <td>E302</td>\n",
              "      <td>4</td>\n",
              "      <td>Electronics</td>\n",
              "      <td>173</td>\n",
              "      <td>B</td>\n",
              "      <td>2.0</td>\n",
              "      <td>1.0</td>\n",
              "      <td>4.0</td>\n",
              "      <td>(0.0)</td>\n",
              "      <td>(0.0, 0.0, 0.0, 0.0, 1.0)</td>\n",
              "      <td>(0.0, 0.0)</td>\n",
              "    </tr>\n",
              "  </tbody>\n",
              "</table>\n",
              "</div>"
            ],
            "text/plain": [
              "   customer_id customer_type  repeat_customer     invoice_id product_id  \\\n",
              "0        81769    non-member                0  817-69-8206-B       H013   \n",
              "1        59586        member                0  595-86-2894-C       E305   \n",
              "2        27974    non-member                0  279-74-2924-B       B002   \n",
              "3        71976    non-member                0  719-76-3868-C       H246   \n",
              "4        52509    non-member                0  525-09-8450-B       E302   \n",
              "\n",
              "   days_until_shipped product_line  total store_location_code  \\\n",
              "0                   7         Home     93                   B   \n",
              "1                   8  Electronics    430                   C   \n",
              "2                   7       Health    269                   B   \n",
              "3                   6         Home    148                   C   \n",
              "4                   4  Electronics    173                   B   \n",
              "\n",
              "   store_location_index  customer_type_index  product_line_index  \\\n",
              "0                   2.0                  1.0                 2.0   \n",
              "1                   0.0                  0.0                 4.0   \n",
              "2                   2.0                  1.0                 5.0   \n",
              "3                   0.0                  1.0                 2.0   \n",
              "4                   2.0                  1.0                 4.0   \n",
              "\n",
              "  customer_type_encoded       product_line_encoded store_location_encoded  \n",
              "0                 (0.0)  (0.0, 0.0, 1.0, 0.0, 0.0)             (0.0, 0.0)  \n",
              "1                 (1.0)  (0.0, 0.0, 0.0, 0.0, 1.0)             (1.0, 0.0)  \n",
              "2                 (0.0)  (0.0, 0.0, 0.0, 0.0, 0.0)             (0.0, 0.0)  \n",
              "3                 (0.0)  (0.0, 0.0, 1.0, 0.0, 0.0)             (1.0, 0.0)  \n",
              "4                 (0.0)  (0.0, 0.0, 0.0, 0.0, 1.0)             (0.0, 0.0)  "
            ]
          },
          "execution_count": 123,
          "metadata": {},
          "output_type": "execute_result"
        }
      ],
      "source": [
        "#TESTING A COMBINED ENCODER\n",
        "encoder4 = OneHotEncoderEstimator().setInputCols(['customer_type_index', 'product_line_index', 'store_location_index']).setOutputCols(['customer_type_encoded', 'product_line_encoded','store_location_encoded'])\n",
        "encoder_model1 = encoder4.fit(combined_table_indexed3).transform(combined_table_indexed3)\n",
        "\n",
        "encoder_model1.limit(5).toPandas()"
      ]
    },
    {
      "cell_type": "code",
      "execution_count": null,
      "metadata": {
        "id": "PExkHIldC3s9",
        "outputId": "81dd300d-2a47-444e-e968-4121458e7191"
      },
      "outputs": [
        {
          "ename": "AttributeError",
          "evalue": "'DataFrame' object has no attribute 'getOutputCols'",
          "output_type": "error",
          "traceback": [
            "\u001b[0;31m---------------------------------------------------------------------------\u001b[0m",
            "\u001b[0;31mAttributeError\u001b[0m                            Traceback (most recent call last)",
            "\u001b[0;32m<ipython-input-124-9b569a2144c7>\u001b[0m in \u001b[0;36m<module>\u001b[0;34m\u001b[0m\n\u001b[0;32m----> 1\u001b[0;31m \u001b[0moutput_cols\u001b[0m \u001b[0;34m=\u001b[0m \u001b[0mencoder_model1\u001b[0m\u001b[0;34m.\u001b[0m\u001b[0mgetOutputCols\u001b[0m\u001b[0;34m(\u001b[0m\u001b[0;34m)\u001b[0m\u001b[0;34m\u001b[0m\u001b[0m\n\u001b[0m\u001b[1;32m      2\u001b[0m \u001b[0mprint\u001b[0m\u001b[0;34m(\u001b[0m\u001b[0;34m\"Output Cols: \"\u001b[0m\u001b[0;34m,\u001b[0m \u001b[0moutput_cols\u001b[0m\u001b[0;34m)\u001b[0m\u001b[0;34m\u001b[0m\u001b[0m\n",
            "\u001b[0;32m/usr/lib/python3.7/site-packages/pyspark/sql/dataframe.py\u001b[0m in \u001b[0;36m__getattr__\u001b[0;34m(self, name)\u001b[0m\n\u001b[1;32m   1299\u001b[0m         \u001b[0;32mif\u001b[0m \u001b[0mname\u001b[0m \u001b[0;32mnot\u001b[0m \u001b[0;32min\u001b[0m \u001b[0mself\u001b[0m\u001b[0;34m.\u001b[0m\u001b[0mcolumns\u001b[0m\u001b[0;34m:\u001b[0m\u001b[0;34m\u001b[0m\u001b[0m\n\u001b[1;32m   1300\u001b[0m             raise AttributeError(\n\u001b[0;32m-> 1301\u001b[0;31m                 \"'%s' object has no attribute '%s'\" % (self.__class__.__name__, name))\n\u001b[0m\u001b[1;32m   1302\u001b[0m         \u001b[0mjc\u001b[0m \u001b[0;34m=\u001b[0m \u001b[0mself\u001b[0m\u001b[0;34m.\u001b[0m\u001b[0m_jdf\u001b[0m\u001b[0;34m.\u001b[0m\u001b[0mapply\u001b[0m\u001b[0;34m(\u001b[0m\u001b[0mname\u001b[0m\u001b[0;34m)\u001b[0m\u001b[0;34m\u001b[0m\u001b[0m\n\u001b[1;32m   1303\u001b[0m         \u001b[0;32mreturn\u001b[0m \u001b[0mColumn\u001b[0m\u001b[0;34m(\u001b[0m\u001b[0mjc\u001b[0m\u001b[0;34m)\u001b[0m\u001b[0;34m\u001b[0m\u001b[0m\n",
            "\u001b[0;31mAttributeError\u001b[0m: 'DataFrame' object has no attribute 'getOutputCols'"
          ]
        }
      ],
      "source": [
        "output_cols = encoder_model1.getOutputCols()\n",
        "print(\"Output Cols: \", output_cols)"
      ]
    },
    {
      "cell_type": "code",
      "execution_count": null,
      "metadata": {
        "id": "XIbl7I0bC3s9",
        "outputId": "f768d578-515f-4ca1-8554-f37d6ab10498"
      },
      "outputs": [
        {
          "data": {
            "text/html": [
              "<div>\n",
              "<style scoped>\n",
              "    .dataframe tbody tr th:only-of-type {\n",
              "        vertical-align: middle;\n",
              "    }\n",
              "\n",
              "    .dataframe tbody tr th {\n",
              "        vertical-align: top;\n",
              "    }\n",
              "\n",
              "    .dataframe thead th {\n",
              "        text-align: right;\n",
              "    }\n",
              "</style>\n",
              "<table border=\"1\" class=\"dataframe\">\n",
              "  <thead>\n",
              "    <tr style=\"text-align: right;\">\n",
              "      <th></th>\n",
              "      <th>customer_id</th>\n",
              "      <th>customer_type</th>\n",
              "      <th>repeat_customer</th>\n",
              "      <th>invoice_id</th>\n",
              "      <th>product_id</th>\n",
              "      <th>days_until_shipped</th>\n",
              "      <th>product_line</th>\n",
              "      <th>total</th>\n",
              "      <th>store_location_code</th>\n",
              "      <th>store_location_index</th>\n",
              "      <th>customer_type_index</th>\n",
              "      <th>product_line_index</th>\n",
              "      <th>store_location_encoded</th>\n",
              "      <th>customer_type_encoded</th>\n",
              "      <th>product_line_encoded</th>\n",
              "    </tr>\n",
              "  </thead>\n",
              "  <tbody>\n",
              "    <tr>\n",
              "      <th>0</th>\n",
              "      <td>81769</td>\n",
              "      <td>non-member</td>\n",
              "      <td>0</td>\n",
              "      <td>817-69-8206-B</td>\n",
              "      <td>H013</td>\n",
              "      <td>7</td>\n",
              "      <td>Home</td>\n",
              "      <td>93</td>\n",
              "      <td>B</td>\n",
              "      <td>2.0</td>\n",
              "      <td>1.0</td>\n",
              "      <td>2.0</td>\n",
              "      <td>(0.0, 0.0)</td>\n",
              "      <td>(0.0)</td>\n",
              "      <td>(0.0, 0.0, 1.0, 0.0, 0.0)</td>\n",
              "    </tr>\n",
              "    <tr>\n",
              "      <th>1</th>\n",
              "      <td>59586</td>\n",
              "      <td>member</td>\n",
              "      <td>0</td>\n",
              "      <td>595-86-2894-C</td>\n",
              "      <td>E305</td>\n",
              "      <td>8</td>\n",
              "      <td>Electronics</td>\n",
              "      <td>430</td>\n",
              "      <td>C</td>\n",
              "      <td>0.0</td>\n",
              "      <td>0.0</td>\n",
              "      <td>4.0</td>\n",
              "      <td>(1.0, 0.0)</td>\n",
              "      <td>(1.0)</td>\n",
              "      <td>(0.0, 0.0, 0.0, 0.0, 1.0)</td>\n",
              "    </tr>\n",
              "    <tr>\n",
              "      <th>2</th>\n",
              "      <td>27974</td>\n",
              "      <td>non-member</td>\n",
              "      <td>0</td>\n",
              "      <td>279-74-2924-B</td>\n",
              "      <td>B002</td>\n",
              "      <td>7</td>\n",
              "      <td>Health</td>\n",
              "      <td>269</td>\n",
              "      <td>B</td>\n",
              "      <td>2.0</td>\n",
              "      <td>1.0</td>\n",
              "      <td>5.0</td>\n",
              "      <td>(0.0, 0.0)</td>\n",
              "      <td>(0.0)</td>\n",
              "      <td>(0.0, 0.0, 0.0, 0.0, 0.0)</td>\n",
              "    </tr>\n",
              "    <tr>\n",
              "      <th>3</th>\n",
              "      <td>71976</td>\n",
              "      <td>non-member</td>\n",
              "      <td>0</td>\n",
              "      <td>719-76-3868-C</td>\n",
              "      <td>H246</td>\n",
              "      <td>6</td>\n",
              "      <td>Home</td>\n",
              "      <td>148</td>\n",
              "      <td>C</td>\n",
              "      <td>0.0</td>\n",
              "      <td>1.0</td>\n",
              "      <td>2.0</td>\n",
              "      <td>(1.0, 0.0)</td>\n",
              "      <td>(0.0)</td>\n",
              "      <td>(0.0, 0.0, 1.0, 0.0, 0.0)</td>\n",
              "    </tr>\n",
              "    <tr>\n",
              "      <th>4</th>\n",
              "      <td>52509</td>\n",
              "      <td>non-member</td>\n",
              "      <td>0</td>\n",
              "      <td>525-09-8450-B</td>\n",
              "      <td>E302</td>\n",
              "      <td>4</td>\n",
              "      <td>Electronics</td>\n",
              "      <td>173</td>\n",
              "      <td>B</td>\n",
              "      <td>2.0</td>\n",
              "      <td>1.0</td>\n",
              "      <td>4.0</td>\n",
              "      <td>(0.0, 0.0)</td>\n",
              "      <td>(0.0)</td>\n",
              "      <td>(0.0, 0.0, 0.0, 0.0, 1.0)</td>\n",
              "    </tr>\n",
              "  </tbody>\n",
              "</table>\n",
              "</div>"
            ],
            "text/plain": [
              "   customer_id customer_type  repeat_customer     invoice_id product_id  \\\n",
              "0        81769    non-member                0  817-69-8206-B       H013   \n",
              "1        59586        member                0  595-86-2894-C       E305   \n",
              "2        27974    non-member                0  279-74-2924-B       B002   \n",
              "3        71976    non-member                0  719-76-3868-C       H246   \n",
              "4        52509    non-member                0  525-09-8450-B       E302   \n",
              "\n",
              "   days_until_shipped product_line  total store_location_code  \\\n",
              "0                   7         Home     93                   B   \n",
              "1                   8  Electronics    430                   C   \n",
              "2                   7       Health    269                   B   \n",
              "3                   6         Home    148                   C   \n",
              "4                   4  Electronics    173                   B   \n",
              "\n",
              "   store_location_index  customer_type_index  product_line_index  \\\n",
              "0                   2.0                  1.0                 2.0   \n",
              "1                   0.0                  0.0                 4.0   \n",
              "2                   2.0                  1.0                 5.0   \n",
              "3                   0.0                  1.0                 2.0   \n",
              "4                   2.0                  1.0                 4.0   \n",
              "\n",
              "  store_location_encoded customer_type_encoded       product_line_encoded  \n",
              "0             (0.0, 0.0)                 (0.0)  (0.0, 0.0, 1.0, 0.0, 0.0)  \n",
              "1             (1.0, 0.0)                 (1.0)  (0.0, 0.0, 0.0, 0.0, 1.0)  \n",
              "2             (0.0, 0.0)                 (0.0)  (0.0, 0.0, 0.0, 0.0, 0.0)  \n",
              "3             (1.0, 0.0)                 (0.0)  (0.0, 0.0, 1.0, 0.0, 0.0)  \n",
              "4             (0.0, 0.0)                 (0.0)  (0.0, 0.0, 0.0, 0.0, 1.0)  "
            ]
          },
          "execution_count": 98,
          "metadata": {},
          "output_type": "execute_result"
        }
      ],
      "source": [
        "#We encode the product_line into a numerical index\n",
        "encoder3 = OneHotEncoderEstimator().setInputCols(['product_line_index']).setOutputCols(['product_line_encoded'])\n",
        "combined_table_encoded3 = encoder3.fit(combined_table_encoded2).transform(combined_table_encoded2)\n",
        "\n",
        "combined_table_encoded3.limit(5).toPandas()"
      ]
    },
    {
      "cell_type": "code",
      "execution_count": null,
      "metadata": {
        "id": "cZ65vD1AC3s9",
        "outputId": "5548a60d-9815-4449-b4fa-23eb7c646a52"
      },
      "outputs": [
        {
          "data": {
            "text/html": [
              "<div>\n",
              "<style scoped>\n",
              "    .dataframe tbody tr th:only-of-type {\n",
              "        vertical-align: middle;\n",
              "    }\n",
              "\n",
              "    .dataframe tbody tr th {\n",
              "        vertical-align: top;\n",
              "    }\n",
              "\n",
              "    .dataframe thead th {\n",
              "        text-align: right;\n",
              "    }\n",
              "</style>\n",
              "<table border=\"1\" class=\"dataframe\">\n",
              "  <thead>\n",
              "    <tr style=\"text-align: right;\">\n",
              "      <th></th>\n",
              "      <th>customer_id</th>\n",
              "      <th>customer_type</th>\n",
              "      <th>repeat_customer</th>\n",
              "      <th>invoice_id</th>\n",
              "      <th>product_id</th>\n",
              "      <th>days_until_shipped</th>\n",
              "      <th>product_line</th>\n",
              "      <th>total</th>\n",
              "      <th>store_location_code</th>\n",
              "      <th>store_location_index</th>\n",
              "      <th>customer_type_index</th>\n",
              "      <th>product_line_index</th>\n",
              "      <th>store_location_encoded</th>\n",
              "      <th>customer_type_encoded</th>\n",
              "      <th>product_line_encoded</th>\n",
              "      <th>features</th>\n",
              "    </tr>\n",
              "  </thead>\n",
              "  <tbody>\n",
              "    <tr>\n",
              "      <th>0</th>\n",
              "      <td>81769</td>\n",
              "      <td>non-member</td>\n",
              "      <td>0</td>\n",
              "      <td>817-69-8206-B</td>\n",
              "      <td>H013</td>\n",
              "      <td>7</td>\n",
              "      <td>Home</td>\n",
              "      <td>93</td>\n",
              "      <td>B</td>\n",
              "      <td>2.0</td>\n",
              "      <td>1.0</td>\n",
              "      <td>2.0</td>\n",
              "      <td>(0.0, 0.0)</td>\n",
              "      <td>(0.0)</td>\n",
              "      <td>(0.0, 0.0, 1.0, 0.0, 0.0)</td>\n",
              "      <td>[7.0, 93.0]</td>\n",
              "    </tr>\n",
              "    <tr>\n",
              "      <th>1</th>\n",
              "      <td>59586</td>\n",
              "      <td>member</td>\n",
              "      <td>0</td>\n",
              "      <td>595-86-2894-C</td>\n",
              "      <td>E305</td>\n",
              "      <td>8</td>\n",
              "      <td>Electronics</td>\n",
              "      <td>430</td>\n",
              "      <td>C</td>\n",
              "      <td>0.0</td>\n",
              "      <td>0.0</td>\n",
              "      <td>4.0</td>\n",
              "      <td>(1.0, 0.0)</td>\n",
              "      <td>(1.0)</td>\n",
              "      <td>(0.0, 0.0, 0.0, 0.0, 1.0)</td>\n",
              "      <td>[8.0, 430.0]</td>\n",
              "    </tr>\n",
              "    <tr>\n",
              "      <th>2</th>\n",
              "      <td>27974</td>\n",
              "      <td>non-member</td>\n",
              "      <td>0</td>\n",
              "      <td>279-74-2924-B</td>\n",
              "      <td>B002</td>\n",
              "      <td>7</td>\n",
              "      <td>Health</td>\n",
              "      <td>269</td>\n",
              "      <td>B</td>\n",
              "      <td>2.0</td>\n",
              "      <td>1.0</td>\n",
              "      <td>5.0</td>\n",
              "      <td>(0.0, 0.0)</td>\n",
              "      <td>(0.0)</td>\n",
              "      <td>(0.0, 0.0, 0.0, 0.0, 0.0)</td>\n",
              "      <td>[7.0, 269.0]</td>\n",
              "    </tr>\n",
              "    <tr>\n",
              "      <th>3</th>\n",
              "      <td>71976</td>\n",
              "      <td>non-member</td>\n",
              "      <td>0</td>\n",
              "      <td>719-76-3868-C</td>\n",
              "      <td>H246</td>\n",
              "      <td>6</td>\n",
              "      <td>Home</td>\n",
              "      <td>148</td>\n",
              "      <td>C</td>\n",
              "      <td>0.0</td>\n",
              "      <td>1.0</td>\n",
              "      <td>2.0</td>\n",
              "      <td>(1.0, 0.0)</td>\n",
              "      <td>(0.0)</td>\n",
              "      <td>(0.0, 0.0, 1.0, 0.0, 0.0)</td>\n",
              "      <td>[6.0, 148.0]</td>\n",
              "    </tr>\n",
              "    <tr>\n",
              "      <th>4</th>\n",
              "      <td>52509</td>\n",
              "      <td>non-member</td>\n",
              "      <td>0</td>\n",
              "      <td>525-09-8450-B</td>\n",
              "      <td>E302</td>\n",
              "      <td>4</td>\n",
              "      <td>Electronics</td>\n",
              "      <td>173</td>\n",
              "      <td>B</td>\n",
              "      <td>2.0</td>\n",
              "      <td>1.0</td>\n",
              "      <td>4.0</td>\n",
              "      <td>(0.0, 0.0)</td>\n",
              "      <td>(0.0)</td>\n",
              "      <td>(0.0, 0.0, 0.0, 0.0, 1.0)</td>\n",
              "      <td>[4.0, 173.0]</td>\n",
              "    </tr>\n",
              "  </tbody>\n",
              "</table>\n",
              "</div>"
            ],
            "text/plain": [
              "   customer_id customer_type  repeat_customer     invoice_id product_id  \\\n",
              "0        81769    non-member                0  817-69-8206-B       H013   \n",
              "1        59586        member                0  595-86-2894-C       E305   \n",
              "2        27974    non-member                0  279-74-2924-B       B002   \n",
              "3        71976    non-member                0  719-76-3868-C       H246   \n",
              "4        52509    non-member                0  525-09-8450-B       E302   \n",
              "\n",
              "   days_until_shipped product_line  total store_location_code  \\\n",
              "0                   7         Home     93                   B   \n",
              "1                   8  Electronics    430                   C   \n",
              "2                   7       Health    269                   B   \n",
              "3                   6         Home    148                   C   \n",
              "4                   4  Electronics    173                   B   \n",
              "\n",
              "   store_location_index  customer_type_index  product_line_index  \\\n",
              "0                   2.0                  1.0                 2.0   \n",
              "1                   0.0                  0.0                 4.0   \n",
              "2                   2.0                  1.0                 5.0   \n",
              "3                   0.0                  1.0                 2.0   \n",
              "4                   2.0                  1.0                 4.0   \n",
              "\n",
              "  store_location_encoded customer_type_encoded       product_line_encoded  \\\n",
              "0             (0.0, 0.0)                 (0.0)  (0.0, 0.0, 1.0, 0.0, 0.0)   \n",
              "1             (1.0, 0.0)                 (1.0)  (0.0, 0.0, 0.0, 0.0, 1.0)   \n",
              "2             (0.0, 0.0)                 (0.0)  (0.0, 0.0, 0.0, 0.0, 0.0)   \n",
              "3             (1.0, 0.0)                 (0.0)  (0.0, 0.0, 1.0, 0.0, 0.0)   \n",
              "4             (0.0, 0.0)                 (0.0)  (0.0, 0.0, 0.0, 0.0, 1.0)   \n",
              "\n",
              "       features  \n",
              "0   [7.0, 93.0]  \n",
              "1  [8.0, 430.0]  \n",
              "2  [7.0, 269.0]  \n",
              "3  [6.0, 148.0]  \n",
              "4  [4.0, 173.0]  "
            ]
          },
          "execution_count": 100,
          "metadata": {},
          "output_type": "execute_result"
        }
      ],
      "source": [
        "#We transform all of our numerical input features into a vector of features represented by the column numerical_vectorized_features\n",
        "\n",
        "numerical_assembler1 = VectorAssembler().\\\n",
        "    setInputCols(['days_until_shipped', 'total']).\\\n",
        "    setOutputCol('features')\n",
        "\n",
        "assembler_df = numerical_assembler1.transform(combined_table_encoded3)\n",
        "assembler_df.limit(5).toPandas()"
      ]
    },
    {
      "cell_type": "code",
      "execution_count": null,
      "metadata": {
        "id": "GAP-mqPhC3s9",
        "outputId": "8cebab07-fb90-4364-cace-e9a73216716e"
      },
      "outputs": [
        {
          "data": {
            "text/html": [
              "<div>\n",
              "<style scoped>\n",
              "    .dataframe tbody tr th:only-of-type {\n",
              "        vertical-align: middle;\n",
              "    }\n",
              "\n",
              "    .dataframe tbody tr th {\n",
              "        vertical-align: top;\n",
              "    }\n",
              "\n",
              "    .dataframe thead th {\n",
              "        text-align: right;\n",
              "    }\n",
              "</style>\n",
              "<table border=\"1\" class=\"dataframe\">\n",
              "  <thead>\n",
              "    <tr style=\"text-align: right;\">\n",
              "      <th></th>\n",
              "      <th>features</th>\n",
              "      <th>numerical_features</th>\n",
              "    </tr>\n",
              "  </thead>\n",
              "  <tbody>\n",
              "    <tr>\n",
              "      <th>0</th>\n",
              "      <td>[7.0, 93.0]</td>\n",
              "      <td>[4.226833645535901, 0.39013579829558204]</td>\n",
              "    </tr>\n",
              "    <tr>\n",
              "      <th>1</th>\n",
              "      <td>[8.0, 430.0]</td>\n",
              "      <td>[4.830667023469601, 1.803853691044089]</td>\n",
              "    </tr>\n",
              "    <tr>\n",
              "      <th>2</th>\n",
              "      <td>[7.0, 269.0]</td>\n",
              "      <td>[4.226833645535901, 1.1284573090485115]</td>\n",
              "    </tr>\n",
              "    <tr>\n",
              "      <th>3</th>\n",
              "      <td>[6.0, 148.0]</td>\n",
              "      <td>[3.623000267602201, 0.6208612704058725]</td>\n",
              "    </tr>\n",
              "    <tr>\n",
              "      <th>4</th>\n",
              "      <td>[4.0, 173.0]</td>\n",
              "      <td>[2.4153335117348007, 0.725736485001459]</td>\n",
              "    </tr>\n",
              "  </tbody>\n",
              "</table>\n",
              "</div>"
            ],
            "text/plain": [
              "       features                        numerical_features\n",
              "0   [7.0, 93.0]  [4.226833645535901, 0.39013579829558204]\n",
              "1  [8.0, 430.0]    [4.830667023469601, 1.803853691044089]\n",
              "2  [7.0, 269.0]   [4.226833645535901, 1.1284573090485115]\n",
              "3  [6.0, 148.0]   [3.623000267602201, 0.6208612704058725]\n",
              "4  [4.0, 173.0]   [2.4153335117348007, 0.725736485001459]"
            ]
          },
          "execution_count": 101,
          "metadata": {},
          "output_type": "execute_result"
        }
      ],
      "source": [
        "#We use StandardScaler() to standardize our features by subtracting the mean and dividing by the standard deviation\n",
        "from pyspark.ml.feature import StandardScaler\n",
        "\n",
        "scaler1 = StandardScaler().\\\n",
        "    setInputCol('features').\\\n",
        "    setOutputCol('numerical_features')\n",
        "\n",
        "scaler_model = scaler1.fit(assembler_df)\n",
        "scaler_df = scaler_model.transform(assembler_df)\n",
        "pd.set_option('display.max_colwidth', 100)\n",
        "scaler_df.select('features', 'numerical_features').limit(5).toPandas()"
      ]
    },
    {
      "cell_type": "code",
      "execution_count": null,
      "metadata": {
        "id": "Qk09G5A5C3s-",
        "outputId": "ca5ed77d-dda5-468a-d606-e81f8e42bfb4"
      },
      "outputs": [
        {
          "data": {
            "text/html": [
              "<div>\n",
              "<style scoped>\n",
              "    .dataframe tbody tr th:only-of-type {\n",
              "        vertical-align: middle;\n",
              "    }\n",
              "\n",
              "    .dataframe tbody tr th {\n",
              "        vertical-align: top;\n",
              "    }\n",
              "\n",
              "    .dataframe thead th {\n",
              "        text-align: right;\n",
              "    }\n",
              "</style>\n",
              "<table border=\"1\" class=\"dataframe\">\n",
              "  <thead>\n",
              "    <tr style=\"text-align: right;\">\n",
              "      <th></th>\n",
              "      <th>customer_id</th>\n",
              "      <th>customer_type</th>\n",
              "      <th>repeat_customer</th>\n",
              "      <th>invoice_id</th>\n",
              "      <th>product_id</th>\n",
              "      <th>days_until_shipped</th>\n",
              "      <th>product_line</th>\n",
              "      <th>total</th>\n",
              "      <th>store_location_code</th>\n",
              "      <th>store_location_index</th>\n",
              "      <th>customer_type_index</th>\n",
              "      <th>product_line_index</th>\n",
              "      <th>store_location_encoded</th>\n",
              "      <th>customer_type_encoded</th>\n",
              "      <th>product_line_encoded</th>\n",
              "      <th>features</th>\n",
              "      <th>numerical_features</th>\n",
              "      <th>all_features</th>\n",
              "    </tr>\n",
              "  </thead>\n",
              "  <tbody>\n",
              "    <tr>\n",
              "      <th>0</th>\n",
              "      <td>81769</td>\n",
              "      <td>non-member</td>\n",
              "      <td>0</td>\n",
              "      <td>817-69-8206-B</td>\n",
              "      <td>H013</td>\n",
              "      <td>7</td>\n",
              "      <td>Home</td>\n",
              "      <td>93</td>\n",
              "      <td>B</td>\n",
              "      <td>2.0</td>\n",
              "      <td>1.0</td>\n",
              "      <td>2.0</td>\n",
              "      <td>(0.0, 0.0)</td>\n",
              "      <td>(0.0)</td>\n",
              "      <td>(0.0, 0.0, 1.0, 0.0, 0.0)</td>\n",
              "      <td>[7.0, 93.0]</td>\n",
              "      <td>[4.226833645535901, 0.39013579829558204]</td>\n",
              "      <td>(4.226833645535901, 0.39013579829558204, 0.0, 0.0, 0.0, 1.0, 0.0, 0.0, 0.0, 0.0)</td>\n",
              "    </tr>\n",
              "    <tr>\n",
              "      <th>1</th>\n",
              "      <td>59586</td>\n",
              "      <td>member</td>\n",
              "      <td>0</td>\n",
              "      <td>595-86-2894-C</td>\n",
              "      <td>E305</td>\n",
              "      <td>8</td>\n",
              "      <td>Electronics</td>\n",
              "      <td>430</td>\n",
              "      <td>C</td>\n",
              "      <td>0.0</td>\n",
              "      <td>0.0</td>\n",
              "      <td>4.0</td>\n",
              "      <td>(1.0, 0.0)</td>\n",
              "      <td>(1.0)</td>\n",
              "      <td>(0.0, 0.0, 0.0, 0.0, 1.0)</td>\n",
              "      <td>[8.0, 430.0]</td>\n",
              "      <td>[4.830667023469601, 1.803853691044089]</td>\n",
              "      <td>(4.830667023469601, 1.803853691044089, 1.0, 0.0, 0.0, 0.0, 0.0, 1.0, 1.0, 0.0)</td>\n",
              "    </tr>\n",
              "    <tr>\n",
              "      <th>2</th>\n",
              "      <td>27974</td>\n",
              "      <td>non-member</td>\n",
              "      <td>0</td>\n",
              "      <td>279-74-2924-B</td>\n",
              "      <td>B002</td>\n",
              "      <td>7</td>\n",
              "      <td>Health</td>\n",
              "      <td>269</td>\n",
              "      <td>B</td>\n",
              "      <td>2.0</td>\n",
              "      <td>1.0</td>\n",
              "      <td>5.0</td>\n",
              "      <td>(0.0, 0.0)</td>\n",
              "      <td>(0.0)</td>\n",
              "      <td>(0.0, 0.0, 0.0, 0.0, 0.0)</td>\n",
              "      <td>[7.0, 269.0]</td>\n",
              "      <td>[4.226833645535901, 1.1284573090485115]</td>\n",
              "      <td>(4.226833645535901, 1.1284573090485115, 0.0, 0.0, 0.0, 0.0, 0.0, 0.0, 0.0, 0.0)</td>\n",
              "    </tr>\n",
              "    <tr>\n",
              "      <th>3</th>\n",
              "      <td>71976</td>\n",
              "      <td>non-member</td>\n",
              "      <td>0</td>\n",
              "      <td>719-76-3868-C</td>\n",
              "      <td>H246</td>\n",
              "      <td>6</td>\n",
              "      <td>Home</td>\n",
              "      <td>148</td>\n",
              "      <td>C</td>\n",
              "      <td>0.0</td>\n",
              "      <td>1.0</td>\n",
              "      <td>2.0</td>\n",
              "      <td>(1.0, 0.0)</td>\n",
              "      <td>(0.0)</td>\n",
              "      <td>(0.0, 0.0, 1.0, 0.0, 0.0)</td>\n",
              "      <td>[6.0, 148.0]</td>\n",
              "      <td>[3.623000267602201, 0.6208612704058725]</td>\n",
              "      <td>(3.623000267602201, 0.6208612704058725, 0.0, 0.0, 0.0, 1.0, 0.0, 0.0, 1.0, 0.0)</td>\n",
              "    </tr>\n",
              "    <tr>\n",
              "      <th>4</th>\n",
              "      <td>52509</td>\n",
              "      <td>non-member</td>\n",
              "      <td>0</td>\n",
              "      <td>525-09-8450-B</td>\n",
              "      <td>E302</td>\n",
              "      <td>4</td>\n",
              "      <td>Electronics</td>\n",
              "      <td>173</td>\n",
              "      <td>B</td>\n",
              "      <td>2.0</td>\n",
              "      <td>1.0</td>\n",
              "      <td>4.0</td>\n",
              "      <td>(0.0, 0.0)</td>\n",
              "      <td>(0.0)</td>\n",
              "      <td>(0.0, 0.0, 0.0, 0.0, 1.0)</td>\n",
              "      <td>[4.0, 173.0]</td>\n",
              "      <td>[2.4153335117348007, 0.725736485001459]</td>\n",
              "      <td>(2.4153335117348007, 0.725736485001459, 0.0, 0.0, 0.0, 0.0, 0.0, 1.0, 0.0, 0.0)</td>\n",
              "    </tr>\n",
              "  </tbody>\n",
              "</table>\n",
              "</div>"
            ],
            "text/plain": [
              "   customer_id customer_type  repeat_customer     invoice_id product_id  \\\n",
              "0        81769    non-member                0  817-69-8206-B       H013   \n",
              "1        59586        member                0  595-86-2894-C       E305   \n",
              "2        27974    non-member                0  279-74-2924-B       B002   \n",
              "3        71976    non-member                0  719-76-3868-C       H246   \n",
              "4        52509    non-member                0  525-09-8450-B       E302   \n",
              "\n",
              "   days_until_shipped product_line  total store_location_code  \\\n",
              "0                   7         Home     93                   B   \n",
              "1                   8  Electronics    430                   C   \n",
              "2                   7       Health    269                   B   \n",
              "3                   6         Home    148                   C   \n",
              "4                   4  Electronics    173                   B   \n",
              "\n",
              "   store_location_index  customer_type_index  product_line_index  \\\n",
              "0                   2.0                  1.0                 2.0   \n",
              "1                   0.0                  0.0                 4.0   \n",
              "2                   2.0                  1.0                 5.0   \n",
              "3                   0.0                  1.0                 2.0   \n",
              "4                   2.0                  1.0                 4.0   \n",
              "\n",
              "  store_location_encoded customer_type_encoded       product_line_encoded  \\\n",
              "0             (0.0, 0.0)                 (0.0)  (0.0, 0.0, 1.0, 0.0, 0.0)   \n",
              "1             (1.0, 0.0)                 (1.0)  (0.0, 0.0, 0.0, 0.0, 1.0)   \n",
              "2             (0.0, 0.0)                 (0.0)  (0.0, 0.0, 0.0, 0.0, 0.0)   \n",
              "3             (1.0, 0.0)                 (0.0)  (0.0, 0.0, 1.0, 0.0, 0.0)   \n",
              "4             (0.0, 0.0)                 (0.0)  (0.0, 0.0, 0.0, 0.0, 1.0)   \n",
              "\n",
              "       features                        numerical_features  \\\n",
              "0   [7.0, 93.0]  [4.226833645535901, 0.39013579829558204]   \n",
              "1  [8.0, 430.0]    [4.830667023469601, 1.803853691044089]   \n",
              "2  [7.0, 269.0]   [4.226833645535901, 1.1284573090485115]   \n",
              "3  [6.0, 148.0]   [3.623000267602201, 0.6208612704058725]   \n",
              "4  [4.0, 173.0]   [2.4153335117348007, 0.725736485001459]   \n",
              "\n",
              "                                                                       all_features  \n",
              "0  (4.226833645535901, 0.39013579829558204, 0.0, 0.0, 0.0, 1.0, 0.0, 0.0, 0.0, 0.0)  \n",
              "1    (4.830667023469601, 1.803853691044089, 1.0, 0.0, 0.0, 0.0, 0.0, 1.0, 1.0, 0.0)  \n",
              "2   (4.226833645535901, 1.1284573090485115, 0.0, 0.0, 0.0, 0.0, 0.0, 0.0, 0.0, 0.0)  \n",
              "3   (3.623000267602201, 0.6208612704058725, 0.0, 0.0, 0.0, 1.0, 0.0, 0.0, 1.0, 0.0)  \n",
              "4   (2.4153335117348007, 0.725736485001459, 0.0, 0.0, 0.0, 0.0, 0.0, 1.0, 0.0, 0.0)  "
            ]
          },
          "execution_count": 102,
          "metadata": {},
          "output_type": "execute_result"
        }
      ],
      "source": [
        "#We Add One Hot Encoded Features to Scaled Numerical Features Vector\n",
        "assembler1 = VectorAssembler().\\\n",
        "    setInputCols(['numerical_features', 'customer_type_encoded', 'product_line_encoded', 'store_location_encoded']).\\\n",
        "    setOutputCol('all_features')\n",
        "\n",
        "input_df = assembler1.transform(scaler_df)\n",
        "input_df.limit(5).toPandas()"
      ]
    },
    {
      "cell_type": "code",
      "execution_count": null,
      "metadata": {
        "collapsed": true,
        "id": "i5Sh0GJ3C3s-"
      },
      "outputs": [],
      "source": [
        "pipeline_stages = Pipeline().setStages([indexer1,\n",
        "                                        indexer2,\n",
        "                                        indexer3,\n",
        "                                        encoder1,\n",
        "                                        encoder2,\n",
        "                                        encoder3,\n",
        "                                        numerical_assembler1,\n",
        "                                        scaler1,\n",
        "                                        assembler1])"
      ]
    },
    {
      "cell_type": "code",
      "execution_count": null,
      "metadata": {
        "id": "GG9ge3VZC3s-",
        "outputId": "66a0b27a-2e67-4e44-cf30-da0989ddae7b"
      },
      "outputs": [
        {
          "name": "stdout",
          "output_type": "stream",
          "text": [
            "Training Data Size: 513\n",
            "Testing Data Size: 138\n"
          ]
        }
      ],
      "source": [
        "train, test = combined_table_calc.randomSplit([0.8, 0.2], seed=2022)\n",
        "print(\"Training Data Size: {}\".format(str(train.count())))\n",
        "print(\"Testing Data Size: {}\".format(str(test.count())))\n"
      ]
    },
    {
      "cell_type": "code",
      "execution_count": null,
      "metadata": {
        "collapsed": true,
        "id": "lQueXbdGC3s-"
      },
      "outputs": [],
      "source": [
        "pipeline_model = pipeline_stages.fit(train)\n",
        "train_transformed = pipeline_model.transform(train)\n",
        "test_transformed = pipeline_model.transform(test)"
      ]
    },
    {
      "cell_type": "code",
      "execution_count": null,
      "metadata": {
        "id": "yGo7fxibC3s-",
        "outputId": "5ead92d9-0676-4c5f-deae-21fb0c93f879"
      },
      "outputs": [
        {
          "data": {
            "text/html": [
              "<div>\n",
              "<style scoped>\n",
              "    .dataframe tbody tr th:only-of-type {\n",
              "        vertical-align: middle;\n",
              "    }\n",
              "\n",
              "    .dataframe tbody tr th {\n",
              "        vertical-align: top;\n",
              "    }\n",
              "\n",
              "    .dataframe thead th {\n",
              "        text-align: right;\n",
              "    }\n",
              "</style>\n",
              "<table border=\"1\" class=\"dataframe\">\n",
              "  <thead>\n",
              "    <tr style=\"text-align: right;\">\n",
              "      <th></th>\n",
              "      <th>customer_id</th>\n",
              "      <th>customer_type</th>\n",
              "      <th>repeat_customer</th>\n",
              "      <th>invoice_id</th>\n",
              "      <th>product_id</th>\n",
              "      <th>days_until_shipped</th>\n",
              "      <th>product_line</th>\n",
              "      <th>total</th>\n",
              "      <th>store_location_code</th>\n",
              "      <th>store_location_index</th>\n",
              "      <th>customer_type_index</th>\n",
              "      <th>product_line_index</th>\n",
              "      <th>store_location_encoded</th>\n",
              "      <th>customer_type_encoded</th>\n",
              "      <th>product_line_encoded</th>\n",
              "      <th>features</th>\n",
              "      <th>numerical_features</th>\n",
              "      <th>all_features</th>\n",
              "    </tr>\n",
              "  </thead>\n",
              "  <tbody>\n",
              "    <tr>\n",
              "      <th>0</th>\n",
              "      <td>10117</td>\n",
              "      <td>member</td>\n",
              "      <td>0</td>\n",
              "      <td>101-17-6199-A</td>\n",
              "      <td>H008</td>\n",
              "      <td>6</td>\n",
              "      <td>Home</td>\n",
              "      <td>223</td>\n",
              "      <td>A</td>\n",
              "      <td>0.0</td>\n",
              "      <td>1.0</td>\n",
              "      <td>1.0</td>\n",
              "      <td>(1.0, 0.0)</td>\n",
              "      <td>(0.0)</td>\n",
              "      <td>(0.0, 1.0, 0.0, 0.0, 0.0)</td>\n",
              "      <td>[6.0, 223.0]</td>\n",
              "      <td>[3.5920134976948805, 0.9467614915699251]</td>\n",
              "      <td>(3.5920134976948805, 0.9467614915699251, 0.0, 0.0, 1.0, 0.0, 0.0, 0.0, 1.0, 0.0)</td>\n",
              "    </tr>\n",
              "    <tr>\n",
              "      <th>1</th>\n",
              "      <td>10277</td>\n",
              "      <td>non-member</td>\n",
              "      <td>0</td>\n",
              "      <td>102-77-2261-C</td>\n",
              "      <td>F402</td>\n",
              "      <td>4</td>\n",
              "      <td>Food and Drink</td>\n",
              "      <td>38</td>\n",
              "      <td>C</td>\n",
              "      <td>1.0</td>\n",
              "      <td>0.0</td>\n",
              "      <td>0.0</td>\n",
              "      <td>(0.0, 1.0)</td>\n",
              "      <td>(1.0)</td>\n",
              "      <td>(1.0, 0.0, 0.0, 0.0, 0.0)</td>\n",
              "      <td>[4.0, 38.0]</td>\n",
              "      <td>[2.3946756651299204, 0.16133155461729665]</td>\n",
              "      <td>(2.3946756651299204, 0.16133155461729665, 1.0, 1.0, 0.0, 0.0, 0.0, 0.0, 0.0, 1.0)</td>\n",
              "    </tr>\n",
              "    <tr>\n",
              "      <th>2</th>\n",
              "      <td>10510</td>\n",
              "      <td>member</td>\n",
              "      <td>1</td>\n",
              "      <td>105-10-6182-A</td>\n",
              "      <td>A505</td>\n",
              "      <td>6</td>\n",
              "      <td>Fashion</td>\n",
              "      <td>235</td>\n",
              "      <td>A</td>\n",
              "      <td>0.0</td>\n",
              "      <td>1.0</td>\n",
              "      <td>4.0</td>\n",
              "      <td>(1.0, 0.0)</td>\n",
              "      <td>(0.0)</td>\n",
              "      <td>(0.0, 0.0, 0.0, 0.0, 1.0)</td>\n",
              "      <td>[6.0, 235.0]</td>\n",
              "      <td>[3.5920134976948805, 0.9977082982911767]</td>\n",
              "      <td>(3.5920134976948805, 0.9977082982911767, 0.0, 0.0, 0.0, 0.0, 0.0, 1.0, 1.0, 0.0)</td>\n",
              "    </tr>\n",
              "    <tr>\n",
              "      <th>3</th>\n",
              "      <td>11005</td>\n",
              "      <td>member</td>\n",
              "      <td>0</td>\n",
              "      <td>110-05-6330-C</td>\n",
              "      <td>F444</td>\n",
              "      <td>5</td>\n",
              "      <td>Food and Drink</td>\n",
              "      <td>26</td>\n",
              "      <td>C</td>\n",
              "      <td>1.0</td>\n",
              "      <td>1.0</td>\n",
              "      <td>0.0</td>\n",
              "      <td>(0.0, 1.0)</td>\n",
              "      <td>(0.0)</td>\n",
              "      <td>(1.0, 0.0, 0.0, 0.0, 0.0)</td>\n",
              "      <td>[5.0, 26.0]</td>\n",
              "      <td>[2.9933445814124005, 0.11038474789604508]</td>\n",
              "      <td>(2.9933445814124005, 0.11038474789604508, 0.0, 1.0, 0.0, 0.0, 0.0, 0.0, 0.0, 1.0)</td>\n",
              "    </tr>\n",
              "    <tr>\n",
              "      <th>4</th>\n",
              "      <td>11435</td>\n",
              "      <td>member</td>\n",
              "      <td>0</td>\n",
              "      <td>114-35-5271-B</td>\n",
              "      <td>H009</td>\n",
              "      <td>9</td>\n",
              "      <td>Home</td>\n",
              "      <td>481</td>\n",
              "      <td>B</td>\n",
              "      <td>2.0</td>\n",
              "      <td>1.0</td>\n",
              "      <td>1.0</td>\n",
              "      <td>(0.0, 0.0)</td>\n",
              "      <td>(0.0)</td>\n",
              "      <td>(0.0, 1.0, 0.0, 0.0, 0.0)</td>\n",
              "      <td>[9.0, 481.0]</td>\n",
              "      <td>[5.388020246542321, 2.0421178360768337]</td>\n",
              "      <td>(5.388020246542321, 2.0421178360768337, 0.0, 0.0, 1.0, 0.0, 0.0, 0.0, 0.0, 0.0)</td>\n",
              "    </tr>\n",
              "  </tbody>\n",
              "</table>\n",
              "</div>"
            ],
            "text/plain": [
              "   customer_id customer_type  repeat_customer     invoice_id product_id  \\\n",
              "0        10117        member                0  101-17-6199-A       H008   \n",
              "1        10277    non-member                0  102-77-2261-C       F402   \n",
              "2        10510        member                1  105-10-6182-A       A505   \n",
              "3        11005        member                0  110-05-6330-C       F444   \n",
              "4        11435        member                0  114-35-5271-B       H009   \n",
              "\n",
              "   days_until_shipped    product_line  total store_location_code  \\\n",
              "0                   6            Home    223                   A   \n",
              "1                   4  Food and Drink     38                   C   \n",
              "2                   6         Fashion    235                   A   \n",
              "3                   5  Food and Drink     26                   C   \n",
              "4                   9            Home    481                   B   \n",
              "\n",
              "   store_location_index  customer_type_index  product_line_index  \\\n",
              "0                   0.0                  1.0                 1.0   \n",
              "1                   1.0                  0.0                 0.0   \n",
              "2                   0.0                  1.0                 4.0   \n",
              "3                   1.0                  1.0                 0.0   \n",
              "4                   2.0                  1.0                 1.0   \n",
              "\n",
              "  store_location_encoded customer_type_encoded       product_line_encoded  \\\n",
              "0             (1.0, 0.0)                 (0.0)  (0.0, 1.0, 0.0, 0.0, 0.0)   \n",
              "1             (0.0, 1.0)                 (1.0)  (1.0, 0.0, 0.0, 0.0, 0.0)   \n",
              "2             (1.0, 0.0)                 (0.0)  (0.0, 0.0, 0.0, 0.0, 1.0)   \n",
              "3             (0.0, 1.0)                 (0.0)  (1.0, 0.0, 0.0, 0.0, 0.0)   \n",
              "4             (0.0, 0.0)                 (0.0)  (0.0, 1.0, 0.0, 0.0, 0.0)   \n",
              "\n",
              "       features                         numerical_features  \\\n",
              "0  [6.0, 223.0]   [3.5920134976948805, 0.9467614915699251]   \n",
              "1   [4.0, 38.0]  [2.3946756651299204, 0.16133155461729665]   \n",
              "2  [6.0, 235.0]   [3.5920134976948805, 0.9977082982911767]   \n",
              "3   [5.0, 26.0]  [2.9933445814124005, 0.11038474789604508]   \n",
              "4  [9.0, 481.0]    [5.388020246542321, 2.0421178360768337]   \n",
              "\n",
              "                                                                        all_features  \n",
              "0   (3.5920134976948805, 0.9467614915699251, 0.0, 0.0, 1.0, 0.0, 0.0, 0.0, 1.0, 0.0)  \n",
              "1  (2.3946756651299204, 0.16133155461729665, 1.0, 1.0, 0.0, 0.0, 0.0, 0.0, 0.0, 1.0)  \n",
              "2   (3.5920134976948805, 0.9977082982911767, 0.0, 0.0, 0.0, 0.0, 0.0, 1.0, 1.0, 0.0)  \n",
              "3  (2.9933445814124005, 0.11038474789604508, 0.0, 1.0, 0.0, 0.0, 0.0, 0.0, 0.0, 1.0)  \n",
              "4    (5.388020246542321, 2.0421178360768337, 0.0, 0.0, 1.0, 0.0, 0.0, 0.0, 0.0, 0.0)  "
            ]
          },
          "execution_count": 106,
          "metadata": {},
          "output_type": "execute_result"
        }
      ],
      "source": [
        "train_transformed.limit(5).toPandas()"
      ]
    },
    {
      "cell_type": "code",
      "execution_count": null,
      "metadata": {
        "collapsed": true,
        "id": "wSfs8n3RC3s_"
      },
      "outputs": [],
      "source": [
        "from pyspark.ml.classification import LogisticRegression\n",
        "\n",
        "lr = LogisticRegression(featuresCol = 'all_features', labelCol = 'repeat_customer', maxIter = 5)\n",
        "lr_model = lr.fit(train_transformed)"
      ]
    },
    {
      "cell_type": "code",
      "execution_count": null,
      "metadata": {
        "id": "3apT8P2EC3s_",
        "outputId": "066ab62f-ec77-499e-f03c-408f2d03bb0b"
      },
      "outputs": [
        {
          "data": {
            "text/html": [
              "<div>\n",
              "<style scoped>\n",
              "    .dataframe tbody tr th:only-of-type {\n",
              "        vertical-align: middle;\n",
              "    }\n",
              "\n",
              "    .dataframe tbody tr th {\n",
              "        vertical-align: top;\n",
              "    }\n",
              "\n",
              "    .dataframe thead th {\n",
              "        text-align: right;\n",
              "    }\n",
              "</style>\n",
              "<table border=\"1\" class=\"dataframe\">\n",
              "  <thead>\n",
              "    <tr style=\"text-align: right;\">\n",
              "      <th></th>\n",
              "      <th>repeat_customer</th>\n",
              "      <th>all_features</th>\n",
              "      <th>rawPrediction</th>\n",
              "      <th>prediction</th>\n",
              "      <th>probability</th>\n",
              "    </tr>\n",
              "  </thead>\n",
              "  <tbody>\n",
              "    <tr>\n",
              "      <th>0</th>\n",
              "      <td>1</td>\n",
              "      <td>(5.388020246542321, 3.349752541922291, 0.0, 0.0, 0.0, 0.0, 0.0, 1.0, 0.0, 1.0)</td>\n",
              "      <td>[-3.676930509980834, 3.676930509980834]</td>\n",
              "      <td>1.0</td>\n",
              "      <td>[0.02467619499620453, 0.9753238050037955]</td>\n",
              "    </tr>\n",
              "    <tr>\n",
              "      <th>1</th>\n",
              "      <td>0</td>\n",
              "      <td>(3.5920134976948805, 1.54114090331786, 1.0, 0.0, 0.0, 1.0, 0.0, 0.0, 1.0, 0.0)</td>\n",
              "      <td>[0.7495174373004657, -0.7495174373004657]</td>\n",
              "      <td>0.0</td>\n",
              "      <td>[0.6790735420886259, 0.3209264579113741]</td>\n",
              "    </tr>\n",
              "    <tr>\n",
              "      <th>2</th>\n",
              "      <td>0</td>\n",
              "      <td>(5.986689162824801, 2.373272079764969, 1.0, 0.0, 0.0, 0.0, 0.0, 1.0, 0.0, 1.0)</td>\n",
              "      <td>[0.5555128924306376, -0.5555128924306376]</td>\n",
              "      <td>0.0</td>\n",
              "      <td>[0.6354136758421335, 0.3645863241578665]</td>\n",
              "    </tr>\n",
              "    <tr>\n",
              "      <th>3</th>\n",
              "      <td>1</td>\n",
              "      <td>(2.9933445814124005, 1.923241953727247, 1.0, 0.0, 0.0, 0.0, 0.0, 0.0, 0.0, 0.0)</td>\n",
              "      <td>[-0.9986044457387548, 0.9986044457387548]</td>\n",
              "      <td>1.0</td>\n",
              "      <td>[0.2692158924512091, 0.7307841075487909]</td>\n",
              "    </tr>\n",
              "    <tr>\n",
              "      <th>4</th>\n",
              "      <td>0</td>\n",
              "      <td>(2.9933445814124005, 0.42455672267709643, 1.0, 1.0, 0.0, 0.0, 0.0, 0.0, 1.0, 0.0)</td>\n",
              "      <td>[3.870104719095642, -3.870104719095642]</td>\n",
              "      <td>0.0</td>\n",
              "      <td>[0.9795699085033419, 0.02043009149665806]</td>\n",
              "    </tr>\n",
              "  </tbody>\n",
              "</table>\n",
              "</div>"
            ],
            "text/plain": [
              "   repeat_customer  \\\n",
              "0                1   \n",
              "1                0   \n",
              "2                0   \n",
              "3                1   \n",
              "4                0   \n",
              "\n",
              "                                                                        all_features  \\\n",
              "0     (5.388020246542321, 3.349752541922291, 0.0, 0.0, 0.0, 0.0, 0.0, 1.0, 0.0, 1.0)   \n",
              "1     (3.5920134976948805, 1.54114090331786, 1.0, 0.0, 0.0, 1.0, 0.0, 0.0, 1.0, 0.0)   \n",
              "2     (5.986689162824801, 2.373272079764969, 1.0, 0.0, 0.0, 0.0, 0.0, 1.0, 0.0, 1.0)   \n",
              "3    (2.9933445814124005, 1.923241953727247, 1.0, 0.0, 0.0, 0.0, 0.0, 0.0, 0.0, 0.0)   \n",
              "4  (2.9933445814124005, 0.42455672267709643, 1.0, 1.0, 0.0, 0.0, 0.0, 0.0, 1.0, 0.0)   \n",
              "\n",
              "                               rawPrediction  prediction  \\\n",
              "0    [-3.676930509980834, 3.676930509980834]         1.0   \n",
              "1  [0.7495174373004657, -0.7495174373004657]         0.0   \n",
              "2  [0.5555128924306376, -0.5555128924306376]         0.0   \n",
              "3  [-0.9986044457387548, 0.9986044457387548]         1.0   \n",
              "4    [3.870104719095642, -3.870104719095642]         0.0   \n",
              "\n",
              "                                 probability  \n",
              "0  [0.02467619499620453, 0.9753238050037955]  \n",
              "1   [0.6790735420886259, 0.3209264579113741]  \n",
              "2   [0.6354136758421335, 0.3645863241578665]  \n",
              "3   [0.2692158924512091, 0.7307841075487909]  \n",
              "4  [0.9795699085033419, 0.02043009149665806]  "
            ]
          },
          "execution_count": 114,
          "metadata": {},
          "output_type": "execute_result"
        }
      ],
      "source": [
        "predictions = lr_model.transform(test_transformed)\n",
        "predictions.select('repeat_customer','all_features','rawPrediction','prediction','probability').limit(5).toPandas()"
      ]
    },
    {
      "cell_type": "code",
      "execution_count": null,
      "metadata": {
        "id": "srShMBsFC3s_",
        "outputId": "22716eb1-644f-4c95-9bb9-a6deae4e3e57"
      },
      "outputs": [
        {
          "name": "stdout",
          "output_type": "stream",
          "text": [
            "Test Area under ROC: 0.9601139601139601\n"
          ]
        }
      ],
      "source": [
        "from pyspark.ml.evaluation import BinaryClassificationEvaluator\n",
        "evaluator = BinaryClassificationEvaluator(labelCol='repeat_customer', rawPredictionCol='rawPrediction')\n",
        "\n",
        "print(\"Test Area under ROC: {}\".format(evaluator.evaluate(predictions)))"
      ]
    },
    {
      "cell_type": "code",
      "execution_count": null,
      "metadata": {
        "id": "CD8EATPtC3s_",
        "outputId": "2af5ad63-9167-451a-b332-3edc10deda84"
      },
      "outputs": [
        {
          "name": "stdout",
          "output_type": "stream",
          "text": [
            "Accuracy :  0.9130434782608695\n"
          ]
        }
      ],
      "source": [
        "accuracy = predictions.filter(predictions.repeat_customer == predictions.prediction).count() / float(predictions.count())\n",
        "print(\"Accuracy : \",accuracy)"
      ]
    },
    {
      "cell_type": "code",
      "execution_count": null,
      "metadata": {
        "id": "zx21nvKQC3s_",
        "outputId": "f5bf54bb-676d-4e67-8d67-b4ea6042d649"
      },
      "outputs": [
        {
          "name": "stdout",
          "output_type": "stream",
          "text": [
            "Model Weights:\n"
          ]
        },
        {
          "ename": "ValueError",
          "evalue": "Shape of passed values is (10, 1), indices imply (5, 1)",
          "output_type": "error",
          "traceback": [
            "\u001b[0;31m---------------------------------------------------------------------------\u001b[0m",
            "\u001b[0;31mValueError\u001b[0m                                Traceback (most recent call last)",
            "\u001b[0;32m<ipython-input-117-1d61d5474ee1>\u001b[0m in \u001b[0;36m<module>\u001b[0;34m\u001b[0m\n\u001b[1;32m      2\u001b[0m \u001b[0mprint\u001b[0m\u001b[0;34m(\u001b[0m\u001b[0;34m\"Model Weights:\"\u001b[0m\u001b[0;34m)\u001b[0m\u001b[0;34m\u001b[0m\u001b[0m\n\u001b[1;32m      3\u001b[0m \u001b[0mfeature_names\u001b[0m\u001b[0;34m=\u001b[0m\u001b[0;34m[\u001b[0m\u001b[0;34m'days_until_shipped'\u001b[0m\u001b[0;34m,\u001b[0m \u001b[0;34m'total'\u001b[0m\u001b[0;34m,\u001b[0m \u001b[0;34m'customer_type_index'\u001b[0m\u001b[0;34m,\u001b[0m \u001b[0;34m'product_line_index'\u001b[0m\u001b[0;34m,\u001b[0m \u001b[0;34m'store_location_index'\u001b[0m\u001b[0;34m]\u001b[0m\u001b[0;34m\u001b[0m\u001b[0m\n\u001b[0;32m----> 4\u001b[0;31m \u001b[0mpd\u001b[0m\u001b[0;34m.\u001b[0m\u001b[0mDataFrame\u001b[0m\u001b[0;34m(\u001b[0m\u001b[0;34m[\u001b[0m\u001b[0mfloat\u001b[0m\u001b[0;34m(\u001b[0m\u001b[0mw\u001b[0m\u001b[0;34m)\u001b[0m \u001b[0;32mfor\u001b[0m \u001b[0mw\u001b[0m \u001b[0;32min\u001b[0m \u001b[0mweights\u001b[0m\u001b[0;34m]\u001b[0m\u001b[0;34m,\u001b[0m \u001b[0mcolumns\u001b[0m\u001b[0;34m=\u001b[0m\u001b[0;34m[\u001b[0m\u001b[0;34m'Feature Weight'\u001b[0m\u001b[0;34m]\u001b[0m\u001b[0;34m,\u001b[0m \u001b[0mindex\u001b[0m\u001b[0;34m=\u001b[0m\u001b[0mfeature_names\u001b[0m\u001b[0;34m)\u001b[0m\u001b[0;34m\u001b[0m\u001b[0m\n\u001b[0m\u001b[1;32m      5\u001b[0m \u001b[0;34m\u001b[0m\u001b[0m\n",
            "\u001b[0;32m/usr/lib/python3.7/site-packages/pandas/core/frame.py\u001b[0m in \u001b[0;36m__init__\u001b[0;34m(self, data, index, columns, dtype, copy)\u001b[0m\n\u001b[1;32m    715\u001b[0m                         \u001b[0mdtype\u001b[0m\u001b[0;34m=\u001b[0m\u001b[0mdtype\u001b[0m\u001b[0;34m,\u001b[0m\u001b[0;34m\u001b[0m\u001b[0m\n\u001b[1;32m    716\u001b[0m                         \u001b[0mcopy\u001b[0m\u001b[0;34m=\u001b[0m\u001b[0mcopy\u001b[0m\u001b[0;34m,\u001b[0m\u001b[0;34m\u001b[0m\u001b[0m\n\u001b[0;32m--> 717\u001b[0;31m                         \u001b[0mtyp\u001b[0m\u001b[0;34m=\u001b[0m\u001b[0mmanager\u001b[0m\u001b[0;34m,\u001b[0m\u001b[0;34m\u001b[0m\u001b[0m\n\u001b[0m\u001b[1;32m    718\u001b[0m                     )\n\u001b[1;32m    719\u001b[0m             \u001b[0;32melse\u001b[0m\u001b[0;34m:\u001b[0m\u001b[0;34m\u001b[0m\u001b[0m\n",
            "\u001b[0;32m/usr/lib/python3.7/site-packages/pandas/core/internals/construction.py\u001b[0m in \u001b[0;36mndarray_to_mgr\u001b[0;34m(values, index, columns, dtype, copy, typ)\u001b[0m\n\u001b[1;32m    322\u001b[0m     )\n\u001b[1;32m    323\u001b[0m \u001b[0;34m\u001b[0m\u001b[0m\n\u001b[0;32m--> 324\u001b[0;31m     \u001b[0m_check_values_indices_shape_match\u001b[0m\u001b[0;34m(\u001b[0m\u001b[0mvalues\u001b[0m\u001b[0;34m,\u001b[0m \u001b[0mindex\u001b[0m\u001b[0;34m,\u001b[0m \u001b[0mcolumns\u001b[0m\u001b[0;34m)\u001b[0m\u001b[0;34m\u001b[0m\u001b[0m\n\u001b[0m\u001b[1;32m    325\u001b[0m \u001b[0;34m\u001b[0m\u001b[0m\n\u001b[1;32m    326\u001b[0m     \u001b[0;32mif\u001b[0m \u001b[0mtyp\u001b[0m \u001b[0;34m==\u001b[0m \u001b[0;34m\"array\"\u001b[0m\u001b[0;34m:\u001b[0m\u001b[0;34m\u001b[0m\u001b[0m\n",
            "\u001b[0;32m/usr/lib/python3.7/site-packages/pandas/core/internals/construction.py\u001b[0m in \u001b[0;36m_check_values_indices_shape_match\u001b[0;34m(values, index, columns)\u001b[0m\n\u001b[1;32m    391\u001b[0m         \u001b[0mpassed\u001b[0m \u001b[0;34m=\u001b[0m \u001b[0mvalues\u001b[0m\u001b[0;34m.\u001b[0m\u001b[0mshape\u001b[0m\u001b[0;34m\u001b[0m\u001b[0m\n\u001b[1;32m    392\u001b[0m         \u001b[0mimplied\u001b[0m \u001b[0;34m=\u001b[0m \u001b[0;34m(\u001b[0m\u001b[0mlen\u001b[0m\u001b[0;34m(\u001b[0m\u001b[0mindex\u001b[0m\u001b[0;34m)\u001b[0m\u001b[0;34m,\u001b[0m \u001b[0mlen\u001b[0m\u001b[0;34m(\u001b[0m\u001b[0mcolumns\u001b[0m\u001b[0;34m)\u001b[0m\u001b[0;34m)\u001b[0m\u001b[0;34m\u001b[0m\u001b[0m\n\u001b[0;32m--> 393\u001b[0;31m         \u001b[0;32mraise\u001b[0m \u001b[0mValueError\u001b[0m\u001b[0;34m(\u001b[0m\u001b[0;34mf\"Shape of passed values is {passed}, indices imply {implied}\"\u001b[0m\u001b[0;34m)\u001b[0m\u001b[0;34m\u001b[0m\u001b[0m\n\u001b[0m\u001b[1;32m    394\u001b[0m \u001b[0;34m\u001b[0m\u001b[0m\n\u001b[1;32m    395\u001b[0m \u001b[0;34m\u001b[0m\u001b[0m\n",
            "\u001b[0;31mValueError\u001b[0m: Shape of passed values is (10, 1), indices imply (5, 1)"
          ]
        }
      ],
      "source": [
        "weights = lr_model.coefficients\n",
        "print(\"Model Weights:\")\n",
        "feature_names=['days_until_shipped', 'total', 'customer_type_index', 'product_line_index', 'store_location_index']\n",
        "pd.DataFrame([float(w) for w in weights], columns=['Feature Weight'], index=feature_names)\n",
        "\n"
      ]
    },
    {
      "cell_type": "code",
      "execution_count": null,
      "metadata": {
        "collapsed": true,
        "id": "9BC4IME0C3s_"
      },
      "outputs": [],
      "source": [
        "product_line_categories = combined_table_calc.select(\"product_line\").distinct().count()\n",
        "store_location_categories = combined_table_calc.select(\"store_location_code\").distinct().count()"
      ]
    },
    {
      "cell_type": "code",
      "execution_count": null,
      "metadata": {
        "id": "bAiX47LEC3tA",
        "outputId": "832d223d-dee3-44cd-e5f4-19f56ad7e745"
      },
      "outputs": [
        {
          "name": "stdout",
          "output_type": "stream",
          "text": [
            "6\n"
          ]
        }
      ],
      "source": [
        "print(product_line_categories)"
      ]
    },
    {
      "cell_type": "code",
      "execution_count": null,
      "metadata": {
        "id": "a0Vnjv4jC3tA",
        "outputId": "5801ce83-bc26-4f03-87b6-0324a0b6c874"
      },
      "outputs": [
        {
          "name": "stdout",
          "output_type": "stream",
          "text": [
            "3\n"
          ]
        }
      ],
      "source": [
        "print(store_location_categories)"
      ]
    },
    {
      "cell_type": "code",
      "execution_count": null,
      "metadata": {
        "collapsed": true,
        "id": "7FfYFzNTC3tA"
      },
      "outputs": [],
      "source": []
    }
  ],
  "metadata": {
    "kernelspec": {
      "display_name": "Python 3.7",
      "language": "python",
      "name": "python37"
    },
    "language_info": {
      "codemirror_mode": {
        "name": "ipython",
        "version": 3
      },
      "file_extension": ".py",
      "mimetype": "text/x-python",
      "name": "python",
      "nbconvert_exporter": "python",
      "pygments_lexer": "ipython3",
      "version": "3.7.5"
    },
    "colab": {
      "provenance": []
    }
  },
  "nbformat": 4,
  "nbformat_minor": 0
}